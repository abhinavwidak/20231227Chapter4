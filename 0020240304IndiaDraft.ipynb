{
 "cells": [
  {
   "cell_type": "code",
   "execution_count": 8,
   "id": "b48796db-ca3c-487d-8ec2-66e866a6dd79",
   "metadata": {},
   "outputs": [],
   "source": [
    "# Import necessary libraries\n",
    "import ee\n",
    "import geemap\n",
    "\n",
    "# Authenticate to Earth Engine\n",
    "#ee.Authenticate()\n",
    "ee.Initialize()\n"
   ]
  },
  {
   "cell_type": "markdown",
   "id": "caf6a3ec-e8d5-4515-8d07-b96773303b3e",
   "metadata": {
    "tags": []
   },
   "source": [
    "\n",
    "# Urban Expansion and Ecosystem Health: Exploring the Dynamics of Land-Cover Changes and Ecosystem Services in the National Capital Region of India\n",
    "\n",
    "## Introduction\n",
    "Urbanization, with its ever-expanding footprint, demands a critical examination in the context of sustainable urban development. In this regard, the exploration of land-cover changes and their ramifications for Ecosystem Services (ES) and Ecosystem Condition (EC) holds significant importance (Berton et al., 2017; Feddern et al., 2023; Jonas et al., 2015; Ratcliffe et al., 2016; Vogel et al., 2021). ES encompasses the invaluable benefits provided by ecosystems to humanity, including clean air, water, food production, and waste disposal. EC, conversely, signifies the health and resilience of ecosystems (De Groot et al., 2002).\n",
    "\n",
    "An essential assumption relevant to the study of urbanization and land-cover changes is the potential scenario where the supply of ES within cities exceeds its own capacity to provide them, leading to an \"Ecosystem Service deficit\" (Vogel et al., 2021). This phenomenon has profound implications for the sustainability and resilience of urban and peri-urban regions (Feddern et al., 2023).\n",
    "\n",
    "\n",
    "#### Literature Review\n",
    "\n",
    "With more and more data available, the research on the impact of urbanization on the environment has gained a heavy momentum. We now have more and better quality data available to be used. Most research which is from a period before the 2000, includes analysis on \n",
    "-\n",
    "-\n",
    "-\n",
    "-\n",
    "\n"
   ]
  },
  {
   "cell_type": "code",
   "execution_count": 12,
   "id": "89c17279",
   "metadata": {},
   "outputs": [
    {
     "ename": "NameError",
     "evalue": "name 'rc' is not defined",
     "output_type": "error",
     "traceback": [
      "\u001b[0;31m---------------------------------------------------------------------------\u001b[0m",
      "\u001b[0;31mNameError\u001b[0m                                 Traceback (most recent call last)",
      "\u001b[0;32m/var/folders/ly/rgjn5pn521xds5tj0m76ys_40000gn/T/ipykernel_48952/2917277091.py\u001b[0m in \u001b[0;36m<module>\u001b[0;34m\u001b[0m\n\u001b[1;32m      1\u001b[0m \u001b[0;31m# Filter records published before 2000\u001b[0m\u001b[0;34m\u001b[0m\u001b[0;34m\u001b[0m\u001b[0m\n\u001b[0;32m----> 2\u001b[0;31m \u001b[0mrc_filtered\u001b[0m \u001b[0;34m=\u001b[0m \u001b[0mrc\u001b[0m\u001b[0;34m.\u001b[0m\u001b[0myearSplit\u001b[0m\u001b[0;34m(\u001b[0m\u001b[0;32mNone\u001b[0m\u001b[0;34m,\u001b[0m \u001b[0;36m2000\u001b[0m\u001b[0;34m)\u001b[0m\u001b[0;34m\u001b[0m\u001b[0;34m\u001b[0m\u001b[0m\n\u001b[0m\u001b[1;32m      3\u001b[0m \u001b[0;34m\u001b[0m\u001b[0m\n\u001b[1;32m      4\u001b[0m \u001b[0;31m# List the keywords for the filtered records\u001b[0m\u001b[0;34m\u001b[0m\u001b[0;34m\u001b[0m\u001b[0m\n\u001b[1;32m      5\u001b[0m \u001b[0mkeywords\u001b[0m \u001b[0;34m=\u001b[0m \u001b[0;34m[\u001b[0m\u001b[0;34m]\u001b[0m\u001b[0;34m\u001b[0m\u001b[0;34m\u001b[0m\u001b[0m\n",
      "\u001b[0;31mNameError\u001b[0m: name 'rc' is not defined"
     ]
    }
   ],
   "source": [
    "# Filter records published before 2000\n",
    "rc_filtered = rc.yearSplit(None, 2000)\n",
    "\n",
    "# List the keywords for the filtered records\n",
    "keywords = []\n",
    "for record in rc_filtered:\n",
    "    record_keywords = record.get('DE')  # Get the keywords of the record\n",
    "    if record_keywords:\n",
    "        # Split the keywords string into a list of keywords and add them to the list\n",
    "        keywords.extend(record_keywords.split('; '))\n",
    "\n",
    "# Print the entire list of keywords\n",
    "print(keywords)\n"
   ]
  },
  {
   "cell_type": "markdown",
   "id": "cb5f7269",
   "metadata": {},
   "source": [
    "\n",
    "as common databases. However, with the advent of new technologies, we now have access to more data. Some of the most common databases used in the recent research are keywords_per_year. The list includes databases like\n",
    "-\n",
    "-\n",
    "-\n",
    "-\n",
    "the data availability is not only higher, but also now, we are able to capture a wider range of data which gives us a more nuanced look at the nature and timeline of the change with high accuracy. In the papers which are published after 2000, we see a broader coverage of topics, some of which due to the availability of data, were not possible before. Some of the most common topics are in the list below. the list has been compiled from segregating the author keywords from the papers published after 2000. The list is not exhaustive, but it gives a good idea of the topics which are being researched on.\n",
    "\n",
    "\n",
    "```\n",
    "import metaknowledge as mk\n",
    "rc = mk.RecordCollection(\"C:\\\\Users\\\\abhin\\\\Downloads\\\\savedrecs (3).txt\")\n",
    "from collections import Counter\n",
    "import pandas as pd\n",
    "\n",
    "# Create a dictionary to store the keywords for each year\n",
    "keywords_per_year = {}\n",
    "\n",
    "# Iterate over the records in the RecordCollection\n",
    "for record in rc:\n",
    "    year = record['PY']\n",
    "    keywords = record.get('DE')  # Get the keywords of the record\n",
    "    if keywords:\n",
    "        # Check if keywords is a list\n",
    "        if isinstance(keywords, list):\n",
    "            keywords = '; '.join(keywords)  # Join the elements with a delimiter\n",
    "        # Split the keywords string into a list of keywords\n",
    "        keywords_list = keywords.split('; ')\n",
    "        # If the year is not already in the dictionary, add it\n",
    "        if year not in keywords_per_year:\n",
    "            keywords_per_year[year] = Counter()\n",
    "        # Update the Counter for the year\n",
    "        keywords_per_year[year].update(keywords_list)\n",
    "\n",
    "# Create a DataFrame from the dictionary\n",
    "df = pd.DataFrame(keywords_per_year).transpose().fillna(0)\n",
    "\n",
    "# Transpose the DataFrame\n",
    "df_transposed = df.transpose()\n",
    "\n",
    "# Display the transposed DataFrame\n",
    "print(df_transposed)\n",
    "```\n",
    "\n",
    "\n"
   ]
  },
  {
   "cell_type": "markdown",
   "id": "e18c46bf",
   "metadata": {},
   "source": [
    "\n",
    "```\n",
    "\n",
    "# Create a Counter to store all keywords and abstract words\n",
    "all_words = Counter()\n",
    "\n",
    "# Define a set of stop words\n",
    "stop_words = set(stopwords.words('english'))\n",
    "\n",
    "# Add additional words to the set\n",
    "stop_words.update(['The', 'using'])  # Replace with your words\n",
    "\n",
    "# Iterate over the records in the RecordCollection\n",
    "for record in rc:\n",
    "    year = record['PY']\n",
    "    keywords = record.get('DE')  # Get the keywords of the record\n",
    "    abstract = record.get('AB')  # Get the abstract of the record\n",
    "    if keywords:\n",
    "        # Check if keywords is a list\n",
    "        if isinstance(keywords, list):\n",
    "            keywords = '; '.join(keywords)  # Join the elements with a delimiter\n",
    "        # Split the keywords string into a list of keywords\n",
    "        keywords_list = keywords.split('; ')\n",
    "        # Update the Counter for the year\n",
    "        all_words.update(keywords_list)\n",
    "    if abstract:\n",
    "        # Remove non-alphabetic characters from the abstract\n",
    "        abstract = re.sub('[^a-zA-Z]', ' ', abstract)\n",
    "        # Tokenize the abstract into words\n",
    "        abstract_words = word_tokenize(abstract)\n",
    "        # Remove stop words from the abstract words\n",
    "        abstract_words = [word for word in abstract_words if word not in stop_words]\n",
    "        # Update the Counter for the year\n",
    "        all_words.update(abstract_words)\n",
    "\n",
    "# Get the ten most common words\n",
    "most_common_words = all_words.most_common(20)\n",
    "\n",
    "# Print the ten most common words\n",
    "for word, count in most_common_words:\n",
    "    print(f\"{word}: {count}\")\n",
    "\n",
    "````\n"
   ]
  },
  {
   "cell_type": "code",
   "execution_count": 11,
   "id": "f7e7e2cc",
   "metadata": {},
   "outputs": [
    {
     "ename": "RCTypeError",
     "evalue": "'/Users/rishi/OneDrive - Michigan State University/020240118CICES India/C:\\Users\\abhin\\Downloads\\savedrecs (3).txt' is not a path to a directory or file. Strings cannot be used to initialize RecordCollections",
     "output_type": "error",
     "traceback": [
      "\u001b[0;31m---------------------------------------------------------------------------\u001b[0m",
      "\u001b[0;31mRCTypeError\u001b[0m                               Traceback (most recent call last)",
      "\u001b[0;32m/var/folders/ly/rgjn5pn521xds5tj0m76ys_40000gn/T/ipykernel_44863/1850444853.py\u001b[0m in \u001b[0;36m<module>\u001b[0;34m\u001b[0m\n\u001b[1;32m      1\u001b[0m \u001b[0;32mimport\u001b[0m \u001b[0mmetaknowledge\u001b[0m \u001b[0;32mas\u001b[0m \u001b[0mmk\u001b[0m\u001b[0;34m\u001b[0m\u001b[0;34m\u001b[0m\u001b[0m\n\u001b[0;32m----> 2\u001b[0;31m \u001b[0mrc\u001b[0m \u001b[0;34m=\u001b[0m \u001b[0mmk\u001b[0m\u001b[0;34m.\u001b[0m\u001b[0mRecordCollection\u001b[0m\u001b[0;34m(\u001b[0m\u001b[0;34m\"C:\\\\Users\\\\abhin\\\\Downloads\\\\savedrecs (3).txt\"\u001b[0m\u001b[0;34m)\u001b[0m\u001b[0;34m\u001b[0m\u001b[0;34m\u001b[0m\u001b[0m\n\u001b[0m\u001b[1;32m      3\u001b[0m \u001b[0;32mfrom\u001b[0m \u001b[0mcollections\u001b[0m \u001b[0;32mimport\u001b[0m \u001b[0mCounter\u001b[0m\u001b[0;34m\u001b[0m\u001b[0;34m\u001b[0m\u001b[0m\n\u001b[1;32m      4\u001b[0m \u001b[0;32mimport\u001b[0m \u001b[0mpandas\u001b[0m \u001b[0;32mas\u001b[0m \u001b[0mpd\u001b[0m\u001b[0;34m\u001b[0m\u001b[0;34m\u001b[0m\u001b[0m\n\u001b[1;32m      5\u001b[0m \u001b[0;32mimport\u001b[0m \u001b[0mos\u001b[0m\u001b[0;34m\u001b[0m\u001b[0;34m\u001b[0m\u001b[0m\n",
      "\u001b[0;32m~/opt/anaconda3/lib/python3.9/site-packages/metaknowledge/recordCollection.py\u001b[0m in \u001b[0;36m__init__\u001b[0;34m(self, inCollection, name, extension, cached, quietStart)\u001b[0m\n\u001b[1;32m    149\u001b[0m                                 \u001b[0;32mpass\u001b[0m\u001b[0;34m\u001b[0m\u001b[0;34m\u001b[0m\u001b[0m\n\u001b[1;32m    150\u001b[0m                 \u001b[0;32melse\u001b[0m\u001b[0;34m:\u001b[0m\u001b[0;34m\u001b[0m\u001b[0;34m\u001b[0m\u001b[0m\n\u001b[0;32m--> 151\u001b[0;31m                     \u001b[0;32mraise\u001b[0m \u001b[0mRCTypeError\u001b[0m\u001b[0;34m(\u001b[0m\u001b[0;34m\"'{}' is not a path to a directory or file. Strings cannot be used to initialize RecordCollections\"\u001b[0m\u001b[0;34m.\u001b[0m\u001b[0mformat\u001b[0m\u001b[0;34m(\u001b[0m\u001b[0minCollection\u001b[0m\u001b[0;34m)\u001b[0m\u001b[0;34m)\u001b[0m\u001b[0;34m\u001b[0m\u001b[0;34m\u001b[0m\u001b[0m\n\u001b[0m\u001b[1;32m    152\u001b[0m             \u001b[0;32melif\u001b[0m \u001b[0misinstance\u001b[0m\u001b[0;34m(\u001b[0m\u001b[0minCollection\u001b[0m\u001b[0;34m,\u001b[0m \u001b[0mcollections\u001b[0m\u001b[0;34m.\u001b[0m\u001b[0mabc\u001b[0m\u001b[0;34m.\u001b[0m\u001b[0mIterable\u001b[0m\u001b[0;34m)\u001b[0m\u001b[0;34m:\u001b[0m\u001b[0;34m\u001b[0m\u001b[0;34m\u001b[0m\u001b[0m\n\u001b[1;32m    153\u001b[0m                 \u001b[0mPBar\u001b[0m\u001b[0;34m.\u001b[0m\u001b[0mupdateVal\u001b[0m\u001b[0;34m(\u001b[0m\u001b[0;36m.5\u001b[0m\u001b[0;34m,\u001b[0m \u001b[0;34m\"RecordCollection from an iterable started\"\u001b[0m\u001b[0;34m)\u001b[0m\u001b[0;34m\u001b[0m\u001b[0;34m\u001b[0m\u001b[0m\n",
      "\u001b[0;31mRCTypeError\u001b[0m: '/Users/rishi/OneDrive - Michigan State University/020240118CICES India/C:\\Users\\abhin\\Downloads\\savedrecs (3).txt' is not a path to a directory or file. Strings cannot be used to initialize RecordCollections"
     ]
    }
   ],
   "source": [
    "import metaknowledge as mk\n",
    "rc = mk.RecordCollection(\"C:\\\\Users\\\\abhin\\\\Downloads\\\\savedrecs (3).txt\")\n",
    "from collections import Counter\n",
    "import pandas as pd\n",
    "import os\n",
    "\n",
    "# Create a dictionary to store the keywords for each year\n",
    "keywords_per_year = {}\n",
    "\n",
    "# Get the absolute path of the file\n",
    "file_path = os.path.abspath(\"C:\\\\Users\\\\abhin\\\\Downloads\\\\savedrecs (3).txt\")\n",
    "\n",
    "# Initialize the RecordCollection with the correct file path\n",
    "rc = mk.RecordCollection(file_path)\n",
    "\n",
    "# Iterate over the records in the RecordCollection\n",
    "for record in rc:\n",
    "    year = record['PY']\n",
    "    keywords = record.get('DE')  # Get the keywords of the record\n",
    "    if keywords:\n",
    "        # Check if keywords is a list\n",
    "        if isinstance(keywords, list):\n",
    "            keywords = '; '.join(keywords)  # Join the elements with a delimiter\n",
    "        # Split the keywords string into a list of keywords\n",
    "        keywords_list = keywords.split('; ')\n",
    "        # If the year is not already in the dictionary, add it\n",
    "        if year not in keywords_per_year:\n",
    "            keywords_per_year[year] = Counter()\n",
    "        # Update the Counter for the year\n",
    "        keywords_per_year[year].update(keywords_list)\n",
    "\n",
    "# Create a DataFrame from the dictionary\n",
    "df = pd.DataFrame(keywords_per_year).transpose().fillna(0)\n",
    "\n",
    "# Transpose the DataFrame\n",
    "df_transposed = df.transpose()\n",
    "\n",
    "# Display the transposed DataFrame\n",
    "print(df_transposed)\n"
   ]
  },
  {
   "cell_type": "code",
   "execution_count": 13,
   "id": "0ea8812c",
   "metadata": {},
   "outputs": [
    {
     "ename": "NameError",
     "evalue": "name 'rc' is not defined",
     "output_type": "error",
     "traceback": [
      "\u001b[0;31m---------------------------------------------------------------------------\u001b[0m",
      "\u001b[0;31mNameError\u001b[0m                                 Traceback (most recent call last)",
      "\u001b[0;32m/var/folders/ly/rgjn5pn521xds5tj0m76ys_40000gn/T/ipykernel_48952/3983955192.py\u001b[0m in \u001b[0;36m<module>\u001b[0;34m\u001b[0m\n\u001b[1;32m     13\u001b[0m \u001b[0;34m\u001b[0m\u001b[0m\n\u001b[1;32m     14\u001b[0m \u001b[0;31m# Iterate over the records in the RecordCollection\u001b[0m\u001b[0;34m\u001b[0m\u001b[0;34m\u001b[0m\u001b[0m\n\u001b[0;32m---> 15\u001b[0;31m \u001b[0;32mfor\u001b[0m \u001b[0mrecord\u001b[0m \u001b[0;32min\u001b[0m \u001b[0mrc\u001b[0m\u001b[0;34m:\u001b[0m\u001b[0;34m\u001b[0m\u001b[0;34m\u001b[0m\u001b[0m\n\u001b[0m\u001b[1;32m     16\u001b[0m     \u001b[0myear\u001b[0m \u001b[0;34m=\u001b[0m \u001b[0mrecord\u001b[0m\u001b[0;34m[\u001b[0m\u001b[0;34m'PY'\u001b[0m\u001b[0;34m]\u001b[0m\u001b[0;34m\u001b[0m\u001b[0;34m\u001b[0m\u001b[0m\n\u001b[1;32m     17\u001b[0m     \u001b[0mkeywords\u001b[0m \u001b[0;34m=\u001b[0m \u001b[0mrecord\u001b[0m\u001b[0;34m.\u001b[0m\u001b[0mget\u001b[0m\u001b[0;34m(\u001b[0m\u001b[0;34m'DE'\u001b[0m\u001b[0;34m)\u001b[0m  \u001b[0;31m# Get the keywords of the record\u001b[0m\u001b[0;34m\u001b[0m\u001b[0;34m\u001b[0m\u001b[0m\n",
      "\u001b[0;31mNameError\u001b[0m: name 'rc' is not defined"
     ]
    }
   ],
   "source": [
    "from collections import Counter\n",
    "from nltk.corpus import stopwords\n",
    "from nltk.tokenize import word_tokenize\n",
    "\n",
    "# Create a Counter to store all keywords and abstract words\n",
    "all_words = Counter()\n",
    "\n",
    "# Define a set of stop words\n",
    "stop_words = set(stopwords.words('english'))\n",
    "\n",
    "# Add additional words to the set\n",
    "stop_words.update(['The', 'using'])  # Replace with your words\n",
    "\n",
    "# Iterate over the records in the RecordCollection\n",
    "for record in rc:\n",
    "    year = record['PY']\n",
    "    keywords = record.get('DE')  # Get the keywords of the record\n",
    "    abstract = record.get('AB')  # Get the abstract of the record\n",
    "    if keywords:\n",
    "        # Check if keywords is a list\n",
    "        if isinstance(keywords, list):\n",
    "            keywords = '; '.join(keywords)  # Join the elements with a delimiter\n",
    "        # Split the keywords string into a list of keywords\n",
    "        keywords_list = keywords.split('; ')\n",
    "        # Update the Counter for the year\n",
    "        all_words.update(keywords_list)\n",
    "    if abstract:\n",
    "        # Remove non-alphabetic characters from the abstract\n",
    "        abstract = re.sub('[^a-zA-Z]', ' ', abstract)\n",
    "        # Tokenize the abstract into words\n",
    "        abstract_words = word_tokenize(abstract)\n",
    "        # Remove stop words from the abstract words\n",
    "        abstract_words = [word for word in abstract_words if word not in stop_words]\n",
    "        # Update the Counter for the year\n",
    "        all_words.update(abstract_words)\n",
    "\n",
    "# Get the ten most common words\n",
    "most_common_words = all_words.most_common(20)\n",
    "\n",
    "# Print the ten most common words\n",
    "for word, count in most_common_words:\n",
    "    print(f\"{word}: {count}\")\n"
   ]
  },
  {
   "cell_type": "code",
   "execution_count": null,
   "id": "3ce60d89",
   "metadata": {},
   "outputs": [],
   "source": [
    "import pandas as pd\n",
    "from scipy.cluster.hierarchy import dendrogram, linkage\n",
    "import matplotlib.pyplot as plt\n",
    "\n",
    "# Sample data from the provided snippet\n",
    "data = {\n",
    "    '2022': [1.0, 1.0, 1.0, 1.0, 1.0, 0.0, 0.0],\n",
    "    '2023': [0.0, 0.0, 0.0, 0.0, 0.0, 0.0, 0.0],\n",
    "    '2018': [0.0, 0.0, 0.0, 0.0, 0.0, 0.0, 0.0],\n",
    "    '2015': [0.0, 0.0, 0.0, 0.0, 0.0, 0.0, 0.0],\n",
    "    '2016': [0.0, 0.0, 0.0, 0.0, 0.0, 0.0, 0.0],\n",
    "    '2020': [0.0, 0.0, 0.0, 0.0, 0.0, 0.0, 0.0],\n",
    "    '2021': [0.0, 0.0, 0.0, 0.0, 0.0, 0.0, 0.0],\n",
    "    '2017': [0.0, 0.0, 0.0, 0.0, 0.0, 0.0, 0.0]\n",
    "}\n",
    "\n",
    "keywords = ['sentinel-2', 'svm', 'ann', 'mlc', 'urban land cover land use', 'ndvi', 'nighttime light']\n",
    "\n",
    "# Create the dataframe\n",
    "df = pd.DataFrame(data, index=keywords)\n",
    "\n",
    "# Perform hierarchical clustering\n",
    "linked = linkage(df, 'single')\n",
    "\n",
    "# Plot the dendrogram\n",
    "plt.figure(figsize=(10, 7))\n",
    "dendrogram(linked, orientation='top', labels=df.index, distance_sort='descending', show_leaf_counts=True)\n",
    "plt.title('Hierarchical Clustering Dendrogram')\n",
    "plt.xlabel('Keyword')\n",
    "plt.ylabel('Distance')\n",
    "plt.show()\n"
   ]
  },
  {
   "cell_type": "markdown",
   "id": "78c68051",
   "metadata": {},
   "source": [
    "rc['PY', 'TI', 'SO', 'DI', 'AB', 'DE', 'ID', 'AU', 'RP', 'EM', 'C1', 'CR', 'NR', 'TC', 'Z9', 'U1', 'U2', 'SN', 'J9', 'VL', 'IS', 'BP', 'EP', 'PG', 'WC', 'SC', 'GA', 'UT', 'PMID', 'OA', 'HC', 'HP', 'DA', 'ER', 'EF', 'PT', 'AU_UN']\n"
   ]
  },
  {
   "cell_type": "markdown",
   "id": "1a8b6c42",
   "metadata": {},
   "source": [
    "\n",
    "**Sequence diagram of the research in the field of urbanization and land cover change.** \n",
    "\n",
    "The understanding seems to have moved from \n",
    "Urbanization and Environmental Impact (2011 & 2015 & 2021):\n"
   ]
  },
  {
   "cell_type": "markdown",
   "id": "9d496f65",
   "metadata": {},
   "source": [
    "\n",
    "\"Quantification of Urban Landscape Dynamics Using Patch Parameters and Landscape Indices: An Analytical Study of Ranchi\"\n",
    "\"Assessment of Urbanization of an Area with Hyperspectral Image Data\"\n",
    "\"Quantification of land transformation Using Multi Temporal Satellite Data and GIS Techniques\"\n",
    "\"Recent land use/land cover changes and their impact on the evolution and structure of thunderstorm in New Delhi\"\n",
    "\"Is Nigeria losing its natural vegetation and landscape? Assessing the landuse-landcover change trajectories and effects in Onitsha using remote sensing and GIS\"\n",
    "\"Prediction of land use changes based on Land Change Modeler and attribution of changes in the water balance of Ganga basin to land use change using the SWAT model\"\n",
    "\"Detecting urban markets with satellite imagery: An application to India\"\n",
    "\"Assessment of the anthropogenic interventions and related responses of Karala River, Jalpaiguri, India: a multiple indicator-based analysis\"\n",
    "Thunderstorms and Land Use Changes (2016):\n",
    "\n",
    "\"Recent land use/land cover changes and their impact on the evolution and structure of thunderstorm in New Delhi\"\n",
    "Vegetation Change and Geoinformatics (2017):\n",
    "\n",
    "\"Is Nigeria losing its natural vegetation and landscape? Assessing the landuse-landcover change trajectories and effects in Onitsha using remote sensing and GIS\"\n",
    "Water Resources and Land Use Modeling (2018):\n",
    "\n",
    "\"Prediction of land use changes based on Land Change Modeler and attribution of changes in the water balance of Ganga basin to land use change using the SWAT model\"\n",
    "Socio-environmental Development and Vegetation Analysis (2019):\n",
    "\n",
    "\"Slower vegetation greening faced faster social development on the landscape of the Belt and Road region\"\n",
    "Urban Heat Island Effect and Land Use (2020):\n",
    "\n",
    "\"Analysing the dynamic relationship of land surface temperature and landuse pattern: A city level analysis of two climatic regions in India\"\n",
    "Remote Sensing in Environmental Management (2022):\n",
    "\n",
    "\"Spatio-Temporal Analysis of the Impact of Landscape Changes on Vegetation and Land Surface Temperature over Tamil Nadu\"\n",
    "\"Blue-Green Infrastructure (BGI) network in urban areas for sustainable storm water management: A geospatial approach\"\n",
    "\"FLOOD SUSCEPTIBILITY ANALYSIS USING FREELY AVAILABLE DATA, GIS, AND FREQUENCY RATIO MODEL FOR NAGPUR, INDIA\"\n",
    "Climate Change Adaptation and Impact Analysis (2023):\n",
    "\n",
    "\"Blue-Green Infrastructure (BGI) network in urban areas for sustainable storm water management: A geospatial approach\"\n",
    "\"Investigating the influence of future landuse and climate change on hydrological regime of a humid tropical river basin\"\n",
    "\"FLOOD SUSCEPTIBILITY ANALYSIS USING FREELY AVAILABLE DATA, GIS, AND FREQUENCY RATIO MODEL FOR NAGPUR, INDIA\"\n",
    "\n",
    "A review of recent literature on ecosystem service supply \n",
    "\n",
    "Ecosystem services, as demonstrated in many studies, play a pivotal role in sustaining human well-being, and their provision is intrinsically linked to land cover dynamics, particularly in rapidly urbanizing areas such as the National Capital Territory (NCT) of Delhi. Peri-urban areas, situated on the urban-rural interface, provide a crucial supporting service by hosting a diverse array of pollinators essential for agriculture. However, urbanization in these regions leads to habitat loss and dwindling pollinator populations, posing a significant threat to food security (Pandey, 2017). Additionally, the transformation of rural landscapes into a mosaic of rural and urban land use due to peri-urbanization results in the loss of green cover, vegetation, and wetlands, undermining the generation of vital ecosystem services (Morya & Punia, 2021).\n",
    "\n",
    "The dynamic nature of ecosystem services value is evident in studies comparing their estimated worth before and after land use changes. Morya and Punia (2021) argue that prioritizing the conservation and enrichment of ecosystems of critical value is essential for sustainable urban development, shedding light on the importance of accounting for these shifts in urban planning. Moreover, the drainage of wetlands and natural features in peri-urban areas, a common consequence of urbanization, disrupts their flood regulation services, escalating flood risks in urban areas (Pandey, 2017). Urban flooding has been a persistent problem not only in Delhi but in Chennai, Mumbai, and other Indian cities as well, and the loss of flood regulation services in peri-urban areas is a significant contributing factor (Pandey, 2017). The loss of wetlands and natural features in peri-urban areas also leads to a decline in water purification services, which are essential for ensuring the availability of clean water in urban areas (Pandey, 2017). The loss of these services is particularly concerning in the context of Delhi, where the Yamuna River, a vital source of water for the city, is heavily polluted (Verma et al., 2016). Pollution of its single water source from the Yamuna, and other over ground natural sources of water, has led it to depend on groundwater. In the wake of this scarcity, loss of water purification services in peri-urban areas could even trigger a health crisis in the city. With more \n",
    "\n",
    "These insights hold profound implications for urban planning in peri-urban regions. Sharma (2020) underscores the importance of incorporating research findings into urban development strategies to safeguard natural resources, ecosystem services, and the well-being of urban residents. This interplay between land cover change, urbanization, and ecosystem services underscores the need for balanced urban growth strategies that preserve supporting services like pollinators and regulating services like flood regulation. By integrating scientific insights into urban planning, it is possible to strike a balance between urban expansion and the conservation of ecosystem services, ultimately contributing to the welfare of urban populations.\n",
    "\n",
    "### Research Questions, Hypotheses, and Rationale\n",
    "\n",
    "**Research Question 1:** What is the temporal lag between declining EC and the altered supply of ES to urban areas?\n",
    "\n",
    "**Hypothesis 1:** We hypothesize the existence of a temporal lag between the decline in EC and the corresponding changes in the supply of ES to urban areas. This lag is pivotal for comprehending the resilience of urban ecosystems and the potential consequences of delayed action in addressing ecological decline. Various authors have advanced several hypotheses concerning the nature of this temporal lag. Studies conducted by Chen et al. (2023) and Patru-Stupariu et al. (2020) underscore the importance of temporal analysis and how changes in EC affect the supply of ES to urban areas over time. Chen et al. (2023) emphasized the need for a comprehensive, multifaceted approach to quantifying ES indicators, indicating that EC dynamics can be influenced by a variety of factors, including urbanization. Patru-Stupariu et al. (2020) highlighted the significance of mapping as a foundation for spatial analyses, enabling the assessment of changes in mountain land use and its effects on ES. Both studies partly support the hypothesis that a temporal lag exists between declining EC and changes in ES supply to urban areas, as they emphasize the importance of understanding the dynamics and interplay between these two elements over time (Chen et al., 2023; Patru-Stupariu et al., 2020).\n",
    "\n",
    "**Research Question 2:** Does the surplus of ES supplied to urban areas correspond to a decline in ES supplied to peri-urban areas?\n",
    "\n",
    "**Hypothesis 2:** When urban areas receive an abundance of ecosystem services (ES), there might be a corresponding decline in ES supplied to peri-urban regions. This concept is crucial for unraveling the intricate connections between urban and peri-urban ecosystems and exploring potential trade-offs between them. Githiora-Murimi et al. (2022) have brought to light the dynamic nature of ES flow along the rural-urban spectrum, influenced by a myriad of interconnected factors. In their study exploring the supply of ES in the Yala swamp, Kenya, active engagement with local stakeholders responsible for managing and utilizing natural resources in the wetland was a central component. While the study doesn't explicitly delve into ES surpluses in urban core, it underscores the essential task of assessing ecosystems' capacity to furnish ES to diverse regions. The emphasis on involving stakeholders and gaining insights into ES distribution aligns with the hypothesis that trade-offs might indeed exist between ES supplied to urban and peri-urban areas (Githiora-Murimi et al., 2022).\n",
    "\n",
    "### Rationale\n",
    "\n",
    "While the literature acknowledges the ES>EC phenomenon, there exists a conspicuous dearth of comprehensive studies that delve into the temporal nuances and reciprocal consequences of this ecological deficit. This research endeavors to bridge this critical gap by meticulously dissecting land-cover changes, EC, and ES provisioning within the unique context of Delhi NCR, where urban expansion looms as an escalating concern (Barton et al., 2017; Feddern et al., 2023).\n",
    "\n",
    "A review of the literature clearly illustrates the significantly high proportion of studies in the field concerned with the challenges of urbanization and ecosystem health. By focusing on peri-urban regions, where the ES>EC dynamic is particularly pronounced, this study addresses a critical knowledge gap in the existing body of literature (Jonas et al., 2015). The inclusion of peri-urban areas in this research is vital, as they often represent the frontlines of urban expansion and bear the brunt of ecosystem service deficits.\n",
    "\n",
    "Understanding the temporal lag between EC decline and the altered supply of ES (RQ1) is pivotal for proactive policymaking. It enables the identification of a crucial intervention window between the decline in EC and the manifestation of adverse effects on ES supply, empowering policymakers with invaluable insights to implement timely measures that fortify ecosystem health and ensure the sustainable provisioning of ES (Ratcliffe et al., 2016). Additionally, exploring the reciprocal relationship between urban and peri-urban areas (RQ2) is pivotal for holistic urban planning. This exploration elucidates how the surplus of ES in urban cores can inadvertently impact peri-urban ecosystems, shedding light on potential trade-offs between them (Vogel et al., 2021).\n",
    "\n",
    "### Land cover change in Delhi-NCR from 2000 to 2020\n",
    "\n",
    "Previous literature has concurred that the region of Delhi NCR has seen some landcover change. Literature suggests that, when compared with Delhi, surrounding regions lying just outside delhi have been growing at a higher rate. Gurgaon, a city which is known for its rapid growth, has also been identified by literature as an outlier when it comes FDI led development.\n",
    "Confirming the findings of studies which measure the physical expansion of the region, a number of papers also suggest a demographic growth. This growth is fuelled to a large degree by migration.\n",
    "\n",
    "\n",
    "\n",
    "#### References:\n",
    "\n",
    "Barton, D. N., Lindhjem, H., & Lindhjem, H. (2017). Ecosystem services in the European Union: policy context and importance in an international context. Ecosystem Services, 26(Part A), 1–5.\n",
    "\n",
    "Chen, Q., Ma, Z., Shen, J., & Xu, Y. (2023). Temporal changes in ecosystem service values and ecological condition in the Qingpu District, Shanghai, China. Ecosystem Services, 56, 101466.\n",
    "\n",
    "De Groot, R., Fisher, B., Christie, M., Aronson, J., Braat, L., Gowdy, J., Haines-Young, R., Maltby, E., Neuville, A., Polasky, S., Portela, R., & Sukhdev, P. (2002). Integrating the ecological and economic dimensions in biodiversity and ecosystem service valuation. Ecosystem Services, 2(1), 8–21.\n",
    "\n",
    "Feddern, H. H., Díaz, S., Chan,\n",
    "\n",
    " K. M. A., Pascual, U., Ravera, F., & Rondinini, C. (2019). Biodiversity offsets for a megadiverse country: The limits of extinction risk approaches. Ecosystem Services, 39, 100998.\n",
    "\n",
    "Koschke, L., Fürst, C., Frank, S., Makeschin, F., & Härtl, F. (2012). Estimating the service area of ecosystems: A landscape ecology approach. Ecological Indicators, 23, 871–878.\n",
    "\n",
    "Lamarque, P., Tappeiner, U., & Turner, C. (2011). Stakeholder perceptions of the changes in ecosystem services in an Alpine region. Ecosystem Services, 4(3), 403–413.\n",
    "\n",
    "Liquete, C., Piroddi, C., Drakou, E. G., Gurney, L., Katsanevakis, S., Charef, A., Egoh, B., Gissi, E., Guerra, C., & Holmes, T. (2013). Current status and future prospects for the assessment of marine and coastal ecosystem services: A systematic review. PLoS ONE, 8(7), e67737.\n",
    "\n",
    "Mace, G. M., Norris, K., & Fitter, A. H. (2012). Biodiversity and ecosystem services: A multilayered relationship. Trends in Ecology & Evolution, 27(1), 19–26.\n",
    "\n",
    "McCarthy, M. A., & Possingham, H. P. (2007). Active adaptive management for conservation. Conservation Biology, 21(4), 956–963.\n",
    "\n",
    "Nahlik, A. M., & Kentula, M. E. (2012). The role of wetlands in the earth’s nutrient cycles. Biogeochemistry, 105(1–3), 1–4.\n",
    "\n",
    "Pérez-Soba, M., Maes, J., & Stuczynski, T. (2015). Cultural landscapes, ecosystem services, wellbeing and cultural values — A case study of the Atxondo Valley, Basque Country, Spain. Ecosystem Services, 12, 178–190.\n",
    "\n",
    "Polasky, S., Nelson, E., Pennington, D., & Johnson, K. A. (2011). The impact of land-use change on ecosystem services, biodiversity and returns to landowners: A case study in the state of Minnesota. Environmental and Resource Economics, 48(2), 219–242.\n",
    "\n",
    "Schwilch, G., Bernet, L., Fleskens, L., Giannakis, E., Leventon, J., Marañón, T., Mills, J., Short, C., Stolte, J., & van Delden, H. (2016). Operationalizing ecosystem services for the mitigation of soil threats: A proposed framework. Ecological Indicators, 67, 586–600.\n",
    "\n",
    "Sutherland, W. J., Fleishman, E., Mascia, M. B., Pretty, J., & Rudd, M. A. (2011). Methods for collaboratively identifying research priorities and emerging issues in science and policy. Methods in Ecology and Evolution, 2(3), 238–247.\n",
    "\n",
    "Tallis, H., Ricketts, T., Guerry, A. D., Wood, S. A., Sharp, R., Nelson, E., Ennaanay, D., Wolny, S., Olwero, N., & Vigerstol, K. (2013). InVEST 3.1.1 User’s Guide.\n",
    "\n",
    "Verma, M., Sharma, G., & Sharma, A. (2016). Ecosystem Services and Sustainability of Delhi – Case Study of the Yamuna River. SSRN Electronic Journal.\n",
    "\n",
    "Villa, F., Bagstad, K. J., Voigt, B., Johnson, G. W., & Portela, R. (2014). A methodology for adaptable and robust ecosystem services assessment. PLoS ONE, 9(3), e91001.\n",
    "\n",
    "Wu, Y., Wang, L., & Fu, B. (2014). Ecosystem service value assessment and contribution factor analysis of land use changes in Miyun County, Beijing. Ecological Indicators, 36, 571–579.\n",
    "\n",
    "Xie, G., & Chen, J. (2015). Ecosystem services and ecological security in a typical karst valley area in China: Current status and future implications. Ecosystem Services, 14, 35–46.\n",
    "\n",
    "Literature\n",
    "The peri-urban interface, characterized by its rapid transformation and complex mosaic of settlements, agriculture, and environmental systems, has become a focal point for examining the dynamics of ecosystem services in the context of urban expansion and sustainability [3]. The literature underscores the importance of these regions in generating economic, social, and environmental benefits, thereby contributing to the overarching goal of sustainable urban development [3]. Vindigni (2021) posits that peri-urban areas, with their unique blend of land uses, offer a multitude of opportunities for ecosystem service utilization, which can lead to increased economic productivity, social well-being, and improved environmental quality [3].\n",
    "\n",
    "The intricate interplay of ecosystem services within peri-urban landscapes necessitates a holistic understanding of their role in addressing poverty, enhancing resilience, and promoting sustainable development in urban settings [3]. Marshall (2017) emphasizes the multifaceted contributions of peri-urban areas to urban well-being, advocating for integrated perspectives in policymaking and management that recognize the substantial value of these areas [3]. The peri-urban transition is thus not merely a spatial phenomenon but a complex socio-ecological process that requires careful consideration in urban planning and governance [3].\n",
    "\n",
    "Given the dynamic nature of peri-urban landscapes, marked by frequent land cover alterations, there is a pressing need for comprehensive analyses that can capture the nuances of these transformations [3]. The coexistence of diverse land-cover types within peri-urban spaces demands a nuanced understanding of the impacts on ecosystem services and their interactions with local communities [3]. This study addresses methodological gaps by examining multiple ecosystem services, thereby improving upon previous research that often had a narrow spatial focus [3]. By conducting a temporal analysis, the study highlights the trends between declining ecosystem conditions and changes in service provision, while also considering spatial variations in peri-urban areas and actively engaging local ecosystems for a more robust analysis [3].\n",
    "\n",
    "The supply of ecosystem services in peri-urban areas is heavily reliant on local biodiversity, and a deep understanding of local landscapes is critical in establishing the connection between ecosystem health and human well-being [3]. Marshall's work (2017, 2018) underscores the importance of a diverse range of ecosystem services, including those crucial for human well-being, that rely on the intricate interactions within local ecosystems [3]. The presence of various plant and animal species, such as pollinators, contributes to essential ecosystem services like pollination, which, in turn, support agriculture and other human needs [3]. This pivotal connection between biodiversity and the provision of ecosystem services illuminates the necessity for comprehensive management strategies that extend beyond urban centers to encompass their dynamic peripheries [3].\n",
    "\n",
    "The peri-urban transition in the Philippines, particularly within and around Metro Manila, offers a compelling case study for examining the impact of urban expansion on ecosystem services [3]. The regions of focus—Region III, Region IV-A, and the National Capital Region (NCR)—have experienced significant land cover transitions over the past decades, making them ideal for analyzing the shifts in ecosystem service provision [3]. These regions, which account for the majority of the NCR's urban expansion, have undergone transformations that have implications for the sustainability of ecosystem services and, by extension, the well-being of urban and peri-urban populations [3]. The burgeoning field of peri-urban research has substantially contributed to our understanding of the complex role these areas play in the broader context of urban sustainability. The literature emphasizes that peri-urban areas are dynamic zones of transition, embodying the interface between rural and urban ecosystems, and are critical for accommodating future population growth [4][5]. These regions, often characterized by rapid land-use transition and urbanization, present both challenges and opportunities for sustainable urban planning and management [6].\n",
    "\n",
    "Peri-urban areas have been recognized as hybrid landscapes where the urban core and rural peripheries converge, leading to unique environmental, social, and economic conditions [2][3]. The literature underscores the importance of these areas in providing ecosystem services, including provisioning, regulating, supporting, and cultural services, which are essential for the sustainability of urban centers [2]. However, the literature also indicates that peri-urban areas are subject to high fragmentation and environmental degradation, which necessitates careful consideration in urban planning [2][3].\n",
    "\n",
    "The systematic review of peri-urban informal settlements reveals the urgent need to address sustainability in these human-natural complexes, which are often the predominant mode of urban expansion in developing regions [1]. The challenges identified include access to resources, management of water, and the transformation of the city's periphery, all of which have significant social sustainability and development implications [1].\n",
    "\n",
    "Furthermore, the literature calls for a more nuanced understanding of peri-urban demarcation, as the failure to clearly define these boundaries can hinder the development of effective policies for sustainable urban development [6]. The use of remote sensing approaches has been highlighted as a valuable tool in determining peri-urban growth and changes in land use and land cover over time [6].\n",
    "\n",
    "Despite the growing body of research, gaps remain in the literature, particularly in the context of spatial mapping and analysis through geographic information systems and remote sensing, as well as in understanding the social dimensions of peri-urban challenges and governance [4][5]. Addressing these gaps is crucial for planners, policymakers, academicians, and scholars to develop informed strategies for sustainable urban planning and management in peri-urban areas [5].\n",
    "\n",
    "In tandem with these insights, Almadrones-Reyes and Dagamac (2022) utilized remote sensing technology to monitor the effects of urbanization, revealing a significant increase in land surface temperature (LST) alongside a rise in the normalized difference built-up index (NDBI) and a decline in the normalized difference vegetation index (NDVI). Their study underscores the phenomenon of Urban Heat Island (UHI) and its correlation with the decline in vegetation over the past two decades. This aligns with previous studies that have highlighted the exacerbation of UHI due to urban sprawl and the reduction of green spaces (e.g., Oke, 1982; Arnfield, 2003). Almadrones-Reyes and Dagamac's findings contribute to the discourse on sustainable urban planning, echoing the calls for incorporating more green spaces to mitigate UHI effects (Gill et al., 2007; Zhou et al., 2011).\n",
    "\n",
    "In the domain of atmospheric sciences, the work of Fu et al. (2022) provides a comprehensive evaluation of cloud droplet effective radius (Re) derived from various remote sensing and in situ measurements during the CAMP(2)Ex campaign. Their cross-comparison of Re from MODIS, RSP, and in situ measurements addresses the biases in satellite-derived Re, particularly in cumulus cloud fields. This study is pivotal in validating satellite cloud property retrievals, which are crucial for climate research and models. The findings of Fu et al. contribute to a better understanding of cloud heterogeneity's influence on Re retrieval, a topic that has seen considerable debate in the literature (Platnick et al., 2003; King et al., 2004).\n",
    "\n",
    "Both studies exemplify the importance of remote sensing in environmental monitoring and atmospheric research. While Almadrones-Reyes and Dagamac focus on urban ecological changes, Fu et al. delve into cloud microphysical properties, yet both utilize advanced remote sensing techniques to enhance our understanding of Earth's systems. Their research contributes to the broader goals of environmental management and climate science, providing evidence-based insights for policy-making and sustainable development.\n",
    "\n",
    "The integration of remote sensing data with ground-based observations and policy interventions can lead to more effective strategies for environmental management and climate adaptation. The urban ecological insights provided by Almadrones-Reyes and Dagamac could inform sustainable urban development policies, while the atmospheric findings by Fu et al.\n",
    "\n",
    "\n",
    "The peri-urban interface, a transitional zone blending urban and rural characteristics, is increasingly recognized as a critical area for sustainable development. This zone is often the first to experience the pressures of urban sprawl, leading to rapid and sometimes haphazard growth. The consequences of such expansion are multifaceted, affecting the ecosystem services that are vital to human well-being. These services encompass a wide range of benefits, including provisioning services like food and water; regulating services that affect climate, floods, and disease; supporting services such as soil formation and nutrient cycling; and cultural services that provide recreational, aesthetic, and spiritual benefits (Millennium Ecosystem Assessment, 2005). As urban areas continue to grow, the challenge is to manage this growth in a way that preserves the ecosystem services provided by peri-urban areas.\n",
    "\n",
    "The unchecked expansion into peri-urban zones can lead to significant environmental degradation. Urban sprawl often results in habitat fragmentation and loss, which can negatively impact biodiversity, including the richness and abundance of species (Beninde, Veith, & Hochkirch, 2015). The conversion of land from natural or agricultural uses to urban or industrial uses can also result in the loss of valuable ecosystem services. For instance, the degradation of water resources due to urbanization can lead to a reduction in both the quality and quantity of water available for human consumption, agriculture, and other uses (McDonald, Kareiva, & Forman, 2011). Additionally, the loss of green spaces and biodiversity in these areas can lead to diminished air and water quality, increased vulnerability to climate change, and a loss of recreational spaces for urban populations.\n",
    "\n",
    "Despite these challenges, peri-urban areas also offer unique opportunities for sustainable urban development. The concept of green infrastructure, which includes networks of natural and semi-natural areas, has been proposed as a way to maintain and enhance ecosystem services while accommodating urban growth (Lafortezza et al., 2013). Green infrastructure can provide a multitude of services, such as stormwater management, air quality improvement, and mitigation of urban heat island effects (Benedict & McMahon, 2006). Moreover, these areas can serve as a buffer zone that supports biodiversity and connects protected natural areas, which can be especially important for species migration and ecological processes.\n",
    "\n",
    "In addition to environmental benefits, peri-urban areas can also support sustainable agricultural practices that contribute to urban food security. As cities expand, peri-urban agriculture can provide fresh produce to urban centers, while also offering ecosystem services like pollination, pest control, and maintenance of soil fertility (Zasada, 2011). This form of agriculture can be particularly important in developing countries, where food security is a pressing concern. However, to realize the potential of peri-urban areas in providing ecosystem services, there must be a concerted effort to implement sustainable land-use practices, protect green spaces, and promote biodiversity.\n",
    "\n",
    "The Philippines, and particularly the peri-urban areas surrounding Metro Manila, presents a case study of the challenges and opportunities associated with urban expansion. These regions have experienced significant land cover transitions over the past decades, with implications for the sustainability of ecosystem services. Policymakers and urban planners in the Philippines and other countries facing similar challenges must consider the socio-ecological systems at play in peri-urban areas. Integrated urban-rural planning, the preservation of green spaces, sustainable agricultural practices, and the protection of biodiversity are essential strategies for maintaining the ecosystem services upon which both urban and peri-urban populations depend (Lasco, Delfino, & Espaldon, 2014). As urban areas continue to grow, the importance of peri-urban zones in achieving sustainable development becomes increasingly clear, necessitating innovative approaches to urban planning that balance development with ecological conservation.\n",
    "\n",
    "Peri-urban areas are at the forefront of the struggle to achieve sustainable urban development. They are regions where the pressures of urban growth are most acutely felt, but they are also spaces where innovative solutions for sustainability can be implemented. The literature calls for integrated urban-rural planning, the preservation and enhancement of green spacesThe peri-urban interface, a transitional zone blending urban and rural characteristics, is increasingly recognized as a critical area for sustainable development. This zone is often the first to experience the pressures of urban sprawl, leading to rapid and sometimes haphazard growth. The consequences of such expansion are multifaceted, affecting the ecosystem services that are vital to human well-being. These services encompass a wide range of benefits, including provisioning services like food and water; regulating services that affect climate, floods, and disease; supporting services such as soil formation and nutrient cycling; and cultural services that provide recreational, aesthetic, and spiritual benefits. As urban areas continue to grow, the challenge is to manage this growth in a way that preserves the ecosystem services provided by peri-urban areas (Barthel et al., 2015).\n",
    "\n",
    "The unchecked expansion into peri-urban zones can lead to significant environmental degradation. Urban sprawl often results in habitat fragmentation and loss, which can negatively impact biodiversity, including the richness and abundance of species (Pickett et al., 2011). The conversion of land from natural or agricultural uses to urban or industrial uses can also result in the loss of valuable ecosystem services. For instance, the degradation of water resources due to urbanization can lead to a reduction in both the quality and quantity of water available for human consumption, agriculture, and other uses (McDonald et al., 2011). Additionally, the loss of green spaces and biodiversity in these areas can lead to diminished air and water quality, increased vulnerability to climate change, and a loss of recreational spaces for urban populations (Tratalos et al., 2007).\n",
    "\n",
    "Despite these challenges, peri-urban areas also offer unique opportunities for sustainable urban development. The concept of green infrastructure, which includes networks of natural and semi-natural areas, has been proposed as a way to maintain and enhance ecosystem services while accommodating urban growth (Tzoulas et al., 2007). Green infrastructure can provide a multitude of services, such as stormwater management, air quality improvement, and mitigation of urban heat island effects (Gill et al., 2007). Moreover, these areas can serve as a buffer zone that supports biodiversity and connects protected natural areas, which can be especially important for species migration and ecological processes (Ahern, 2007).\n",
    "\n",
    "In addition to environmental benefits, peri-urban areas can also support sustainable agricultural practices that contribute to urban food security. As cities expand, peri-urban agriculture can provide fresh produce to urban centers, while also offering ecosystem services like pollination, pest control, and maintenance of soil fertility. This form of agriculture can be particularly important in developing countries, where food security is a pressing concern. However, to realize the potential of peri-urban areas in providing ecosystem services, there must be a concerted effort to implement sustainable land-use practices, protect green spaces, and promote biodiversity (Zezza & Tasciotti, 2010).\n",
    "\n",
    "The Philippines, and particularly the peri-urban areas surrounding Metro Manila, presents a case study of the challenges and opportunities associated with urban expansion. These regions have experienced significant land cover transitions over the past decades, with implications for the sustainability of ecosystem services. Policymakers and urban planners in the Philippines and other countries facing similar challenges must consider the socio-ecological systems at play in peri-urban areas. Integrated urban-rural planning, the preservation of green spaces, sustainable agricultural practices, and the protection of biodiversity are essential strategies for maintaining the ecosystem services upon which both urban and peri-urban populations depend (Lasco et al., 2014). As urban areas continue to grow, the importance of peri-urban zones in achieving sustainable development becomes increasingly clear, necessitating innovative approaches to urban planning that balance development with ecological conservation.\n",
    "\n",
    "In conclusion, peri-urban areas are at the forefront of the struggle to achieve sustainable urban development. They are regions where the pressures of urban growth are most acutely felt, but they are also spaces where innovative solutions for sustainability can be implemented. The literature calls for integrated urban-rural planning, the preservation and enhancement of green spaces, sustainable agricultural practices, and the protection of biodiversity to maintain the ecosystem services upon which urban and peri-urban populations depend (Simon et al., 2004). The challenge for policymakers, planners, and communities is to recognize the value of these areas and to work towards their protection and sustainable management for the benefit of current and future generations.\n",
    "\n"
   ]
  },
  {
   "cell_type": "code",
   "execution_count": 6,
   "id": "4cdc5076-5f41-436b-b04b-dfb39b0b497c",
   "metadata": {},
   "outputs": [],
   "source": [
    "import ee\n",
    "\n",
    "ee.Initialize()\n",
    "\n",
    "# Define the FAO/GAUL administrative units dataset\n",
    "dataset = ee.FeatureCollection('FAO/GAUL/2015/level2')\n",
    "\n",
    "# Define a region of interest (ROI) for India\n",
    "india_roi = ee.Geometry.Polygon(\n",
    "    [[[\n",
    "      68.11137880340998, 7.96553484576015],\n",
    "      [88.3927306205192, 7.96553484576015],\n",
    "      [88.3927306205192, 35.67459030295267],\n",
    "      [68.11137880340998, 35.67459030295267],\n",
    "      [68.11137880340998, 7.96553484576015]\n",
    "    ]]\n",
    ")\n",
    "\n"
   ]
  },
  {
   "cell_type": "code",
   "execution_count": 3,
   "id": "4e46c0f9",
   "metadata": {},
   "outputs": [
    {
     "data": {
      "text/html": [
       "<p>To authorize access needed by Earth Engine, open the following\n",
       "        URL in a web browser and follow the instructions:</p>\n",
       "        <p><a href=https://code.earthengine.google.com/client-auth?scopes=https%3A//www.googleapis.com/auth/earthengine%20https%3A//www.googleapis.com/auth/devstorage.full_control&request_id=umKYKtks3RnT_D3_kRaVAo4tuDiaIVuie7wEG3g3fTE&tc=yrWYwEFP3kRcC4KE0ivgHtUuZA-kasLVtjRjk8F0VyM&cc=98jAa3Mk1dUtVJAqvZg2Q7jCWTus-Za6PQwTEsQm54k>https://code.earthengine.google.com/client-auth?scopes=https%3A//www.googleapis.com/auth/earthengine%20https%3A//www.googleapis.com/auth/devstorage.full_control&request_id=umKYKtks3RnT_D3_kRaVAo4tuDiaIVuie7wEG3g3fTE&tc=yrWYwEFP3kRcC4KE0ivgHtUuZA-kasLVtjRjk8F0VyM&cc=98jAa3Mk1dUtVJAqvZg2Q7jCWTus-Za6PQwTEsQm54k</a></p>\n",
       "        <p>The authorization workflow will generate a code, which you should paste in the box below.</p>\n",
       "        "
      ],
      "text/plain": [
       "<IPython.core.display.HTML object>"
      ]
     },
     "metadata": {},
     "output_type": "display_data"
    },
    {
     "ename": "KeyboardInterrupt",
     "evalue": "Interrupted by user",
     "output_type": "error",
     "traceback": [
      "\u001b[0;31m---------------------------------------------------------------------------\u001b[0m",
      "\u001b[0;31mKeyboardInterrupt\u001b[0m                         Traceback (most recent call last)",
      "\u001b[0;32m/var/folders/ly/rgjn5pn521xds5tj0m76ys_40000gn/T/ipykernel_44863/3389766408.py\u001b[0m in \u001b[0;36m<module>\u001b[0;34m\u001b[0m\n\u001b[1;32m      2\u001b[0m \u001b[0;34m\u001b[0m\u001b[0m\n\u001b[1;32m      3\u001b[0m \u001b[0;31m# Authenticate to the Earth Engine servers\u001b[0m\u001b[0;34m\u001b[0m\u001b[0;34m\u001b[0m\u001b[0m\n\u001b[0;32m----> 4\u001b[0;31m \u001b[0mee\u001b[0m\u001b[0;34m.\u001b[0m\u001b[0mAuthenticate\u001b[0m\u001b[0;34m(\u001b[0m\u001b[0;34m)\u001b[0m\u001b[0;34m\u001b[0m\u001b[0;34m\u001b[0m\u001b[0m\n\u001b[0m\u001b[1;32m      5\u001b[0m \u001b[0;34m\u001b[0m\u001b[0m\n\u001b[1;32m      6\u001b[0m \u001b[0;31m# Initialize the API\u001b[0m\u001b[0;34m\u001b[0m\u001b[0;34m\u001b[0m\u001b[0m\n",
      "\u001b[0;32m~/opt/anaconda3/lib/python3.9/site-packages/ee/__init__.py\u001b[0m in \u001b[0;36mAuthenticate\u001b[0;34m(authorization_code, quiet, code_verifier, auth_mode, scopes)\u001b[0m\n\u001b[1;32m    100\u001b[0m      \u001b[0;34m(\u001b[0m\u001b[0mauth_url\u001b[0m\u001b[0;34m,\u001b[0m \u001b[0mcode_verifier\u001b[0m\u001b[0;34m)\u001b[0m \u001b[0mwhen\u001b[0m \u001b[0mcalled\u001b[0m \u001b[0;32mwith\u001b[0m \u001b[0mquiet\u001b[0m\u001b[0;34m=\u001b[0m\u001b[0;34m'init_only'\u001b[0m\u001b[0;34m\u001b[0m\u001b[0;34m\u001b[0m\u001b[0m\n\u001b[1;32m    101\u001b[0m   \"\"\"\n\u001b[0;32m--> 102\u001b[0;31m   return oauth.authenticate(authorization_code, quiet, code_verifier, auth_mode,\n\u001b[0m\u001b[1;32m    103\u001b[0m                             scopes)\n\u001b[1;32m    104\u001b[0m \u001b[0;34m\u001b[0m\u001b[0m\n",
      "\u001b[0;32m~/opt/anaconda3/lib/python3.9/site-packages/ee/oauth.py\u001b[0m in \u001b[0;36mauthenticate\u001b[0;34m(cli_authorization_code, quiet, cli_code_verifier, auth_mode, scopes)\u001b[0m\n\u001b[1;32m    406\u001b[0m     \u001b[0m_open_new_browser\u001b[0m\u001b[0;34m(\u001b[0m\u001b[0mflow\u001b[0m\u001b[0;34m.\u001b[0m\u001b[0mauth_url\u001b[0m\u001b[0;34m)\u001b[0m\u001b[0;34m\u001b[0m\u001b[0;34m\u001b[0m\u001b[0m\n\u001b[1;32m    407\u001b[0m \u001b[0;34m\u001b[0m\u001b[0m\n\u001b[0;32m--> 408\u001b[0;31m   \u001b[0mflow\u001b[0m\u001b[0;34m.\u001b[0m\u001b[0msave_code\u001b[0m\u001b[0;34m(\u001b[0m\u001b[0;34m)\u001b[0m\u001b[0;34m\u001b[0m\u001b[0;34m\u001b[0m\u001b[0m\n\u001b[0m\u001b[1;32m    409\u001b[0m \u001b[0;34m\u001b[0m\u001b[0m\n\u001b[1;32m    410\u001b[0m \u001b[0;34m\u001b[0m\u001b[0m\n",
      "\u001b[0;32m~/opt/anaconda3/lib/python3.9/site-packages/ee/oauth.py\u001b[0m in \u001b[0;36msave_code\u001b[0;34m(self, code)\u001b[0m\n\u001b[1;32m    449\u001b[0m       \u001b[0mredirect_uri\u001b[0m \u001b[0;34m=\u001b[0m \u001b[0mself\u001b[0m\u001b[0;34m.\u001b[0m\u001b[0mserver\u001b[0m\u001b[0;34m.\u001b[0m\u001b[0murl\u001b[0m\u001b[0;34m\u001b[0m\u001b[0;34m\u001b[0m\u001b[0m\n\u001b[1;32m    450\u001b[0m       \u001b[0mcode\u001b[0m \u001b[0;34m=\u001b[0m \u001b[0mself\u001b[0m\u001b[0;34m.\u001b[0m\u001b[0mserver\u001b[0m\u001b[0;34m.\u001b[0m\u001b[0mfetch_code\u001b[0m\u001b[0;34m(\u001b[0m\u001b[0;34m)\u001b[0m  \u001b[0;31m# Waits for oauth callback\u001b[0m\u001b[0;34m\u001b[0m\u001b[0;34m\u001b[0m\u001b[0m\n\u001b[0;32m--> 451\u001b[0;31m     \u001b[0m_obtain_and_write_token\u001b[0m\u001b[0;34m(\u001b[0m\u001b[0mcode\u001b[0m\u001b[0;34m,\u001b[0m \u001b[0mself\u001b[0m\u001b[0;34m.\u001b[0m\u001b[0mcode_verifier\u001b[0m\u001b[0;34m,\u001b[0m \u001b[0mself\u001b[0m\u001b[0;34m.\u001b[0m\u001b[0mscopes\u001b[0m\u001b[0;34m,\u001b[0m \u001b[0mredirect_uri\u001b[0m\u001b[0;34m)\u001b[0m\u001b[0;34m\u001b[0m\u001b[0;34m\u001b[0m\u001b[0m\n\u001b[0m\u001b[1;32m    452\u001b[0m \u001b[0;34m\u001b[0m\u001b[0m\n\u001b[1;32m    453\u001b[0m   \u001b[0;32mdef\u001b[0m \u001b[0mdisplay_instructions\u001b[0m\u001b[0;34m(\u001b[0m\u001b[0mself\u001b[0m\u001b[0;34m,\u001b[0m \u001b[0mquiet\u001b[0m\u001b[0;34m=\u001b[0m\u001b[0;32mNone\u001b[0m\u001b[0;34m)\u001b[0m\u001b[0;34m:\u001b[0m\u001b[0;34m\u001b[0m\u001b[0;34m\u001b[0m\u001b[0m\n",
      "\u001b[0;32m~/opt/anaconda3/lib/python3.9/site-packages/ee/oauth.py\u001b[0m in \u001b[0;36m_obtain_and_write_token\u001b[0;34m(auth_code, code_verifier, scopes, redirect_uri)\u001b[0m\n\u001b[1;32m    177\u001b[0m     \u001b[0mclient_info\u001b[0m\u001b[0;34m[\u001b[0m\u001b[0;34m'redirect_uri'\u001b[0m\u001b[0;34m]\u001b[0m \u001b[0;34m=\u001b[0m \u001b[0mredirect_uri\u001b[0m\u001b[0;34m\u001b[0m\u001b[0;34m\u001b[0m\u001b[0m\n\u001b[1;32m    178\u001b[0m   \u001b[0;32mif\u001b[0m \u001b[0;32mnot\u001b[0m \u001b[0mauth_code\u001b[0m\u001b[0;34m:\u001b[0m\u001b[0;34m\u001b[0m\u001b[0;34m\u001b[0m\u001b[0m\n\u001b[0;32m--> 179\u001b[0;31m     \u001b[0mauth_code\u001b[0m \u001b[0;34m=\u001b[0m \u001b[0minput\u001b[0m\u001b[0;34m(\u001b[0m\u001b[0;34m'Enter verification code: '\u001b[0m\u001b[0;34m)\u001b[0m\u001b[0;34m\u001b[0m\u001b[0;34m\u001b[0m\u001b[0m\n\u001b[0m\u001b[1;32m    180\u001b[0m   \u001b[0;32massert\u001b[0m \u001b[0misinstance\u001b[0m\u001b[0;34m(\u001b[0m\u001b[0mauth_code\u001b[0m\u001b[0;34m,\u001b[0m \u001b[0mstr\u001b[0m\u001b[0;34m)\u001b[0m\u001b[0;34m\u001b[0m\u001b[0;34m\u001b[0m\u001b[0m\n\u001b[1;32m    181\u001b[0m   \u001b[0mscopes\u001b[0m \u001b[0;34m=\u001b[0m \u001b[0mscopes\u001b[0m \u001b[0;32mor\u001b[0m \u001b[0mSCOPES\u001b[0m\u001b[0;34m\u001b[0m\u001b[0;34m\u001b[0m\u001b[0m\n",
      "\u001b[0;32m~/opt/anaconda3/lib/python3.9/site-packages/ipykernel/kernelbase.py\u001b[0m in \u001b[0;36mraw_input\u001b[0;34m(self, prompt)\u001b[0m\n\u001b[1;32m   1173\u001b[0m                 \u001b[0;34m\"raw_input was called, but this frontend does not support input requests.\"\u001b[0m\u001b[0;34m\u001b[0m\u001b[0;34m\u001b[0m\u001b[0m\n\u001b[1;32m   1174\u001b[0m             )\n\u001b[0;32m-> 1175\u001b[0;31m         return self._input_request(\n\u001b[0m\u001b[1;32m   1176\u001b[0m             \u001b[0mstr\u001b[0m\u001b[0;34m(\u001b[0m\u001b[0mprompt\u001b[0m\u001b[0;34m)\u001b[0m\u001b[0;34m,\u001b[0m\u001b[0;34m\u001b[0m\u001b[0;34m\u001b[0m\u001b[0m\n\u001b[1;32m   1177\u001b[0m             \u001b[0mself\u001b[0m\u001b[0;34m.\u001b[0m\u001b[0m_parent_ident\u001b[0m\u001b[0;34m[\u001b[0m\u001b[0;34m\"shell\"\u001b[0m\u001b[0;34m]\u001b[0m\u001b[0;34m,\u001b[0m\u001b[0;34m\u001b[0m\u001b[0;34m\u001b[0m\u001b[0m\n",
      "\u001b[0;32m~/opt/anaconda3/lib/python3.9/site-packages/ipykernel/kernelbase.py\u001b[0m in \u001b[0;36m_input_request\u001b[0;34m(self, prompt, ident, parent, password)\u001b[0m\n\u001b[1;32m   1215\u001b[0m             \u001b[0;32mexcept\u001b[0m \u001b[0mKeyboardInterrupt\u001b[0m\u001b[0;34m:\u001b[0m\u001b[0;34m\u001b[0m\u001b[0;34m\u001b[0m\u001b[0m\n\u001b[1;32m   1216\u001b[0m                 \u001b[0;31m# re-raise KeyboardInterrupt, to truncate traceback\u001b[0m\u001b[0;34m\u001b[0m\u001b[0;34m\u001b[0m\u001b[0m\n\u001b[0;32m-> 1217\u001b[0;31m                 \u001b[0;32mraise\u001b[0m \u001b[0mKeyboardInterrupt\u001b[0m\u001b[0;34m(\u001b[0m\u001b[0;34m\"Interrupted by user\"\u001b[0m\u001b[0;34m)\u001b[0m \u001b[0;32mfrom\u001b[0m \u001b[0;32mNone\u001b[0m\u001b[0;34m\u001b[0m\u001b[0;34m\u001b[0m\u001b[0m\n\u001b[0m\u001b[1;32m   1218\u001b[0m             \u001b[0;32mexcept\u001b[0m \u001b[0mException\u001b[0m\u001b[0;34m:\u001b[0m\u001b[0;34m\u001b[0m\u001b[0;34m\u001b[0m\u001b[0m\n\u001b[1;32m   1219\u001b[0m                 \u001b[0mself\u001b[0m\u001b[0;34m.\u001b[0m\u001b[0mlog\u001b[0m\u001b[0;34m.\u001b[0m\u001b[0mwarning\u001b[0m\u001b[0;34m(\u001b[0m\u001b[0;34m\"Invalid Message:\"\u001b[0m\u001b[0;34m,\u001b[0m \u001b[0mexc_info\u001b[0m\u001b[0;34m=\u001b[0m\u001b[0;32mTrue\u001b[0m\u001b[0;34m)\u001b[0m\u001b[0;34m\u001b[0m\u001b[0;34m\u001b[0m\u001b[0m\n",
      "\u001b[0;31mKeyboardInterrupt\u001b[0m: Interrupted by user"
     ]
    }
   ],
   "source": [
    "import ee\n",
    "\n",
    "# Authenticate to the Earth Engine servers\n",
    "ee.Authenticate()\n",
    "\n",
    "# Initialize the API\n",
    "ee.Initialize()\n"
   ]
  },
  {
   "cell_type": "code",
   "execution_count": 7,
   "id": "f0587f92-afd1-4c44-be74-e661e596d480",
   "metadata": {},
   "outputs": [
    {
     "name": "stdout",
     "output_type": "stream",
     "text": [
      "Selected Administrative Unit (New Delhi):\n",
      "Admin Unit ID: 17633\n",
      "Admin Unit Name: Delhi\n"
     ]
    },
    {
     "data": {
      "application/vnd.jupyter.widget-view+json": {
       "model_id": "4a2654ffd22e471ca556c566ad789fa5",
       "version_major": 2,
       "version_minor": 0
      },
      "text/plain": [
       "Map(center=[28.646455931994893, 77.10900424302301], controls=(WidgetControl(options=['position', 'transparent_…"
      ]
     },
     "execution_count": 7,
     "metadata": {},
     "output_type": "execute_result"
    }
   ],
   "source": [
    "import ee\n",
    "import geemap\n",
    "\n",
    "# Initialize Earth Engine\n",
    "ee.Initialize()\n",
    "\n",
    "# Define the FAO/GAUL administrative units dataset\n",
    "dataset = ee.FeatureCollection('FAO/GAUL/2015/level2')\n",
    "\n",
    "# Define a region of interest (ROI) for India\n",
    "india_roi = ee.Geometry.Polygon(\n",
    "    [[[\n",
    "      68.11137880340998, 7.96553484576015],\n",
    "      [88.3927306205192, 7.96553484576015],\n",
    "      [88.3927306205192, 35.67459030295267],\n",
    "      [68.11137880340998, 35.67459030295267],\n",
    "      [68.11137880340998, 7.96553484576015]\n",
    "    ]]\n",
    ")\n",
    "\n",
    "# Filter the administrative units dataset to select India\n",
    "india_dataset = dataset.filterBounds(india_roi)\n",
    "\n",
    "# Define a region of interest (ROI) for New Delhi\n",
    "delhi_roi = ee.Geometry.Point(77.216721, 28.613939).buffer(0.5)\n",
    "\n",
    "# Filter the India dataset to select New Delhi\n",
    "delhi_feature = india_dataset.filterBounds(delhi_roi)\n",
    "\n",
    "# Print the selected administrative unit (New Delhi)\n",
    "print(\"Selected Administrative Unit (New Delhi):\")\n",
    "selected_features = delhi_feature.getInfo()\n",
    "for feature in selected_features['features']:\n",
    "    print(\"Admin Unit ID:\", feature['properties']['ADM2_CODE'])\n",
    "    print(\"Admin Unit Name:\", feature['properties']['ADM2_NAME'])\n",
    "\n",
    "# Create a Map\n",
    "Map = geemap.Map()\n",
    "\n",
    "# Set the Map center\n",
    "Map.setCenter(12.876, 42.682, 5)\n",
    "\n",
    "# Add the administrative units dataset to the map\n",
    "Map.centerObject(india_dataset, 5)\n",
    "Map.addLayer(india_dataset, {'color': '00909F'}, 'Second Level Administrative Units')\n",
    "\n",
    "# Display New Delhi\n",
    "Map.centerObject(delhi_feature, 8)\n",
    "Map.addLayer(delhi_feature, {'color': 'FF0000'}, 'New Delhi')\n",
    "Map.addLayerControl()\n",
    "Map\n"
   ]
  },
  {
   "cell_type": "markdown",
   "id": "cfb3e61b-8812-430e-900f-cc7216c98971",
   "metadata": {},
   "source": [
    "## Add Peri Urban areas to the map. Delhi marked in Red, Surrounding administrative units marked with Yellow"
   ]
  },
  {
   "cell_type": "markdown",
   "id": "c77b503e-d532-41be-8124-1deda834cc44",
   "metadata": {
    "tags": []
   },
   "source": [
    "## Introduction to Delhi NCR\n",
    "Our investigation, inspired by Tang, J.M. et al.'s methodological approach (in the JOURNAL OF APPLIED REMOTE SENSING), is predicated on the need to understand the spatial-temporal patterns of urbanization within Delhi's National Capital Region (NCR). This region has been segmented into various administrative units for the purpose of detailed analysis. These include the core urban area of the Delhi metropolis and its fringe satellite cities and towns such as Gurgaon, Noida, Faridabad, and Ghaziabad. Gurgaon, known for its booming IT and finance sectors, has emerged as a major hub for multinational corporations. Its skyline, dotted with skyscrapers, is a testament to its rapid development and modern urban planning. Noida, another significant satellite city, is recognized for its robust infrastructure and is a preferred locale for IT and educational institutions. Faridabad, an industrial stronghold, provides a blend of manufacturing units and residential areas, contributing to the diverse LULC patterns in the region. Ghaziabad, with its strategic location and connectivity, is fast becoming a nexus for residential and commercial development.\n",
    "By focusing on these units, we seek to understand the ecological implications of rapid urban development. The selection of these units is particularly relevant, as they are representative of the broader trends of land conversion, which is a cornerstone of urban growth and environmental change in the region. Each satellite town, with its unique development trajectory and socio-economic role, informs the composite picture of the NCR's transformation and presents a microcosm of the challenges and opportunities inherent in managing urban sprawl and sustainability. \n",
    "\n",
    "## Study Area:\n",
    "Elaborating on the contextual framework provided by Budhiraja, B. et al. in URBAN CLIMATE, the Delhi NCR is a prime example of heterogeneity in urban form and function. The region is geographically diverse, spanning across the flat terrain of the Gangetic plain and reaching into the hilly contours of the Aravallis. This regional complexity is mirrored in its administrative and governance structure. Various authorities, including municipal corporations, development authorities, and village panchayats, coalesce under the overarching strategy laid out by the NCR Planning Board. The urban tapestry of the NCR, which Budhiraja et al. have parsed through in their thermal performance analysis, is composed of densely populated urban cores, rapidly developing suburban nodes, and extensive rural outskirts. Together, these areas form a mosaic of land use patterns that shape the region's climate, with particular reference to the urban heat island phenomenon. These sub-cities within the NCR each display distinct thermal signatures that reflect their urban design and development policies, which are critical factors in urban climatology and sustainability studies.\n",
    "\n"
   ]
  },
  {
   "cell_type": "markdown",
   "id": "7c6e499c-8161-4d61-86bc-20b6beb7d5a5",
   "metadata": {},
   "source": [
    "## Literature Review\n",
    "\n",
    "Studies have analyzed various aspects of land use land cover change and ecosystem services valuation in Delhi NCR as well as other regions of India over recent decades. Analysis of spatial-temporal landscape pattern changes in Delhi NCR from 1990-2016 using remote sensing and landscape metrics, found a significant increase in urbanization that fractured the landscape into more irregular patches (Balha et al., 2020). The relationship between NDVI, NDBI, LST and built-up area in Delhi NCR over 2002-2011 was also assessed, showing that LST and built-up area increased while NDVI and NDWI decreased with urbanization, thereby linking urban growth to changes in environmental conditions (Sharma & Joshi, 2016).\n",
    "\n",
    "Another study mapped LULC changes and their impacts on the environment of Delhi NCR from 1998-2011, noting that built-up and sparse built-up increased leading to conversion of agricultural land, while LST and NDBI increased with density and NDVI and NDWI decreased (Malik et al., 2019). The urban heat island effect in Delhi NCR was estimated using Landsat data, exhibiting higher temperatures in built-up areas (Srivastava & Satyaprakash, 2020). This study also linked LST to NDVI across land cover classes (Srivastava & Satyaprakash, 2020). Similarly, a study characterizing Delhi NCR's thermal environment and LST distribution using Landsat-8 data found higher LST in built-up and commercial/industrial areas, while vegetated areas showed cooling effects (Hang & Rahman, 2018).\n",
    "\n",
    "An analysis of factors affecting organic food consumption perception in Delhi NCR identified that belief in safety, trust in certification, awareness and availability positively impacted purchase intention, while doubts and lack of awareness negatively impacted it (Misra & Singh, 2016). A separate study mapping environmental impacts and LST variation in Delhi NCR from 1998-2011 using remote sensing observed an increase in minimum and maximum temperatures with rising LST and NDBI over time, indicating impacts of urbanization (Sharma & Joshi, 2016). Change detection in Delhi NCR from 1973-2016 was also done at the sub-city level, noting uneven urban expansion and a significant increase in built-up areas mainly through edge expansion and infill development, leading to fragmentation (Balha et al., 2020).\n",
    "\n",
    "Additionally, a LULC change analysis of Delhi NCR from 1990-2018 using geospatial tools found that built-up areas increased while agriculture and vegetation declined, with population migration and tertiary sector employment identified as drivers through regressions (Naikoo et al., 2020). Analysis of built-up expansion and industrialization along NH-48 in Delhi NCR also observed significant growth of built-up areas, urban centers and industrial locations (Kumar & Sharma, 2023). An empirical analysis of PM2.5 pollution levels across Indian states found Delhi NCR had the lowest quality of life despite higher incomes (Sharma et al., 2020). Assessments of physical parameterization schemes in a WRF model over Delhi NCR showed improved simulation of meteorological parameters with updated land use data (Gunwani et al., 2021). Estimation of ground subsidence in Delhi NCR from 2007-2017 using InSAR validated significant subsidence in over-exploited areas with field data (Malik et al., 2019).\n",
    "\n",
    "Analysis of peri-urban LULC change drivers in Delhi NCR from 1990-2018 using geospatial techniques and regression identified migration and tertiary employment as significant drivers (Naikoo et al., 2022). Modelling of built-up expansion probabilities in Delhi NCR integrated fuzzy logic and coupling coordination with LULC, demographic and utility parameters, showing highest probability in core urban areas increasing over time (Naikoo et al., 2023). Evaluation of impacts from rapid urbanization on the urban heat island and associated changes in Delhi over 2000-2020 found significant temperature increase along with decline in NDVI and increase in built-up areas (Singh et al., 2022). Assessment of water conservation needs in NCR emphasized reducing usage and wastewater recycling (Koundanya & Gupta, 2011). Analysis during 2001-2019 found the urban heat island in Delhi NCR increased during infrastructure growth but decreased after afforestation before rising again post-2016 (Srivastava & Satyaprakash, 2020).\n",
    "\n",
    "Assessments of inter-seasonal variations in vegetation cover and LST in NCR using MODIS showed relationship between LST and NDVI varies across seasons, with peripheral areas experiencing highest temperature differences (Mallick et al., 2020). Empirical analyses of life quality variations based on pollution levels again found Delhi NCR had the lowest despite higher incomes (Sharma et al., 2020). Evaluation of seasonal LST characteristics in relation to NDVI and population density in NCR linked higher populations and lower NDVI to increased LST and urban heat islands (Mallick, 2021). Other studies assessed ecosystem services valuation across districts in eastern India (Tripathi et al., 2019), the Indian Gangetic plains (Talukdar et al., 2020), and modeled carbon budgets and valuation changes in Chota Nagpur Plateau driven by vegetation losses (Saha et al., 2022). Assessments were also conducted on cultural service perceptions after COVID lockdowns from urban green spaces (Das et al., 2022), wetland health and services in Abu (Imdad et al., 2022), and services valuation changes in Delhi from 1998-2018 (Sannigrahi et al., 2020). Modelling of past and future ecosystem service supply capacities was done for Kulik Forest (Das et al., 2019), while analyses evaluated services dynamics linked to land use changes in Barasat subdivision (Ghosh et al., 2021) and estimated service losses tied to transformations in Dhanbad district (Ankur et al., 2022). Reviews also assessed research progress on changes in land use and associated ecosystem service changes in western Himalayas (Mondal & Zhang, 2018).\n"
   ]
  },
  {
   "cell_type": "markdown",
   "id": "e1f812b4-2585-47c0-ac78-118fbb020128",
   "metadata": {},
   "source": [
    "\n",
    "\n",
    "## Peri-urban LULC change and drivers in Delhi NCR from 1990-2018\n",
    "\n",
    "\n",
    "    \n",
    "## Present research landscape \n",
    "    \n",
    "Naikoo et al. (2022) analyzed peri-urban LULC change and drivers in Delhi NCR from 1990-2018 using geospatial techniques and geographically weighted regression. Built-up areas increased in outer locations while declining in others. Migration and tertiary sector employment were identified as significant drivers through OLS and GWR.</p>\n",
    "In an in-depth examination of the Delhi National Capital Region (NCR), a range of studies have revealed the intricate dynamics of urbanization and its environmental implications. Building upon the foundational work of Budhiraja, B. et al. in URBAN CLIMATE, the Delhi NCR stands out as an exemplar of urban heterogeneity, stretching across the flat Gangetic plains and the Aravalli hills, with a complex administrative structure governed by a variety of local and regional authorities. This region has been dissected by Budhiraja and colleagues for its thermal performance, showcasing a patchwork of densely populated centers, burgeoning suburbs, and vast rural peripheries. This amalgam of land use patterns significantly contributes to the area's climate, particularly concerning the urban heat island effect, where different zones within the NCR exhibit unique thermal characteristics due to their specific urban design and developmental policies.\n",
    "\n",
    "Numerous studies have quantified the changes in landscape patterns in the NCR due to urbanization. From 1990 to 2016, Balha et al. (2020) documented a marked increase in urban sprawl, resulting in a more fragmented landscape, with farmland being replaced by impervious surfaces. Similarly, Sharma & Joshi (2016) linked an increase in land surface temperature (LST) and built-up areas with a decrease in vegetation, as indicated by the Normalized Difference Vegetation Index (NDVI), and water content, as indicated by the Normalized Difference Water Index (NDWI), over the period from 2002 to 2011. Malik et al. (2019) observed that from 1998 to 2011, agricultural land gave way to built-up regions, affecting the LST and NDBI indices. Srivastava & Satyaprakash (2020) and Hang & Rahman (2018) provided insights into the urban heat island phenomenon using Landsat data, correlating higher temperatures in built-up areas with landscape characteristics.\n",
    "\n",
    "On the social science front, Misra & Singh (2016) analyzed the perceptions affecting organic food consumption in the NCR, highlighting factors such as safety, certification trust, and availability as positive influences, while doubts and lack of awareness hindered organic food purchases. Another dimension of urbanization's impact was presented by Sharma & Joshi (2016), who mapped the rise in temperatures and LST over time. Balha et al. (2020) also provided a nuanced look at the uneven expansion of urban areas through edge expansion and infill development from 1973 to 2016.\n",
    "\n",
    "Employment and migration were identified as primary drivers of land use change by Naikoo et al. (2020 and 2022) in their analysis of the peri-urban landscape from 1990 to 2018. Kumar & Sharma (2023) pinpointed the growth along NH-48 as a result of industrialization efforts. The adverse effects of pollution on life quality, despite higher incomes in the region, were underscored by Sharma et al. (2020). Meanwhile, advancements in modeling techniques for weather forecasting and land subsidence assessment were demonstrated by Gunwani et al. (2021) and Malik et al. (2019), respectively.\n",
    "\n",
    "The potential for future urban expansion was modeled by Naikoo et al. (2023), who predicted a higher likelihood of built-up area increase in the peri-urban core. Singh et al. (2022) evaluated the impact of rapid urbanization on urban heat islands, observing a significant temperature rise along with the decline in green cover. Koundanya & Gupta (2011) discussed the urgent need for water conservation management in the NCR, emphasizing the reduction and recycling of wastewater. Srivastava & Satyaprakash (2020) tracked the urban heat island effect from 2001 to 2019, noting fluctuations due to infrastructure development and afforestation efforts. Mallick et al. (2020) and Mallick (2021) investigated the interplay between vegetation cover, population density, and LST, illustrating the seasonal variation in the urban heat island effect across the NCR.\n",
    "\n",
    "This collection of research presents a multi-faceted portrait of the Delhi NCR, highlighting the environmental, social, and infrastructural challenges faced by this rapidly urbanizing region. Each study contributes to a composite understanding of how urban growth patterns, environmental factors, and human activities are interlinked, providing valuable insights for regional planning and sustainability efforts.\n",
    "\n",
    "| Study | Study Focus | Location | Period | Methodology | Findings |\n",
    "| --- | --- | --- | --- | --- | --- |\n",
    "| Bera et al. (2022) | Assessment of forest cover loss and its impacts on provisioning ecosystem services (ES) | Dry deciduous forests of West Bengal, India | 2006-2020 | Remote sensing and household surveys | 68% of the forest was lost due to drivers such as logging and agriculture, with 73% of households perceiving a decline in ES |\n",
    "| Kadaverugu et al. (2022) | Quantification of blue carbon sequestration, sediment export, and nutrient runoff | Bhitarkanika mangroves, India | N/A | InVEST model under future land use scenarios | Projected reductions by 2030, emphasizing the need for conservation |\n",
    "| Kumar et al. (2022) | Estimation of ecosystem service values | Ariyalur district, India | N/A | Benefit transfer and landscape capacity assessment for reclamation planning | Agricultural lands had the highest ES values; examined mining impacts |\n",
    "| Imdad et al. (2022) | Wetland health, water quality, and resident perceptions of declining ES | Abu wetlands, India | N/A | N/A | Identified worsening conditions and impacts on communities over time |\n",
    "| Das et al. (2023) | Assessment of cultural ecosystem service perceptions from urban green spaces | English Bazar, India | N/A | N/A | Increased usage and duration after lockdowns indicated reliance on nature for well-being |\n",
    "| Saha et al. (2022) | Quantification of carbon budgets and changes in ecosystem service values | Chota Nagpur Plateau, India | N/A | N/A | Driven by vegetation losses, economic justification for restoration |\n",
    "| Talukdar et al. (2020) | Modelling of ecosystem services dynamics due to land use changes | Indian Gangetic plains | 1999-2019 | Geospatial tools | Decrease in services with reduction in agricultural land |\n",
    "| Ghosh et al. (2023) | Analysis of ecosystem service value dynamics in response to land use changes | Kolkata Metropolitan Area, India | N/A | N/A | Decline over time due to degradations in agricultural land and vegetation |\n",
    "| Das et al. (2022) | Assessment of ecosystem service supply capacities | Kulik Forest, Raiganj, India | N/A | Land Use Land Cover (LULC) matrix model | Forests provided higher cultural and provisioning services |\n",
    "| Ghosh et al. (2021) | Analysis of ecosystem service value dynamics due to land use changes | Barasat subdivision, India | N/A | N/A | Decline over time due to losses in agricultural land and vegetation |\n"
   ]
  },
  {
   "cell_type": "markdown",
   "id": "79b81e3a",
   "metadata": {},
   "source": [
    "<!-- Methodology -->\n"
   ]
  },
  {
   "cell_type": "markdown",
   "id": "a7395775",
   "metadata": {},
   "source": [
    "### Methodology\n",
    "   ####  Background\n",
    "Ecosystem services refer to the benefits that humans receive from functioning ecosystems. Traditional approaches to urban development often neglect the role of ecosystem services in providing benefits to the health and well-being of city residents (Hogan et al., 2015). Without considering ecosystem services, urban areas are likely to experience degradation over time, leading to negative consequences for the sustainability and well-being of cities and their inhabitants. In the context of Delhi NCR, several studies have been conducted to understand and assess the ecosystem services provided by the region (Morya & Punia, 2021). The academic literature on ecosystem services in Delhi NCR has primarily focused on methods for mapping and assessing these services, as well as their significance for urban planning and decision-making processes.\n",
    "Study on Urban Land Management and Changes in Land Use/Cover One study conducted in Delhi NCR aimed to highlight the status of urban land management and urban sprawl practices, as well as land use/land cover\n",
    "\n",
    "changes in the region from 1992 to 2010 . The study followed the approach proposed by Costanza et al. to identify and monetarily value ecosystem services based on the functioning of ecosystems in the study area. The findings of this study revealed the effectiveness of using generalized ecosystem services value coefficients to estimate the annual economic value of ecosystem services in Delhi NCR. This study is seminal as it applied the approach proposed by Costanza et al. to assess ecosystem services in a specific urban area and provided insights into the economic value of these services. In recent years, there has been a growing amount of research on the concept and evaluation of ecosystem services in Delhi NCR. Various methods have been proposed for the mapping and evaluation of ecosystem services in the region, including qualitative, quantitative, and monetary approaches . One important study analyzed a few recent experiences of Italian cities' land use plans to uncover innovative elements that could be applied to urban standards, particularly in terms of incorporating ecosystem services . This study highlights the need to move from traditional approaches based on quantitative definitions to more innovative solutions that consider the qualitative level of public services and the preservation of the environmental system. Furthermore, the study emphasized the importance of integrating ecosystem services into spatial and land use planning for effective decision-making and governance of the territory (Hogan et al., 2014).\n",
    "Another important study conducted in Delhi NCR focused on evaluating the service values of natural ecosystems and highlighted the need for future research to pay more attention to ecosystem services in urban areas (Morya & Punia, 2021). We take this study as the basis for aoutr analysis. Our results will corroborate the results from this study. However, while this study analyzed the landcover change in Delhi for the years between 1992 and 2010, the focus here will be from 2000 to 2020. \n",
    "\n",
    "\n",
    " #### Mapping and Evaluating Ecosystem Services\n",
    "\n",
    "The methodologies used in analyzing ecosystem services in Delhi NCR encompass a comprehensive approach that involves mapping and evaluating the qualitative, quantitative, and monetary aspects of these services. The studies have followed approaches proposed by Costanza et al., focusing on identifying and monetarily valuing ecosystem services based on the functioning of ecosystems in the study area. This integrated method enables a holistic understanding of the diverse ecosystem services provided by the region, offering insights into their economic value and significance in urban landscapes.\n",
    "Methodology adapted from the study done by CP Morya and Milap Punia in Delhi from 1992-2010. Our focus is to study transitions between 2000 and 2020. With 5 time periods 2000, 2004, 2008, 2012, 2016, 2020. This will help us look at the results from this study in continuation with the one done before. Since it adopts the same methodology, the same results can be expected for the common time period between 2000 and 2010. The study will be done using remote sensing and GIS techniques. The land use land cover maps will be prepared using satellite images from Landsat and Sentinel-2. "
   ]
  },
  {
   "cell_type": "code",
   "execution_count": null,
   "id": "fb10ca5b",
   "metadata": {},
   "outputs": [
    {
     "data": {
      "text/html": [
       "<div>\n",
       "<style scoped>\n",
       "    .dataframe tbody tr th:only-of-type {\n",
       "        vertical-align: middle;\n",
       "    }\n",
       "\n",
       "    .dataframe tbody tr th {\n",
       "        vertical-align: top;\n",
       "    }\n",
       "\n",
       "    .dataframe thead th {\n",
       "        text-align: right;\n",
       "    }\n",
       "</style>\n",
       "<table border=\"1\" class=\"dataframe\">\n",
       "  <thead>\n",
       "    <tr style=\"text-align: right;\">\n",
       "      <th></th>\n",
       "      <th>shapeName</th>\n",
       "      <th>shapeISO</th>\n",
       "      <th>shapeID</th>\n",
       "      <th>shapeGroup</th>\n",
       "      <th>shapeType</th>\n",
       "      <th>fid</th>\n",
       "      <th>DN</th>\n",
       "      <th>layer</th>\n",
       "      <th>path</th>\n",
       "      <th>geometry</th>\n",
       "    </tr>\n",
       "  </thead>\n",
       "  <tbody>\n",
       "    <tr>\n",
       "      <th>0</th>\n",
       "      <td>Solan</td>\n",
       "      <td>None</td>\n",
       "      <td>76128533B12463746606003</td>\n",
       "      <td>IND</td>\n",
       "      <td>ADM2</td>\n",
       "      <td>NaN</td>\n",
       "      <td>NaN</td>\n",
       "      <td>merged2</td>\n",
       "      <td>/Users/rishi/OneDrive - Michigan State Univers...</td>\n",
       "      <td>POLYGON ((77.019 30.748, 77.022 30.749, 77.021...</td>\n",
       "    </tr>\n",
       "    <tr>\n",
       "      <th>1</th>\n",
       "      <td>Sirmaur</td>\n",
       "      <td>None</td>\n",
       "      <td>76128533B20775841054474</td>\n",
       "      <td>IND</td>\n",
       "      <td>ADM2</td>\n",
       "      <td>NaN</td>\n",
       "      <td>NaN</td>\n",
       "      <td>merged2</td>\n",
       "      <td>/Users/rishi/OneDrive - Michigan State Univers...</td>\n",
       "      <td>POLYGON ((77.019 30.748, 77.029 30.748, 77.032...</td>\n",
       "    </tr>\n",
       "    <tr>\n",
       "      <th>2</th>\n",
       "      <td>Shimla</td>\n",
       "      <td>None</td>\n",
       "      <td>76128533B72826398230549</td>\n",
       "      <td>IND</td>\n",
       "      <td>ADM2</td>\n",
       "      <td>NaN</td>\n",
       "      <td>NaN</td>\n",
       "      <td>merged2</td>\n",
       "      <td>/Users/rishi/OneDrive - Michigan State Univers...</td>\n",
       "      <td>POLYGON ((77.247 30.918, 77.246 30.925, 77.241...</td>\n",
       "    </tr>\n",
       "    <tr>\n",
       "      <th>3</th>\n",
       "      <td>Gurgaon</td>\n",
       "      <td>None</td>\n",
       "      <td>76128533B11127561856434</td>\n",
       "      <td>IND</td>\n",
       "      <td>ADM2</td>\n",
       "      <td>NaN</td>\n",
       "      <td>NaN</td>\n",
       "      <td>merged2</td>\n",
       "      <td>/Users/rishi/OneDrive - Michigan State Univers...</td>\n",
       "      <td>POLYGON ((77.119 28.489, 77.115 28.480, 77.115...</td>\n",
       "    </tr>\n",
       "    <tr>\n",
       "      <th>4</th>\n",
       "      <td>Yamunanagar</td>\n",
       "      <td>None</td>\n",
       "      <td>76128533B35550675069744</td>\n",
       "      <td>IND</td>\n",
       "      <td>ADM2</td>\n",
       "      <td>NaN</td>\n",
       "      <td>NaN</td>\n",
       "      <td>merged2</td>\n",
       "      <td>/Users/rishi/OneDrive - Michigan State Univers...</td>\n",
       "      <td>POLYGON ((77.213 30.497, 77.210 30.483, 77.212...</td>\n",
       "    </tr>\n",
       "    <tr>\n",
       "      <th>...</th>\n",
       "      <td>...</td>\n",
       "      <td>...</td>\n",
       "      <td>...</td>\n",
       "      <td>...</td>\n",
       "      <td>...</td>\n",
       "      <td>...</td>\n",
       "      <td>...</td>\n",
       "      <td>...</td>\n",
       "      <td>...</td>\n",
       "      <td>...</td>\n",
       "    </tr>\n",
       "    <tr>\n",
       "      <th>88955</th>\n",
       "      <td>None</td>\n",
       "      <td>None</td>\n",
       "      <td>None</td>\n",
       "      <td>None</td>\n",
       "      <td>None</td>\n",
       "      <td>20808.0</td>\n",
       "      <td>13.0</td>\n",
       "      <td>Vectorized</td>\n",
       "      <td>/private/var/folders/ly/rgjn5pn521xds5tj0m76ys...</td>\n",
       "      <td>POLYGON ((74.726 27.057, 74.731 27.057, 74.731...</td>\n",
       "    </tr>\n",
       "    <tr>\n",
       "      <th>88956</th>\n",
       "      <td>None</td>\n",
       "      <td>None</td>\n",
       "      <td>None</td>\n",
       "      <td>None</td>\n",
       "      <td>None</td>\n",
       "      <td>20809.0</td>\n",
       "      <td>7.0</td>\n",
       "      <td>Vectorized</td>\n",
       "      <td>/private/var/folders/ly/rgjn5pn521xds5tj0m76ys...</td>\n",
       "      <td>POLYGON ((75.158 27.057, 75.162 27.057, 75.162...</td>\n",
       "    </tr>\n",
       "    <tr>\n",
       "      <th>88957</th>\n",
       "      <td>None</td>\n",
       "      <td>None</td>\n",
       "      <td>None</td>\n",
       "      <td>None</td>\n",
       "      <td>None</td>\n",
       "      <td>20810.0</td>\n",
       "      <td>7.0</td>\n",
       "      <td>Vectorized</td>\n",
       "      <td>/private/var/folders/ly/rgjn5pn521xds5tj0m76ys...</td>\n",
       "      <td>POLYGON ((75.225 27.057, 75.229 27.057, 75.229...</td>\n",
       "    </tr>\n",
       "    <tr>\n",
       "      <th>88958</th>\n",
       "      <td>None</td>\n",
       "      <td>None</td>\n",
       "      <td>None</td>\n",
       "      <td>None</td>\n",
       "      <td>None</td>\n",
       "      <td>20811.0</td>\n",
       "      <td>13.0</td>\n",
       "      <td>Vectorized</td>\n",
       "      <td>/private/var/folders/ly/rgjn5pn521xds5tj0m76ys...</td>\n",
       "      <td>POLYGON ((76.563 27.057, 76.572 27.057, 76.572...</td>\n",
       "    </tr>\n",
       "    <tr>\n",
       "      <th>88959</th>\n",
       "      <td>None</td>\n",
       "      <td>None</td>\n",
       "      <td>None</td>\n",
       "      <td>None</td>\n",
       "      <td>None</td>\n",
       "      <td>20812.0</td>\n",
       "      <td>13.0</td>\n",
       "      <td>Vectorized</td>\n",
       "      <td>/private/var/folders/ly/rgjn5pn521xds5tj0m76ys...</td>\n",
       "      <td>POLYGON ((76.914 27.057, 76.927 27.057, 76.927...</td>\n",
       "    </tr>\n",
       "  </tbody>\n",
       "</table>\n",
       "<p>88960 rows × 10 columns</p>\n",
       "</div>"
      ],
      "text/plain": [
       "         shapeName shapeISO                  shapeID shapeGroup shapeType  \\\n",
       "0            Solan     None  76128533B12463746606003        IND      ADM2   \n",
       "1          Sirmaur     None  76128533B20775841054474        IND      ADM2   \n",
       "2           Shimla     None  76128533B72826398230549        IND      ADM2   \n",
       "3          Gurgaon     None  76128533B11127561856434        IND      ADM2   \n",
       "4      Yamunanagar     None  76128533B35550675069744        IND      ADM2   \n",
       "...            ...      ...                      ...        ...       ...   \n",
       "88955         None     None                     None       None      None   \n",
       "88956         None     None                     None       None      None   \n",
       "88957         None     None                     None       None      None   \n",
       "88958         None     None                     None       None      None   \n",
       "88959         None     None                     None       None      None   \n",
       "\n",
       "           fid    DN       layer  \\\n",
       "0          NaN   NaN     merged2   \n",
       "1          NaN   NaN     merged2   \n",
       "2          NaN   NaN     merged2   \n",
       "3          NaN   NaN     merged2   \n",
       "4          NaN   NaN     merged2   \n",
       "...        ...   ...         ...   \n",
       "88955  20808.0  13.0  Vectorized   \n",
       "88956  20809.0   7.0  Vectorized   \n",
       "88957  20810.0   7.0  Vectorized   \n",
       "88958  20811.0  13.0  Vectorized   \n",
       "88959  20812.0  13.0  Vectorized   \n",
       "\n",
       "                                                    path  \\\n",
       "0      /Users/rishi/OneDrive - Michigan State Univers...   \n",
       "1      /Users/rishi/OneDrive - Michigan State Univers...   \n",
       "2      /Users/rishi/OneDrive - Michigan State Univers...   \n",
       "3      /Users/rishi/OneDrive - Michigan State Univers...   \n",
       "4      /Users/rishi/OneDrive - Michigan State Univers...   \n",
       "...                                                  ...   \n",
       "88955  /private/var/folders/ly/rgjn5pn521xds5tj0m76ys...   \n",
       "88956  /private/var/folders/ly/rgjn5pn521xds5tj0m76ys...   \n",
       "88957  /private/var/folders/ly/rgjn5pn521xds5tj0m76ys...   \n",
       "88958  /private/var/folders/ly/rgjn5pn521xds5tj0m76ys...   \n",
       "88959  /private/var/folders/ly/rgjn5pn521xds5tj0m76ys...   \n",
       "\n",
       "                                                geometry  \n",
       "0      POLYGON ((77.019 30.748, 77.022 30.749, 77.021...  \n",
       "1      POLYGON ((77.019 30.748, 77.029 30.748, 77.032...  \n",
       "2      POLYGON ((77.247 30.918, 77.246 30.925, 77.241...  \n",
       "3      POLYGON ((77.119 28.489, 77.115 28.480, 77.115...  \n",
       "4      POLYGON ((77.213 30.497, 77.210 30.483, 77.212...  \n",
       "...                                                  ...  \n",
       "88955  POLYGON ((74.726 27.057, 74.731 27.057, 74.731...  \n",
       "88956  POLYGON ((75.158 27.057, 75.162 27.057, 75.162...  \n",
       "88957  POLYGON ((75.225 27.057, 75.229 27.057, 75.229...  \n",
       "88958  POLYGON ((76.563 27.057, 76.572 27.057, 76.572...  \n",
       "88959  POLYGON ((76.914 27.057, 76.927 27.057, 76.927...  \n",
       "\n",
       "[88960 rows x 10 columns]"
      ]
     },
     "execution_count": 10,
     "metadata": {},
     "output_type": "execute_result"
    }
   ],
   "source": [
    "gdf\n"
   ]
  },
  {
   "cell_type": "markdown",
   "id": "96027405",
   "metadata": {},
   "source": []
  },
  {
   "cell_type": "code",
   "execution_count": 68,
   "id": "f46f339e",
   "metadata": {},
   "outputs": [],
   "source": [
    "import geopandas as gpd\n",
    "import matplotlib.pyplot as plt\n",
    "\n",
    "path = '/Users/rishi/OneDrive - Michigan State University/020240118CICES India/2024mergedFile.shp'\n",
    "\n",
    "gdf = gpd.read_file(path)\n",
    "\n",
    "# Plot the geometry\n",
    "ax = gdf.plot(column='shapeName', figsize=(15, 10))\n",
    "\n",
    "# Add labels of ADM_2\n",
    "for x, y, label in zip(gdf.geometry.centroid.x, gdf.geometry.centroid.y, gdf['shapeName']):\n",
    "    ax.annotate(label, xy=(x, y), xytext=(3, 3), textcoords=\"offset points\", fontsize=8)\n",
    "\n",
    "plt.show()\n"
   ]
  },
  {
   "cell_type": "markdown",
   "id": "0c290b92",
   "metadata": {},
   "source": [
    "Timeperiod for India\n",
    "2001\n",
    "\n"
   ]
  },
  {
   "cell_type": "markdown",
   "id": "03debe33",
   "metadata": {},
   "source": [
    "#Landcover change in the studyarea\n",
    "import pandas as pd\n",
    "landCover = pd.read_csv('/Users/rishi/OneDrive - Michigan State University/020240118CICES India/20231227Chapter4/district_landcover_data2001_2020_long_format.csv')\n"
   ]
  },
  {
   "cell_type": "markdown",
   "id": "11d2491c",
   "metadata": {},
   "source": [
    "```python\n",
    "import pandas as pd\n",
    "import json\n",
    "\n",
    "# Load the CSV file into a DataFrame\n",
    "df = pd.read_csv('/Users/rishi/OneDrive - Michigan State University/020240118CICES India/20231227Chapter4/district_landcover_data2001_2020_long_format.csv')\n",
    "\n",
    "# Define a function to convert the JSON-like string to a dictionary\n",
    "def convert_string_to_dict(string):\n",
    "    try:\n",
    "        # Convert the string to a valid JSON string by replacing single quotes with double quotes\n",
    "        json_str = string.replace(\"'\", '\"')\n",
    "        # Load it into a dictionary\n",
    "        return json.loads(json_str)\n",
    "    except json.JSONDecodeError:\n",
    "        return {}\n",
    "\n",
    "# Apply the function to the 'Landcover Area (sq km)' column\n",
    "df['Landcover Area (sq km)'] = df['Landcover Area (sq km)'].apply(convert_string_to_dict)\n",
    "\n",
    "# Normalize the dictionary column and create separate columns\n",
    "landcover_cols = df['Landcover Area (sq km)'].apply(pd.Series)\n",
    "\n",
    "# Merge the new columns back into the original DataFrame\n",
    "df = pd.concat([df.drop(['Landcover Area (sq km)'], axis=1), landcover_cols], axis=1)\n",
    "\n",
    "# Save the transformed data to a new CSV file\n",
    "df.to_csv('/Users/rishi/OneDrive - Michigan State University/020240118CICES India/20231227Chapter4/district_landcover_data2001_2020_expanded.csv', index=False)\n",
    "```\n",
    "\n"
   ]
  },
  {
   "cell_type": "code",
   "execution_count": 67,
   "id": "46c2e249",
   "metadata": {},
   "outputs": [
    {
     "data": {
      "text/html": [
       "<div>\n",
       "<style scoped>\n",
       "    .dataframe tbody tr th:only-of-type {\n",
       "        vertical-align: middle;\n",
       "    }\n",
       "\n",
       "    .dataframe tbody tr th {\n",
       "        vertical-align: top;\n",
       "    }\n",
       "\n",
       "    .dataframe thead th {\n",
       "        text-align: right;\n",
       "    }\n",
       "</style>\n",
       "<table border=\"1\" class=\"dataframe\">\n",
       "  <thead>\n",
       "    <tr style=\"text-align: right;\">\n",
       "      <th></th>\n",
       "      <th>Parent Region</th>\n",
       "      <th>District</th>\n",
       "      <th>Area (sq km)</th>\n",
       "      <th>Year</th>\n",
       "      <th>Landcover Area (sq km)</th>\n",
       "    </tr>\n",
       "  </thead>\n",
       "  <tbody>\n",
       "    <tr>\n",
       "      <th>0</th>\n",
       "      <td>Haryana</td>\n",
       "      <td>Karnal</td>\n",
       "      <td>0.060233</td>\n",
       "      <td>2001</td>\n",
       "      <td>{'Grasslands': 0.9264705882352942, 'Croplands'...</td>\n",
       "    </tr>\n",
       "    <tr>\n",
       "      <th>1</th>\n",
       "      <td>Haryana</td>\n",
       "      <td>Kurukshetra</td>\n",
       "      <td>0.042935</td>\n",
       "      <td>2001</td>\n",
       "      <td>{'Grasslands': 0.5, 'Croplands': 1762.30490196...</td>\n",
       "    </tr>\n",
       "    <tr>\n",
       "      <th>2</th>\n",
       "      <td>Haryana</td>\n",
       "      <td>Mahendragarh</td>\n",
       "      <td>0.044490</td>\n",
       "      <td>2001</td>\n",
       "      <td>{'Grasslands': 129.29019607843136, 'Croplands'...</td>\n",
       "    </tr>\n",
       "    <tr>\n",
       "      <th>3</th>\n",
       "      <td>Haryana</td>\n",
       "      <td>Sonepat</td>\n",
       "      <td>0.051269</td>\n",
       "      <td>2001</td>\n",
       "      <td>{'Grasslands': 4.1156862745098035, 'Croplands'...</td>\n",
       "    </tr>\n",
       "    <tr>\n",
       "      <th>4</th>\n",
       "      <td>Haryana</td>\n",
       "      <td>Kaithal</td>\n",
       "      <td>0.053674</td>\n",
       "      <td>2001</td>\n",
       "      <td>{'Grasslands': 1.0166666666666666, 'Croplands'...</td>\n",
       "    </tr>\n",
       "    <tr>\n",
       "      <th>...</th>\n",
       "      <td>...</td>\n",
       "      <td>...</td>\n",
       "      <td>...</td>\n",
       "      <td>...</td>\n",
       "      <td>...</td>\n",
       "    </tr>\n",
       "    <tr>\n",
       "      <th>410</th>\n",
       "      <td>Uttarakhand</td>\n",
       "      <td>Dehra Dun</td>\n",
       "      <td>0.072024</td>\n",
       "      <td>2020</td>\n",
       "      <td>{'Evergreen Needleleaf Forests': 87.5294117647...</td>\n",
       "    </tr>\n",
       "    <tr>\n",
       "      <th>411</th>\n",
       "      <td>Uttarakhand</td>\n",
       "      <td>Pauri Garhwal</td>\n",
       "      <td>0.127392</td>\n",
       "      <td>2020</td>\n",
       "      <td>{'Evergreen Needleleaf Forests': 227.327450980...</td>\n",
       "    </tr>\n",
       "    <tr>\n",
       "      <th>412</th>\n",
       "      <td>Uttarakhand</td>\n",
       "      <td>Haridwar</td>\n",
       "      <td>0.055696</td>\n",
       "      <td>2020</td>\n",
       "      <td>{'Grasslands': 26.851960784313725, 'Croplands'...</td>\n",
       "    </tr>\n",
       "    <tr>\n",
       "      <th>413</th>\n",
       "      <td>Uttarakhand</td>\n",
       "      <td>Tehri Garhwal</td>\n",
       "      <td>0.103040</td>\n",
       "      <td>2020</td>\n",
       "      <td>{'Evergreen Needleleaf Forests': 335.781372549...</td>\n",
       "    </tr>\n",
       "    <tr>\n",
       "      <th>414</th>\n",
       "      <td>Uttarakhand</td>\n",
       "      <td>Uttarkashi</td>\n",
       "      <td>0.156569</td>\n",
       "      <td>2020</td>\n",
       "      <td>{'Evergreen Needleleaf Forests': 468.598039215...</td>\n",
       "    </tr>\n",
       "  </tbody>\n",
       "</table>\n",
       "<p>415 rows × 5 columns</p>\n",
       "</div>"
      ],
      "text/plain": [
       "    Parent Region       District  Area (sq km)  Year  \\\n",
       "0         Haryana         Karnal      0.060233  2001   \n",
       "1         Haryana    Kurukshetra      0.042935  2001   \n",
       "2         Haryana   Mahendragarh      0.044490  2001   \n",
       "3         Haryana        Sonepat      0.051269  2001   \n",
       "4         Haryana        Kaithal      0.053674  2001   \n",
       "..            ...            ...           ...   ...   \n",
       "410   Uttarakhand      Dehra Dun      0.072024  2020   \n",
       "411   Uttarakhand  Pauri Garhwal      0.127392  2020   \n",
       "412   Uttarakhand       Haridwar      0.055696  2020   \n",
       "413   Uttarakhand  Tehri Garhwal      0.103040  2020   \n",
       "414   Uttarakhand     Uttarkashi      0.156569  2020   \n",
       "\n",
       "                                Landcover Area (sq km)  \n",
       "0    {'Grasslands': 0.9264705882352942, 'Croplands'...  \n",
       "1    {'Grasslands': 0.5, 'Croplands': 1762.30490196...  \n",
       "2    {'Grasslands': 129.29019607843136, 'Croplands'...  \n",
       "3    {'Grasslands': 4.1156862745098035, 'Croplands'...  \n",
       "4    {'Grasslands': 1.0166666666666666, 'Croplands'...  \n",
       "..                                                 ...  \n",
       "410  {'Evergreen Needleleaf Forests': 87.5294117647...  \n",
       "411  {'Evergreen Needleleaf Forests': 227.327450980...  \n",
       "412  {'Grasslands': 26.851960784313725, 'Croplands'...  \n",
       "413  {'Evergreen Needleleaf Forests': 335.781372549...  \n",
       "414  {'Evergreen Needleleaf Forests': 468.598039215...  \n",
       "\n",
       "[415 rows x 5 columns]"
      ]
     },
     "execution_count": 67,
     "metadata": {},
     "output_type": "execute_result"
    }
   ],
   "source": [
    "df.rename(columns={'Landcover': 'Year'}, inplace=True)\n",
    "df\n"
   ]
  },
  {
   "cell_type": "code",
   "execution_count": 9,
   "id": "b2ecdeb2",
   "metadata": {},
   "outputs": [
    {
     "ename": "NameError",
     "evalue": "name 'pd' is not defined",
     "output_type": "error",
     "traceback": [
      "\u001b[0;31m---------------------------------------------------------------------------\u001b[0m",
      "\u001b[0;31mNameError\u001b[0m                                 Traceback (most recent call last)",
      "\u001b[0;32m/var/folders/ly/rgjn5pn521xds5tj0m76ys_40000gn/T/ipykernel_44863/2932982378.py\u001b[0m in \u001b[0;36m<module>\u001b[0;34m\u001b[0m\n\u001b[1;32m      1\u001b[0m \u001b[0mpath\u001b[0m \u001b[0;34m=\u001b[0m \u001b[0;34m'/Users/rishi/OneDrive - Michigan State University/020240118CICES India/20231227Chapter4/district_landcover_centroid_data2001_2020_expanded.csv'\u001b[0m\u001b[0;34m\u001b[0m\u001b[0;34m\u001b[0m\u001b[0m\n\u001b[1;32m      2\u001b[0m \u001b[0;34m\u001b[0m\u001b[0m\n\u001b[0;32m----> 3\u001b[0;31m \u001b[0mdf\u001b[0m \u001b[0;34m=\u001b[0m \u001b[0mpd\u001b[0m\u001b[0;34m.\u001b[0m\u001b[0mread_csv\u001b[0m\u001b[0;34m(\u001b[0m\u001b[0mpath\u001b[0m\u001b[0;34m)\u001b[0m\u001b[0;34m\u001b[0m\u001b[0;34m\u001b[0m\u001b[0m\n\u001b[0m\u001b[1;32m      4\u001b[0m \u001b[0mdf\u001b[0m\u001b[0;34m\u001b[0m\u001b[0;34m\u001b[0m\u001b[0m\n",
      "\u001b[0;31mNameError\u001b[0m: name 'pd' is not defined"
     ]
    }
   ],
   "source": [
    "path = '/Users/rishi/OneDrive - Michigan State University/020240118CICES India/20231227Chapter4/district_landcover_centroid_data2001_2020_expanded.csv'\n",
    "\n",
    "df = pd.read_csv(path)\n",
    "df\n"
   ]
  },
  {
   "cell_type": "code",
   "execution_count": 142,
   "id": "658b8ffb",
   "metadata": {},
   "outputs": [
    {
     "data": {
      "text/plain": [
       "Index(['Parent Region', 'District', 'Area (sq km)', 'Landcover', 'Grasslands',\n",
       "       'Croplands', 'Urban and Built-up Lands',\n",
       "       'Cropland/Natural Vegetation Mosaics', 'Savannas', 'Open Shrublands',\n",
       "       'Evergreen Broadleaf Forests', 'Mixed Forests', 'Woody Savannas',\n",
       "       'Barren', 'Permanent Wetlands', 'Deciduous Broadleaf Forests',\n",
       "       'Your Landcover Name for 17', 'Evergreen Needleleaf Forests',\n",
       "       'Permanent Snow and Ice', 'Closed Shrublands'],\n",
       "      dtype='object')"
      ]
     },
     "execution_count": 142,
     "metadata": {},
     "output_type": "execute_result"
    }
   ],
   "source": [
    "df.columns\n"
   ]
  },
  {
   "cell_type": "code",
   "execution_count": 8,
   "id": "fe6a3fef",
   "metadata": {},
   "outputs": [
    {
     "ename": "NameError",
     "evalue": "name 'df' is not defined",
     "output_type": "error",
     "traceback": [
      "\u001b[0;31m---------------------------------------------------------------------------\u001b[0m",
      "\u001b[0;31mNameError\u001b[0m                                 Traceback (most recent call last)",
      "\u001b[0;32m/var/folders/ly/rgjn5pn521xds5tj0m76ys_40000gn/T/ipykernel_44863/1644205548.py\u001b[0m in \u001b[0;36m<module>\u001b[0;34m\u001b[0m\n\u001b[1;32m      4\u001b[0m \u001b[0;34m\u001b[0m\u001b[0m\n\u001b[1;32m      5\u001b[0m \u001b[0;31m# Convert 'Landcover' column to string type\u001b[0m\u001b[0;34m\u001b[0m\u001b[0;34m\u001b[0m\u001b[0m\n\u001b[0;32m----> 6\u001b[0;31m \u001b[0mdf\u001b[0m\u001b[0;34m[\u001b[0m\u001b[0;34m'Landcover'\u001b[0m\u001b[0;34m]\u001b[0m \u001b[0;34m=\u001b[0m \u001b[0mdf\u001b[0m\u001b[0;34m[\u001b[0m\u001b[0;34m'Landcover'\u001b[0m\u001b[0;34m]\u001b[0m\u001b[0;34m.\u001b[0m\u001b[0mastype\u001b[0m\u001b[0;34m(\u001b[0m\u001b[0mstr\u001b[0m\u001b[0;34m)\u001b[0m\u001b[0;34m\u001b[0m\u001b[0;34m\u001b[0m\u001b[0m\n\u001b[0m\u001b[1;32m      7\u001b[0m \u001b[0;34m\u001b[0m\u001b[0m\n\u001b[1;32m      8\u001b[0m landcover_columns = ['Grasslands', 'Croplands', 'Urban and Built-up Lands',\n",
      "\u001b[0;31mNameError\u001b[0m: name 'df' is not defined"
     ]
    }
   ],
   "source": [
    "import matplotlib.pyplot as plt\n",
    "\n",
    "# Assuming 'Landcover' columns are 'Grasslands', 'Forests', etc.\n",
    "\n",
    "# Convert 'Landcover' column to string type\n",
    "df['Landcover'] = df['Landcover'].astype(str)\n",
    "\n",
    "landcover_columns = ['Grasslands', 'Croplands', 'Urban and Built-up Lands',\n",
    "       'Cropland/Natural Vegetation Mosaics', 'Savannas', 'Open Shrublands',\n",
    "       'Evergreen Broadleaf Forests', 'Mixed Forests', 'Woody Savannas',\n",
    "       'Barren', 'Permanent Wetlands', 'Deciduous Broadleaf Forests',\n",
    "       'Your Landcover Name for 17', 'Evergreen Needleleaf Forests',\n",
    "       'Permanent Snow and Ice', 'Closed Shrublands']  # Replace with your actual landcover columns\n",
    "\n",
    "# Sort the DataFrame by 'District' and 'Landcover'\n",
    "# Convert the numpy array to a tuple\n",
    "array_tuple = tuple(numpy_array)\n",
    "plt.show()\n"
   ]
  },
  {
   "cell_type": "code",
   "execution_count": 22,
   "id": "f6bd9f84",
   "metadata": {},
   "outputs": [
    {
     "data": {
      "text/html": [
       "<div>\n",
       "<style scoped>\n",
       "    .dataframe tbody tr th:only-of-type {\n",
       "        vertical-align: middle;\n",
       "    }\n",
       "\n",
       "    .dataframe tbody tr th {\n",
       "        vertical-align: top;\n",
       "    }\n",
       "\n",
       "    .dataframe thead th {\n",
       "        text-align: right;\n",
       "    }\n",
       "</style>\n",
       "<table border=\"1\" class=\"dataframe\">\n",
       "  <thead>\n",
       "    <tr style=\"text-align: right;\">\n",
       "      <th></th>\n",
       "      <th>Parent Region</th>\n",
       "      <th>District</th>\n",
       "      <th>Area (sq km)</th>\n",
       "      <th>Landcover</th>\n",
       "      <th>geometry</th>\n",
       "      <th>x</th>\n",
       "      <th>y</th>\n",
       "      <th>Grasslands</th>\n",
       "      <th>Croplands</th>\n",
       "      <th>Urban and Built-up Lands</th>\n",
       "      <th>...</th>\n",
       "      <th>Grasslands_scored</th>\n",
       "      <th>Croplands_scored</th>\n",
       "      <th>Cropland/Natural Vegetation Mosaics_scored</th>\n",
       "      <th>Mixed Forests_scored</th>\n",
       "      <th>Woody Savannas_scored</th>\n",
       "      <th>Barren_scored</th>\n",
       "      <th>Permanent Wetlands_scored</th>\n",
       "      <th>Permanent Snow and Ice_scored</th>\n",
       "      <th>Closed Shrublands_scored</th>\n",
       "      <th>ecScore</th>\n",
       "    </tr>\n",
       "  </thead>\n",
       "  <tbody>\n",
       "    <tr>\n",
       "      <th>6</th>\n",
       "      <td>Haryana</td>\n",
       "      <td>Rewari</td>\n",
       "      <td>0.028798</td>\n",
       "      <td>2001</td>\n",
       "      <td>POLYGON ((76.66966 28.37898, 76.66401 28.37026...</td>\n",
       "      <td>76.541716</td>\n",
       "      <td>28.238016</td>\n",
       "      <td>3.500000</td>\n",
       "      <td>1229.691176</td>\n",
       "      <td>21.500000</td>\n",
       "      <td>...</td>\n",
       "      <td>255.500000</td>\n",
       "      <td>70092.39703</td>\n",
       "      <td>NaN</td>\n",
       "      <td>NaN</td>\n",
       "      <td>NaN</td>\n",
       "      <td>NaN</td>\n",
       "      <td>NaN</td>\n",
       "      <td>NaN</td>\n",
       "      <td>NaN</td>\n",
       "      <td>70347.89703</td>\n",
       "    </tr>\n",
       "    <tr>\n",
       "      <th>8</th>\n",
       "      <td>Rajasthan</td>\n",
       "      <td>Bharatpur</td>\n",
       "      <td>0.115068</td>\n",
       "      <td>2001</td>\n",
       "      <td>MULTIPOLYGON (((76.97885 27.65408, 76.979158 2...</td>\n",
       "      <td>0.000000</td>\n",
       "      <td>0.000000</td>\n",
       "      <td>127.576471</td>\n",
       "      <td>4870.220588</td>\n",
       "      <td>60.303922</td>\n",
       "      <td>...</td>\n",
       "      <td>9313.082354</td>\n",
       "      <td>277602.57350</td>\n",
       "      <td>NaN</td>\n",
       "      <td>NaN</td>\n",
       "      <td>NaN</td>\n",
       "      <td>16.750000</td>\n",
       "      <td>NaN</td>\n",
       "      <td>NaN</td>\n",
       "      <td>NaN</td>\n",
       "      <td>286932.40590</td>\n",
       "    </tr>\n",
       "    <tr>\n",
       "      <th>9</th>\n",
       "      <td>Rajasthan</td>\n",
       "      <td>Dhaulpur</td>\n",
       "      <td>0.068585</td>\n",
       "      <td>2001</td>\n",
       "      <td>MULTIPOLYGON (((77.458696 26.741706, 77.462493...</td>\n",
       "      <td>78.023536</td>\n",
       "      <td>26.895734</td>\n",
       "      <td>225.175490</td>\n",
       "      <td>2793.317647</td>\n",
       "      <td>11.389216</td>\n",
       "      <td>...</td>\n",
       "      <td>16437.810780</td>\n",
       "      <td>159219.10590</td>\n",
       "      <td>NaN</td>\n",
       "      <td>NaN</td>\n",
       "      <td>NaN</td>\n",
       "      <td>22.136275</td>\n",
       "      <td>NaN</td>\n",
       "      <td>NaN</td>\n",
       "      <td>NaN</td>\n",
       "      <td>175679.05290</td>\n",
       "    </tr>\n",
       "    <tr>\n",
       "      <th>20</th>\n",
       "      <td>Rajasthan</td>\n",
       "      <td>Jaipur</td>\n",
       "      <td>0.255575</td>\n",
       "      <td>2001</td>\n",
       "      <td>MULTIPOLYGON (((76.08947 27.86037, 76.08951 27...</td>\n",
       "      <td>76.143754</td>\n",
       "      <td>27.830116</td>\n",
       "      <td>451.587255</td>\n",
       "      <td>10163.557840</td>\n",
       "      <td>296.250000</td>\n",
       "      <td>...</td>\n",
       "      <td>32965.869610</td>\n",
       "      <td>579322.79690</td>\n",
       "      <td>NaN</td>\n",
       "      <td>NaN</td>\n",
       "      <td>NaN</td>\n",
       "      <td>4006.074510</td>\n",
       "      <td>234.0</td>\n",
       "      <td>NaN</td>\n",
       "      <td>NaN</td>\n",
       "      <td>616528.74100</td>\n",
       "    </tr>\n",
       "    <tr>\n",
       "      <th>36</th>\n",
       "      <td>Madhya Pradesh</td>\n",
       "      <td>Morena</td>\n",
       "      <td>0.112750</td>\n",
       "      <td>2001</td>\n",
       "      <td>MULTIPOLYGON (((78.222531 26.831248, 78.22593 ...</td>\n",
       "      <td>78.367568</td>\n",
       "      <td>26.815901</td>\n",
       "      <td>1476.630392</td>\n",
       "      <td>3472.094118</td>\n",
       "      <td>30.833333</td>\n",
       "      <td>...</td>\n",
       "      <td>107794.018600</td>\n",
       "      <td>197909.36470</td>\n",
       "      <td>NaN</td>\n",
       "      <td>NaN</td>\n",
       "      <td>NaN</td>\n",
       "      <td>614.298039</td>\n",
       "      <td>NaN</td>\n",
       "      <td>NaN</td>\n",
       "      <td>NaN</td>\n",
       "      <td>306317.68140</td>\n",
       "    </tr>\n",
       "    <tr>\n",
       "      <th>...</th>\n",
       "      <td>...</td>\n",
       "      <td>...</td>\n",
       "      <td>...</td>\n",
       "      <td>...</td>\n",
       "      <td>...</td>\n",
       "      <td>...</td>\n",
       "      <td>...</td>\n",
       "      <td>...</td>\n",
       "      <td>...</td>\n",
       "      <td>...</td>\n",
       "      <td>...</td>\n",
       "      <td>...</td>\n",
       "      <td>...</td>\n",
       "      <td>...</td>\n",
       "      <td>...</td>\n",
       "      <td>...</td>\n",
       "      <td>...</td>\n",
       "      <td>...</td>\n",
       "      <td>...</td>\n",
       "      <td>...</td>\n",
       "      <td>...</td>\n",
       "    </tr>\n",
       "    <tr>\n",
       "      <th>398</th>\n",
       "      <td>Uttar Pradesh</td>\n",
       "      <td>Agra</td>\n",
       "      <td>0.080166</td>\n",
       "      <td>2020</td>\n",
       "      <td>POLYGON ((78.54845 26.76443, 78.54261 26.76506...</td>\n",
       "      <td>0.000000</td>\n",
       "      <td>0.000000</td>\n",
       "      <td>34.489216</td>\n",
       "      <td>3338.463725</td>\n",
       "      <td>154.332353</td>\n",
       "      <td>...</td>\n",
       "      <td>2517.712745</td>\n",
       "      <td>190292.43230</td>\n",
       "      <td>45.500000</td>\n",
       "      <td>NaN</td>\n",
       "      <td>NaN</td>\n",
       "      <td>NaN</td>\n",
       "      <td>58.5</td>\n",
       "      <td>NaN</td>\n",
       "      <td>NaN</td>\n",
       "      <td>192914.14510</td>\n",
       "    </tr>\n",
       "    <tr>\n",
       "      <th>401</th>\n",
       "      <td>Uttar Pradesh</td>\n",
       "      <td>Etah</td>\n",
       "      <td>0.102338</td>\n",
       "      <td>2020</td>\n",
       "      <td>POLYGON ((78.51951 27.73374, 78.52217 27.73861...</td>\n",
       "      <td>78.709694</td>\n",
       "      <td>27.509738</td>\n",
       "      <td>31.140196</td>\n",
       "      <td>4396.740196</td>\n",
       "      <td>53.250000</td>\n",
       "      <td>...</td>\n",
       "      <td>2273.234314</td>\n",
       "      <td>250614.19120</td>\n",
       "      <td>22.750000</td>\n",
       "      <td>NaN</td>\n",
       "      <td>NaN</td>\n",
       "      <td>100.500000</td>\n",
       "      <td>NaN</td>\n",
       "      <td>NaN</td>\n",
       "      <td>NaN</td>\n",
       "      <td>253010.67550</td>\n",
       "    </tr>\n",
       "    <tr>\n",
       "      <th>403</th>\n",
       "      <td>Uttar Pradesh</td>\n",
       "      <td>Mainpuri</td>\n",
       "      <td>0.062624</td>\n",
       "      <td>2020</td>\n",
       "      <td>POLYGON ((78.73434 27.33575, 78.73676 27.33358...</td>\n",
       "      <td>79.062187</td>\n",
       "      <td>27.185909</td>\n",
       "      <td>0.250000</td>\n",
       "      <td>2724.112745</td>\n",
       "      <td>30.000000</td>\n",
       "      <td>...</td>\n",
       "      <td>18.250000</td>\n",
       "      <td>155274.42650</td>\n",
       "      <td>NaN</td>\n",
       "      <td>NaN</td>\n",
       "      <td>NaN</td>\n",
       "      <td>NaN</td>\n",
       "      <td>NaN</td>\n",
       "      <td>NaN</td>\n",
       "      <td>NaN</td>\n",
       "      <td>155292.67650</td>\n",
       "    </tr>\n",
       "    <tr>\n",
       "      <th>407</th>\n",
       "      <td>Uttar Pradesh</td>\n",
       "      <td>Shahjahanpur</td>\n",
       "      <td>0.106674</td>\n",
       "      <td>2020</td>\n",
       "      <td>POLYGON ((79.35056 27.65232, 79.35277 27.65158...</td>\n",
       "      <td>79.829051</td>\n",
       "      <td>27.959841</td>\n",
       "      <td>1.211765</td>\n",
       "      <td>4517.882353</td>\n",
       "      <td>71.250000</td>\n",
       "      <td>...</td>\n",
       "      <td>88.458824</td>\n",
       "      <td>257519.29410</td>\n",
       "      <td>1706.696078</td>\n",
       "      <td>2172.078431</td>\n",
       "      <td>NaN</td>\n",
       "      <td>2.233333</td>\n",
       "      <td>NaN</td>\n",
       "      <td>NaN</td>\n",
       "      <td>NaN</td>\n",
       "      <td>261488.76080</td>\n",
       "    </tr>\n",
       "    <tr>\n",
       "      <th>409</th>\n",
       "      <td>Uttar Pradesh</td>\n",
       "      <td>Firozabad</td>\n",
       "      <td>0.064820</td>\n",
       "      <td>2020</td>\n",
       "      <td>POLYGON ((78.28653 27.31278, 78.289 27.31045, ...</td>\n",
       "      <td>78.540505</td>\n",
       "      <td>27.181339</td>\n",
       "      <td>4.538235</td>\n",
       "      <td>2758.155882</td>\n",
       "      <td>87.895098</td>\n",
       "      <td>...</td>\n",
       "      <td>331.291177</td>\n",
       "      <td>157214.88530</td>\n",
       "      <td>NaN</td>\n",
       "      <td>NaN</td>\n",
       "      <td>NaN</td>\n",
       "      <td>NaN</td>\n",
       "      <td>NaN</td>\n",
       "      <td>NaN</td>\n",
       "      <td>NaN</td>\n",
       "      <td>157546.17650</td>\n",
       "    </tr>\n",
       "  </tbody>\n",
       "</table>\n",
       "<p>100 rows × 33 columns</p>\n",
       "</div>"
      ],
      "text/plain": [
       "      Parent Region      District  Area (sq km)  Landcover  \\\n",
       "6           Haryana        Rewari      0.028798       2001   \n",
       "8         Rajasthan     Bharatpur      0.115068       2001   \n",
       "9         Rajasthan      Dhaulpur      0.068585       2001   \n",
       "20        Rajasthan        Jaipur      0.255575       2001   \n",
       "36   Madhya Pradesh        Morena      0.112750       2001   \n",
       "..              ...           ...           ...        ...   \n",
       "398   Uttar Pradesh          Agra      0.080166       2020   \n",
       "401   Uttar Pradesh          Etah      0.102338       2020   \n",
       "403   Uttar Pradesh      Mainpuri      0.062624       2020   \n",
       "407   Uttar Pradesh  Shahjahanpur      0.106674       2020   \n",
       "409   Uttar Pradesh     Firozabad      0.064820       2020   \n",
       "\n",
       "                                              geometry          x          y  \\\n",
       "6    POLYGON ((76.66966 28.37898, 76.66401 28.37026...  76.541716  28.238016   \n",
       "8    MULTIPOLYGON (((76.97885 27.65408, 76.979158 2...   0.000000   0.000000   \n",
       "9    MULTIPOLYGON (((77.458696 26.741706, 77.462493...  78.023536  26.895734   \n",
       "20   MULTIPOLYGON (((76.08947 27.86037, 76.08951 27...  76.143754  27.830116   \n",
       "36   MULTIPOLYGON (((78.222531 26.831248, 78.22593 ...  78.367568  26.815901   \n",
       "..                                                 ...        ...        ...   \n",
       "398  POLYGON ((78.54845 26.76443, 78.54261 26.76506...   0.000000   0.000000   \n",
       "401  POLYGON ((78.51951 27.73374, 78.52217 27.73861...  78.709694  27.509738   \n",
       "403  POLYGON ((78.73434 27.33575, 78.73676 27.33358...  79.062187  27.185909   \n",
       "407  POLYGON ((79.35056 27.65232, 79.35277 27.65158...  79.829051  27.959841   \n",
       "409  POLYGON ((78.28653 27.31278, 78.289 27.31045, ...  78.540505  27.181339   \n",
       "\n",
       "      Grasslands     Croplands  Urban and Built-up Lands  ...  \\\n",
       "6       3.500000   1229.691176                 21.500000  ...   \n",
       "8     127.576471   4870.220588                 60.303922  ...   \n",
       "9     225.175490   2793.317647                 11.389216  ...   \n",
       "20    451.587255  10163.557840                296.250000  ...   \n",
       "36   1476.630392   3472.094118                 30.833333  ...   \n",
       "..           ...           ...                       ...  ...   \n",
       "398    34.489216   3338.463725                154.332353  ...   \n",
       "401    31.140196   4396.740196                 53.250000  ...   \n",
       "403     0.250000   2724.112745                 30.000000  ...   \n",
       "407     1.211765   4517.882353                 71.250000  ...   \n",
       "409     4.538235   2758.155882                 87.895098  ...   \n",
       "\n",
       "     Grasslands_scored  Croplands_scored  \\\n",
       "6           255.500000       70092.39703   \n",
       "8          9313.082354      277602.57350   \n",
       "9         16437.810780      159219.10590   \n",
       "20        32965.869610      579322.79690   \n",
       "36       107794.018600      197909.36470   \n",
       "..                 ...               ...   \n",
       "398        2517.712745      190292.43230   \n",
       "401        2273.234314      250614.19120   \n",
       "403          18.250000      155274.42650   \n",
       "407          88.458824      257519.29410   \n",
       "409         331.291177      157214.88530   \n",
       "\n",
       "     Cropland/Natural Vegetation Mosaics_scored  Mixed Forests_scored  \\\n",
       "6                                           NaN                   NaN   \n",
       "8                                           NaN                   NaN   \n",
       "9                                           NaN                   NaN   \n",
       "20                                          NaN                   NaN   \n",
       "36                                          NaN                   NaN   \n",
       "..                                          ...                   ...   \n",
       "398                                   45.500000                   NaN   \n",
       "401                                   22.750000                   NaN   \n",
       "403                                         NaN                   NaN   \n",
       "407                                 1706.696078           2172.078431   \n",
       "409                                         NaN                   NaN   \n",
       "\n",
       "     Woody Savannas_scored  Barren_scored  Permanent Wetlands_scored  \\\n",
       "6                      NaN            NaN                        NaN   \n",
       "8                      NaN      16.750000                        NaN   \n",
       "9                      NaN      22.136275                        NaN   \n",
       "20                     NaN    4006.074510                      234.0   \n",
       "36                     NaN     614.298039                        NaN   \n",
       "..                     ...            ...                        ...   \n",
       "398                    NaN            NaN                       58.5   \n",
       "401                    NaN     100.500000                        NaN   \n",
       "403                    NaN            NaN                        NaN   \n",
       "407                    NaN       2.233333                        NaN   \n",
       "409                    NaN            NaN                        NaN   \n",
       "\n",
       "     Permanent Snow and Ice_scored  Closed Shrublands_scored       ecScore  \n",
       "6                              NaN                       NaN   70347.89703  \n",
       "8                              NaN                       NaN  286932.40590  \n",
       "9                              NaN                       NaN  175679.05290  \n",
       "20                             NaN                       NaN  616528.74100  \n",
       "36                             NaN                       NaN  306317.68140  \n",
       "..                             ...                       ...           ...  \n",
       "398                            NaN                       NaN  192914.14510  \n",
       "401                            NaN                       NaN  253010.67550  \n",
       "403                            NaN                       NaN  155292.67650  \n",
       "407                            NaN                       NaN  261488.76080  \n",
       "409                            NaN                       NaN  157546.17650  \n",
       "\n",
       "[100 rows x 33 columns]"
      ]
     },
     "execution_count": 22,
     "metadata": {},
     "output_type": "execute_result"
    }
   ],
   "source": [
    "import pandas as pd\n",
    "rel_path = r\".csv/202402ScoredMatrixCentroid.csv\"\n",
    "remote_file_url = r\".csv/202402ScoredMatrixCentroid.csv\"\n",
    "# Spatial Autocorrelation\n",
    "path = r\"/Users/rishi/OneDrive - Michigan State University/2Draft1Chapter4/20231227Chapter4/.csv/202402ScoredMatrixCentroid.csv\"\n",
    "data = pd.read_csv(path)\n",
    "\n",
    "# Filter records where geometry is given and not NaN\n",
    "data = data.dropna(subset=['geometry'])\n",
    "\n",
    "data\n"
   ]
  },
  {
   "cell_type": "code",
   "execution_count": 25,
   "id": "6de465b7",
   "metadata": {},
   "outputs": [],
   "source": [
    "if 'Urban and Built-up Lands_scored' not in data.columns:\n",
    "    data['Urban and Built-up Lands_scored'] = 0\n",
    "data['Urban and Built-up Lands_scored'] = data['Urban and Built-up Lands'] * 67\n"
   ]
  },
  {
   "cell_type": "code",
   "execution_count": 29,
   "id": "1b3fd5c7",
   "metadata": {},
   "outputs": [
    {
     "name": "stdout",
     "output_type": "stream",
     "text": [
      "Index(['Parent Region', 'District', 'Area (sq km)', 'Landcover', 'geometry',\n",
      "       'x', 'y', 'Grasslands', 'Croplands', 'Urban and Built-up Lands',\n",
      "       'Cropland/Natural Vegetation Mosaics', 'Savannas', 'Open Shrublands',\n",
      "       'Evergreen Broadleaf Forests', 'Mixed Forests', 'Woody Savannas',\n",
      "       'Barren', 'Permanent Wetlands', 'Deciduous Broadleaf Forests',\n",
      "       'Your Landcover Name for 17', 'Evergreen Needleleaf Forests',\n",
      "       'Permanent Snow and Ice', 'Closed Shrublands', 'Grasslands_scored',\n",
      "       'Croplands_scored', 'Cropland/Natural Vegetation Mosaics_scored',\n",
      "       'Mixed Forests_scored', 'Woody Savannas_scored', 'Barren_scored',\n",
      "       'Permanent Wetlands_scored', 'Permanent Snow and Ice_scored',\n",
      "       'Closed Shrublands_scored', 'ecScore',\n",
      "       'Urban and Built-up Lands_scored'],\n",
      "      dtype='object')\n"
     ]
    }
   ],
   "source": [
    "data.head()\n",
    "print(data.columns)\n"
   ]
  },
  {
   "cell_type": "code",
   "execution_count": 46,
   "id": "5a9c35ed",
   "metadata": {},
   "outputs": [
    {
     "name": "stderr",
     "output_type": "stream",
     "text": [
      "/Users/rishi/opt/anaconda3/lib/python3.9/site-packages/libpysal/weights/weights.py:224: UserWarning: The weights matrix is not fully connected: \n",
      " There are 6 disconnected components.\n",
      "  warnings.warn(message)\n"
     ]
    },
    {
     "name": "stdout",
     "output_type": "stream",
     "text": [
      "REGRESSION RESULTS\n",
      "------------------\n",
      "\n",
      "SUMMARY OF OUTPUT: ORDINARY LEAST SQUARES\n",
      "-----------------------------------------\n",
      "Data set            :     unknown\n",
      "Weights matrix      :     unknown\n",
      "Dependent Variable  :     dep_var                Number of Observations:         100\n",
      "Mean dependent var  : 235213.0077                Number of Variables   :           4\n",
      "S.D. dependent var  : 137789.4936                Degrees of Freedom    :          96\n",
      "R-squared           :      0.8445\n",
      "Adjusted R-squared  :      0.8396\n",
      "Sum squared residual: 2.92325e+11                F-statistic           :    173.7557\n",
      "Sigma-square        :3045048461.397                Prob(F-statistic)     :   1.166e-38\n",
      "S.E. of regression  :   55181.958                Log likelihood        :   -1231.692\n",
      "Sigma-square ML     :2923246522.941                Akaike info criterion :    2471.384\n",
      "S.E of regression ML:  54067.0558                Schwarz criterion     :    2481.804\n",
      "\n",
      "------------------------------------------------------------------------------------\n",
      "            Variable     Coefficient       Std.Error     t-Statistic     Probability\n",
      "------------------------------------------------------------------------------------\n",
      "            CONSTANT     -3686.52786     11912.60545        -0.30946         0.75764\n",
      "               var_1         1.21713         0.35878         3.39244         0.00101\n",
      "               var_2         1.02921         0.06803        15.12959         0.00000\n",
      "               var_3         0.92240         2.02414         0.45570         0.64963\n",
      "------------------------------------------------------------------------------------\n",
      "Warning: One variable has been removed for being constant.\n",
      "\n",
      "REGRESSION DIAGNOSTICS\n",
      "MULTICOLLINEARITY CONDITION NUMBER            6.399\n",
      "\n",
      "TEST ON NORMALITY OF ERRORS\n",
      "TEST                             DF        VALUE           PROB\n",
      "Jarque-Bera                       2         228.180           0.0000\n",
      "\n",
      "DIAGNOSTICS FOR HETEROSKEDASTICITY\n",
      "RANDOM COEFFICIENTS\n",
      "TEST                             DF        VALUE           PROB\n",
      "Breusch-Pagan test                3          18.966           0.0003\n",
      "Koenker-Bassett test              3           4.595           0.2040\n",
      "\n",
      "DIAGNOSTICS FOR SPATIAL DEPENDENCE\n",
      "TEST                              DF       VALUE           PROB\n",
      "Lagrange Multiplier (lag)         1           0.000           0.9966\n",
      "Robust LM (lag)                   1           4.243           0.0394\n",
      "Lagrange Multiplier (error)       1           1.806           0.1790\n",
      "Robust LM (error)                 1           6.049           0.0139\n",
      "Lagrange Multiplier (SARMA)       2           6.049           0.0486\n",
      "\n",
      "================================ END OF REPORT =====================================\n"
     ]
    },
    {
     "data": {
      "image/png": "[encoded data removed]",
      "text/plain": [
       "<Figure size 640x480 with 2 Axes>"
      ]
     },
     "metadata": {},
     "output_type": "display_data"
    }
   ],
   "source": [
    "import pandas as pd\n",
    "import geopandas as gpd\n",
    "import pysal\n",
    "from pysal.explore import esda\n",
    "from pysal.lib import weights\n",
    "from pysal.model import spreg\n",
    "import statsmodels.api as sm\n",
    "import numpy as np\n",
    "# Load the data\n",
    "\n",
    "\n",
    "# Convert the DataFrame to a GeoDataFrame\n",
    "gdf = gpd.GeoDataFrame(data, geometry=gpd.points_from_xy(data['x'], data['y']))\n",
    "\n",
    "# Create a spatial weights matrix\n",
    "w = weights.KNN.from_dataframe(gdf, k=5)\n",
    "\n",
    "# Calculate Moran's I statistic for service scores\n",
    "moran = esda.Moran_Local(gdf['ecScore'], w)\n",
    "\n",
    "# Identify significant clusters of high or low service scores\n",
    "significant_clusters = (moran.q == 1) | (moran.q == 3)\n",
    "\n",
    "# Plot the significant clusters on a map\n",
    "gdf['significant_clusters'] = significant_clusters.astype(int)\n",
    "gdf.plot(column='significant_clusters', cmap='coolwarm', legend=True)\n",
    "\n",
    "# Define the regression equation\n",
    "X = gdf[['Grasslands_scored', 'Croplands_scored', 'Urban and Built-up Lands_scored']]\n",
    "X = pysal.lib.weights.spatial_lag.lag_spatial(w, X)\n",
    "X = np.array(X)\n",
    "X = np.column_stack([np.ones(len(X)), X])\n",
    "y = np.array(gdf['ecScore'])\n",
    "\n",
    "# Perform spatial regression to assess the influence of land cover types on service scores\n",
    "model = spreg.OLS(y, X, w=w, spat_diag=True)\n",
    "print(model.summary)\n"
   ]
  }
 ],
 "metadata": {
  "kernelspec": {
   "display_name": "Python 3 (ipykernel)",
   "language": "python",
   "name": "python3"
  },
  "language_info": {
   "codemirror_mode": {
    "name": "ipython",
    "version": 3
   },
   "file_extension": ".py",
   "mimetype": "text/x-python",
   "name": "python",
   "nbconvert_exporter": "python",
   "pygments_lexer": "ipython3",
   "version": "3.9.15"
  },
  "widgets": {
   "application/vnd.jupyter.widget-state+json": {
    "state": {
     "02489af1bdde434980230a449bfc6a6b": {
      "model_module": "jupyter-leaflet",
      "model_module_version": "^0.17",
      "model_name": "LeafletDrawControlModel",
      "state": {
       "_model_module_version": "^0.17",
       "_view_module_version": "^0.17",
       "marker": {
        "shapeOptions": {
         "color": "#3388ff"
        }
       },
       "options": [
        "position"
       ],
       "rectangle": {
        "shapeOptions": {
         "color": "#3388ff"
        }
       }
      }
     },
     "039555d79dda41bf8fe6722cf860fd70": {
      "model_module": "jupyter-leaflet",
      "model_module_version": "^0.17",
      "model_name": "LeafletZoomControlModel",
      "state": {
       "_model_module_version": "^0.17",
       "_view_module_version": "^0.17",
       "options": [
        "position",
        "zoom_in_text",
        "zoom_in_title",
        "zoom_out_text",
        "zoom_out_title"
       ]
      }
     },
     "04706e91b4fd4630a00292fb96bed43d": {
      "model_module": "@jupyter-widgets/controls",
      "model_module_version": "2.0.0",
      "model_name": "ToggleButtonStyleModel",
      "state": {
       "description_width": "",
       "font_family": null,
       "font_size": null,
       "font_style": null,
       "font_variant": null,
       "font_weight": null,
       "text_color": null,
       "text_decoration": null
      }
     },
     "04e36d0434164d0391e43082dae3ed4b": {
      "model_module": "@jupyter-widgets/base",
      "model_module_version": "2.0.0",
      "model_name": "LayoutModel",
      "state": {
       "height": "auto",
       "padding": "0px 0px 0px 4px",
       "width": "auto"
      }
     },
     "06708f1c1f8a49e2856d320ee211d1c4": {
      "model_module": "@jupyter-widgets/controls",
      "model_module_version": "2.0.0",
      "model_name": "ToggleButtonStyleModel",
      "state": {
       "description_width": "",
       "font_family": null,
       "font_size": null,
       "font_style": null,
       "font_variant": null,
       "font_weight": null,
       "text_color": null,
       "text_decoration": null
      }
     },
     "07f4105eb0e24f77ad1834236dbd3c8b": {
      "model_module": "@jupyter-widgets/controls",
      "model_module_version": "2.0.0",
      "model_name": "ToggleButtonModel",
      "state": {
       "button_style": "primary",
       "icon": "info-circle",
       "layout": "IPY_MODEL_a61185ab056b4a978e0a1fc3345aee70",
       "style": "IPY_MODEL_2be3ded61e65483da97047988dfdf85d",
       "tooltip": "Get COG/STAC pixel value"
      }
     },
     "0ad862d715c64af7993da30fdba00bc0": {
      "model_module": "@jupyter-widgets/controls",
      "model_module_version": "2.0.0",
      "model_name": "ToggleButtonModel",
      "state": {
       "button_style": "primary",
       "icon": "folder-open",
       "layout": "IPY_MODEL_1ea8e82343af4aec9ff797141055a3fa",
       "style": "IPY_MODEL_873c3a7115ad4385ba7aa92ae4637efb",
       "tooltip": "Open local vector/raster data"
      }
     },
     "0d43d2bc70844cb19cc08604c08af98e": {
      "model_module": "@jupyter-widgets/controls",
      "model_module_version": "2.0.0",
      "model_name": "HBoxModel",
      "state": {
       "_view_count": 0,
       "children": [
        "IPY_MODEL_ec2115fd50664acc8043206897d05253"
       ],
       "layout": "IPY_MODEL_4881b6c0e54c4822bf5953663fdd0c34"
      }
     },
     "0f157ddb1eec4279a3515b6a9ce04be9": {
      "model_module": "@jupyter-widgets/controls",
      "model_module_version": "2.0.0",
      "model_name": "ToggleButtonStyleModel",
      "state": {
       "description_width": "",
       "font_family": null,
       "font_size": null,
       "font_style": null,
       "font_variant": null,
       "font_weight": null,
       "text_color": null,
       "text_decoration": null
      }
     },
     "0f5c6080d7214f8888feccd7d5e0b98c": {
      "model_module": "jupyter-leaflet",
      "model_module_version": "^0.17",
      "model_name": "LeafletTileLayerModel",
      "state": {
       "_model_module_version": "^0.17",
       "_view_module_version": "^0.17",
       "attribution": "Google Earth Engine",
       "max_zoom": 24,
       "name": "New Delhi",
       "options": [
        "attribution",
        "bounds",
        "detect_retina",
        "max_native_zoom",
        "max_zoom",
        "min_native_zoom",
        "min_zoom",
        "no_wrap",
        "tile_size",
        "tms",
        "zoom_offset"
       ],
       "url": "https://earthengine.googleapis.com/v1/projects/earthengine-legacy/maps/269bccabd644bcb24f7e6b1d10754a2c-9abc355a14722e32df7449f51d9b448e/tiles/{z}/{x}/{y}"
      }
     },
     "0fd137b4b9184a38b85c722a0802a915": {
      "model_module": "@jupyter-widgets/base",
      "model_module_version": "2.0.0",
      "model_name": "LayoutModel",
      "state": {}
     },
     "1353d76222f64310b23fdf8e03e26c6e": {
      "model_module": "jupyter-leaflet",
      "model_module_version": "^0.17",
      "model_name": "LeafletTileLayerModel",
      "state": {
       "_model_module_version": "^0.17",
       "_view_module_version": "^0.17",
       "attribution": "Google",
       "max_zoom": 24,
       "name": "Google Maps",
       "options": [
        "attribution",
        "bounds",
        "detect_retina",
        "max_native_zoom",
        "max_zoom",
        "min_native_zoom",
        "min_zoom",
        "no_wrap",
        "tile_size",
        "tms",
        "zoom_offset"
       ],
       "url": "https://mt1.google.com/vt/lyrs=m&x={x}&y={y}&z={z}"
      }
     },
     "149080f7dfe34b8b92290316506080fe": {
      "model_module": "@jupyter-widgets/controls",
      "model_module_version": "2.0.0",
      "model_name": "HBoxModel",
      "state": {
       "children": [
        "IPY_MODEL_5fb8a7a2cebe403d8fa8a331d79fe444",
        "IPY_MODEL_cb84a479c14745849dc0323e86ff3cbc"
       ],
       "layout": "IPY_MODEL_9807ad93d7d34298a3d4c6d90891590e"
      }
     },
     "154428225f6a47f49a8a65b360ef35f7": {
      "model_module": "@jupyter-widgets/controls",
      "model_module_version": "2.0.0",
      "model_name": "HTMLStyleModel",
      "state": {
       "description_width": "",
       "font_size": null,
       "text_color": null
      }
     },
     "1a54bc5f4bf648299282ce9e5c11f3da": {
      "model_module": "jupyter-leaflet",
      "model_module_version": "^0.17",
      "model_name": "LeafletAttributionControlModel",
      "state": {
       "_model_module_version": "^0.17",
       "_view_module_version": "^0.17",
       "options": [
        "position",
        "prefix"
       ],
       "position": "bottomright",
       "prefix": "ipyleaflet"
      }
     },
     "1acb09085bf24cb2af7ff2babf448c4d": {
      "model_module": "@jupyter-widgets/base",
      "model_module_version": "2.0.0",
      "model_name": "LayoutModel",
      "state": {
       "height": "auto",
       "padding": "0px 0px 0px 4px",
       "width": "auto"
      }
     },
     "1acf6318215948329c19d91c6303809f": {
      "model_module": "@jupyter-widgets/controls",
      "model_module_version": "2.0.0",
      "model_name": "ToggleButtonModel",
      "state": {
       "button_style": "primary",
       "icon": "adjust",
       "layout": "IPY_MODEL_363c7027381544c2943618e2b8e30100",
       "style": "IPY_MODEL_df70e8438dbf48e78b07f8f288410ab6",
       "tooltip": "Planet imagery"
      }
     },
     "1ea8e82343af4aec9ff797141055a3fa": {
      "model_module": "@jupyter-widgets/base",
      "model_module_version": "2.0.0",
      "model_name": "LayoutModel",
      "state": {
       "height": "auto",
       "padding": "0px 0px 0px 4px",
       "width": "auto"
      }
     },
     "1f9003f3724d4c48a394dd9820929dc3": {
      "model_module": "@jupyter-widgets/controls",
      "model_module_version": "2.0.0",
      "model_name": "VBoxModel",
      "state": {
       "_view_count": 0,
       "children": [
        "IPY_MODEL_cb84a479c14745849dc0323e86ff3cbc"
       ],
       "layout": "IPY_MODEL_7f78294374a046d094ef15644dcc34ce"
      }
     },
     "276bf1a171ef43b98ba1eccd82b8295f": {
      "model_module": "@jupyter-widgets/controls",
      "model_module_version": "2.0.0",
      "model_name": "ToggleButtonModel",
      "state": {
       "button_style": "primary",
       "icon": "info",
       "layout": "IPY_MODEL_dfe36907f064400b93e3d4f52abf2f64",
       "style": "IPY_MODEL_b73f97175c154c37964aedfd4d8ed2d0",
       "tooltip": "Inspector"
      }
     },
     "2ae80e8b72df4decbbef66997d2cda26": {
      "model_module": "jupyter-leaflet",
      "model_module_version": "^0.17",
      "model_name": "LeafletMapModel",
      "state": {
       "_model_module_version": "^0.17",
       "_view_module_version": "^0.17",
       "center": [
        21.64546673291641,
        78.25205471196459
       ],
       "controls": [
        "IPY_MODEL_33426cc2509d4d2d81b0dff63728fa1b",
        "IPY_MODEL_7e1daf6c8e5f479ab29163a175948ad9",
        "IPY_MODEL_c78213ea49b542a49bef56ef929ea378",
        "IPY_MODEL_02489af1bdde434980230a449bfc6a6b",
        "IPY_MODEL_ad9608c872b543c8acfa48a40ada9393",
        "IPY_MODEL_e9dc049f1e8e4043ac974442719cce90",
        "IPY_MODEL_7205a9b91a5b4756b1ea9ecf53ec0479",
        "IPY_MODEL_90fbf8d41f294e45a6ba573f9c6f8b40"
       ],
       "default_style": "IPY_MODEL_47029840119c4e8ebce75b58bc9f1640",
       "dragging_style": "IPY_MODEL_a429079493ac456b980a6cdfc42e93d5",
       "fullscreen": false,
       "interpolation": "bilinear",
       "layers": [
        "IPY_MODEL_53a991ef127742119bd3c464adc5deeb",
        "IPY_MODEL_1353d76222f64310b23fdf8e03e26c6e",
        "IPY_MODEL_0f5c6080d7214f8888feccd7d5e0b98c",
        "IPY_MODEL_de5beafd3acc423cbcb53c8c4576974e",
        "IPY_MODEL_38bbdeeb8cdc4d8bba28231f9b446987"
       ],
       "layout": "IPY_MODEL_6fe52fb297f4407e920f34ca069873d1",
       "max_zoom": 24,
       "modisdate": "2023-12-25",
       "options": [
        "bounce_at_zoom_limits",
        "box_zoom",
        "center",
        "close_popup_on_click",
        "double_click_zoom",
        "dragging",
        "fullscreen",
        "inertia",
        "inertia_deceleration",
        "inertia_max_speed",
        "interpolation",
        "keyboard",
        "keyboard_pan_offset",
        "keyboard_zoom_offset",
        "max_zoom",
        "min_zoom",
        "prefer_canvas",
        "scroll_wheel_zoom",
        "tap",
        "tap_tolerance",
        "touch_zoom",
        "world_copy_jump",
        "zoom",
        "zoom_animation_threshold",
        "zoom_delta",
        "zoom_snap"
       ],
       "prefer_canvas": false,
       "scroll_wheel_zoom": true,
       "style": "IPY_MODEL_4172b636d94c425f9d5db90b636f9113",
       "window_url": "http://localhost:8888/lab",
       "zoom": 5
      }
     },
     "2be3ded61e65483da97047988dfdf85d": {
      "model_module": "@jupyter-widgets/controls",
      "model_module_version": "2.0.0",
      "model_name": "ToggleButtonStyleModel",
      "state": {
       "description_width": "",
       "font_family": null,
       "font_size": null,
       "font_style": null,
       "font_variant": null,
       "font_weight": null,
       "text_color": null,
       "text_decoration": null
      }
     },
     "2f6720cc486946958b33653fd8d5a241": {
      "model_module": "@jupyter-widgets/controls",
      "model_module_version": "2.0.0",
      "model_name": "ToggleButtonsModel",
      "state": {
       "_options_labels": [
        "name/address",
        "lat-lon",
        "data"
       ],
       "button_style": "",
       "icons": [],
       "index": 0,
       "layout": "IPY_MODEL_327407eced434cb3b0212623b3b20a58",
       "style": "IPY_MODEL_9e163dfa16d544758d4207c837e41ec7",
       "tooltips": [
        "Search by place name or address",
        "Search by lat-lon coordinates",
        "Search Earth Engine data catalog"
       ]
      }
     },
     "303f3a5ef9894e38a4b316298953fb7f": {
      "model_module": "@jupyter-widgets/controls",
      "model_module_version": "2.0.0",
      "model_name": "ToggleButtonStyleModel",
      "state": {
       "description_width": "",
       "font_family": null,
       "font_size": null,
       "font_style": null,
       "font_variant": null,
       "font_weight": null,
       "text_color": null,
       "text_decoration": null
      }
     },
     "30a4126df4374e11b32dddb6aaaedfd2": {
      "model_module": "@jupyter-widgets/controls",
      "model_module_version": "2.0.0",
      "model_name": "VBoxModel",
      "state": {
       "children": [
        "IPY_MODEL_2f6720cc486946958b33653fd8d5a241",
        "IPY_MODEL_f682686552704eb7ad1d2ad3099851fe"
       ],
       "layout": "IPY_MODEL_8dc5c4a4760a4edd8a73f8845b263531"
      }
     },
     "327407eced434cb3b0212623b3b20a58": {
      "model_module": "@jupyter-widgets/base",
      "model_module_version": "2.0.0",
      "model_name": "LayoutModel",
      "state": {}
     },
     "33426cc2509d4d2d81b0dff63728fa1b": {
      "model_module": "jupyter-leaflet",
      "model_module_version": "^0.17",
      "model_name": "LeafletWidgetControlModel",
      "state": {
       "_model_module": "jupyter-leaflet",
       "_model_module_version": "^0.17",
       "_view_count": null,
       "_view_module": "jupyter-leaflet",
       "_view_module_version": "^0.17",
       "options": [
        "position",
        "transparent_bg"
       ],
       "position": "topleft",
       "widget": "IPY_MODEL_0d43d2bc70844cb19cc08604c08af98e"
      }
     },
     "363c7027381544c2943618e2b8e30100": {
      "model_module": "@jupyter-widgets/base",
      "model_module_version": "2.0.0",
      "model_name": "LayoutModel",
      "state": {
       "height": "auto",
       "padding": "0px 0px 0px 4px",
       "width": "auto"
      }
     },
     "3792890646d14541ad8b0e402669391d": {
      "model_module": "@jupyter-widgets/base",
      "model_module_version": "2.0.0",
      "model_name": "LayoutModel",
      "state": {
       "height": "auto",
       "padding": "0px 0px 0px 4px",
       "width": "auto"
      }
     },
     "38a602ef205e4a47a5998681e29cd535": {
      "model_module": "@jupyter-widgets/controls",
      "model_module_version": "2.0.0",
      "model_name": "ToggleButtonModel",
      "state": {
       "button_style": "primary",
       "icon": "random",
       "layout": "IPY_MODEL_f011a40589434cda8f2c3ff415e0c9e4",
       "style": "IPY_MODEL_d9ec2bf7c332450995875e38694efcbe",
       "tooltip": "Sankey plots"
      }
     },
     "38bbdeeb8cdc4d8bba28231f9b446987": {
      "model_module": "jupyter-leaflet",
      "model_module_version": "^0.17",
      "model_name": "LeafletTileLayerModel",
      "state": {
       "_model_module_version": "^0.17",
       "_view_module_version": "^0.17",
       "attribution": "Google Earth Engine",
       "max_zoom": 24,
       "name": "NDVI New Delhi 2001",
       "options": [
        "attribution",
        "bounds",
        "detect_retina",
        "max_native_zoom",
        "max_zoom",
        "min_native_zoom",
        "min_zoom",
        "no_wrap",
        "tile_size",
        "tms",
        "zoom_offset"
       ],
       "url": "https://earthengine.googleapis.com/v1/projects/earthengine-legacy/maps/fd45ff689a7135168bde8ef30e4cf9fa-46f779be5bcb2ae5b353462dea721628/tiles/{z}/{x}/{y}"
      }
     },
     "38e48767685b4365be1d9bfa93ce6f28": {
      "model_module": "@jupyter-widgets/controls",
      "model_module_version": "2.0.0",
      "model_name": "DescriptionStyleModel",
      "state": {
       "description_width": ""
      }
     },
     "3edfaba3f0624ffcac9fc58135b14214": {
      "model_module": "@jupyter-widgets/controls",
      "model_module_version": "2.0.0",
      "model_name": "ButtonStyleModel",
      "state": {
       "font_family": null,
       "font_size": null,
       "font_style": null,
       "font_variant": null,
       "font_weight": null,
       "text_color": null,
       "text_decoration": null
      }
     },
     "4172b636d94c425f9d5db90b636f9113": {
      "model_module": "jupyter-leaflet",
      "model_module_version": "^0.17",
      "model_name": "LeafletMapStyleModel",
      "state": {
       "_model_module_version": "^0.17"
      }
     },
     "447f5066324249c48ba0292462f0d5ff": {
      "model_module": "@jupyter-widgets/controls",
      "model_module_version": "2.0.0",
      "model_name": "HBoxModel",
      "state": {
       "children": [
        "IPY_MODEL_54bed3b94ef846d6a91fc0d6293e2ed7",
        "IPY_MODEL_86fc44577d3c445e9b36e578bfe39bd5"
       ],
       "layout": "IPY_MODEL_0fd137b4b9184a38b85c722a0802a915"
      }
     },
     "4517456b450c4c4eb0a02bda68287aed": {
      "model_module": "@jupyter-widgets/controls",
      "model_module_version": "2.0.0",
      "model_name": "ToggleButtonStyleModel",
      "state": {
       "description_width": "",
       "font_family": null,
       "font_size": null,
       "font_style": null,
       "font_variant": null,
       "font_weight": null,
       "text_color": null,
       "text_decoration": null
      }
     },
     "453eb64cc06a4389a8f71e269369cbf0": {
      "model_module": "@jupyter-widgets/controls",
      "model_module_version": "2.0.0",
      "model_name": "ToggleButtonModel",
      "state": {
       "button_style": "primary",
       "icon": "globe",
       "layout": "IPY_MODEL_1acb09085bf24cb2af7ff2babf448c4d",
       "style": "IPY_MODEL_0f157ddb1eec4279a3515b6a9ce04be9",
       "tooltip": "Create timelapse"
      }
     },
     "47029840119c4e8ebce75b58bc9f1640": {
      "model_module": "jupyter-leaflet",
      "model_module_version": "^0.17",
      "model_name": "LeafletMapStyleModel",
      "state": {
       "_model_module_version": "^0.17"
      }
     },
     "4881b6c0e54c4822bf5953663fdd0c34": {
      "model_module": "@jupyter-widgets/base",
      "model_module_version": "2.0.0",
      "model_name": "LayoutModel",
      "state": {}
     },
     "49669df8703044f6b72675282cfab65c": {
      "model_module": "@jupyter-widgets/base",
      "model_module_version": "2.0.0",
      "model_name": "LayoutModel",
      "state": {
       "height": "auto",
       "padding": "0px 0px 0px 4px",
       "width": "auto"
      }
     },
     "49dffc94a0dc4033801540ad73455ac2": {
      "model_module": "@jupyter-widgets/base",
      "model_module_version": "2.0.0",
      "model_name": "LayoutModel",
      "state": {
       "width": "500px"
      }
     },
     "4a5bdfb4fc3a4d9ba89f4ecf0446abc2": {
      "model_module": "@jupyter-widgets/controls",
      "model_module_version": "2.0.0",
      "model_name": "ToggleButtonModel",
      "state": {
       "button_style": "primary",
       "icon": "fast-forward",
       "layout": "IPY_MODEL_e211021e016a48b7a4fea4bde0a13a91",
       "style": "IPY_MODEL_5f61cd5fdd4d43ad848c3a61701127a8",
       "tooltip": "Activate timeslider"
      }
     },
     "5260efc570384eb09975215961ec559a": {
      "model_module": "@jupyter-widgets/controls",
      "model_module_version": "2.0.0",
      "model_name": "ToggleButtonModel",
      "state": {
       "button_style": "primary",
       "icon": "map",
       "layout": "IPY_MODEL_c8505884838d40b09d0538e971e5245b",
       "style": "IPY_MODEL_4517456b450c4c4eb0a02bda68287aed",
       "tooltip": "Change basemap"
      }
     },
     "53a991ef127742119bd3c464adc5deeb": {
      "model_module": "jupyter-leaflet",
      "model_module_version": "^0.17",
      "model_name": "LeafletTileLayerModel",
      "state": {
       "_model_module_version": "^0.17",
       "_view_module_version": "^0.17",
       "attribution": "&copy; <a href=\"https://www.openstreetmap.org/copyright\">OpenStreetMap</a> contributors",
       "base": true,
       "max_zoom": 19,
       "min_zoom": 1,
       "name": "OpenStreetMap.Mapnik",
       "options": [
        "attribution",
        "bounds",
        "detect_retina",
        "max_native_zoom",
        "max_zoom",
        "min_native_zoom",
        "min_zoom",
        "no_wrap",
        "tile_size",
        "tms",
        "zoom_offset"
       ],
       "url": "https://tile.openstreetmap.org/{z}/{x}/{y}.png"
      }
     },
     "54bed3b94ef846d6a91fc0d6293e2ed7": {
      "model_module": "@jupyter-widgets/controls",
      "model_module_version": "2.0.0",
      "model_name": "ButtonModel",
      "state": {
       "button_style": "primary",
       "description": "import",
       "layout": "IPY_MODEL_963c2a8d53934d7fa51d180f2918de3a",
       "style": "IPY_MODEL_3edfaba3f0624ffcac9fc58135b14214",
       "tooltip": "Click to import the selected asset"
      }
     },
     "57bb6112c78b479da2d8a91888f72021": {
      "model_module": "@jupyter-widgets/controls",
      "model_module_version": "2.0.0",
      "model_name": "ToggleButtonStyleModel",
      "state": {
       "description_width": "",
       "font_family": null,
       "font_size": null,
       "font_style": null,
       "font_variant": null,
       "font_weight": null,
       "text_color": null,
       "text_decoration": null
      }
     },
     "5898aedbfb3840c491437e92f7941fd5": {
      "model_module": "@jupyter-widgets/controls",
      "model_module_version": "2.0.0",
      "model_name": "TextStyleModel",
      "state": {
       "description_width": "",
       "font_size": null,
       "text_color": null
      }
     },
     "5a0a844e85f8422c96e720ae8a1f27ea": {
      "model_module": "@jupyter-widgets/base",
      "model_module_version": "2.0.0",
      "model_name": "LayoutModel",
      "state": {
       "height": "28px",
       "width": "72px"
      }
     },
     "5d29657b64004ac0b4783bbd6cad33c3": {
      "model_module": "@jupyter-widgets/controls",
      "model_module_version": "2.0.0",
      "model_name": "ToggleButtonModel",
      "state": {
       "button_style": "primary",
       "icon": "line-chart",
       "layout": "IPY_MODEL_abf9459578bb4ee9b05efdc362aa5172",
       "style": "IPY_MODEL_a1841530b46640ac97dcc419aa23d2c4",
       "tooltip": "Creating and plotting transects"
      }
     },
     "5f61cd5fdd4d43ad848c3a61701127a8": {
      "model_module": "@jupyter-widgets/controls",
      "model_module_version": "2.0.0",
      "model_name": "ToggleButtonStyleModel",
      "state": {
       "description_width": "",
       "font_family": null,
       "font_size": null,
       "font_style": null,
       "font_variant": null,
       "font_weight": null,
       "text_color": null,
       "text_decoration": null
      }
     },
     "5fb8a7a2cebe403d8fa8a331d79fe444": {
      "model_module": "@jupyter-widgets/controls",
      "model_module_version": "2.0.0",
      "model_name": "ToggleButtonModel",
      "state": {
       "icon": "server",
       "layout": "IPY_MODEL_5a0a844e85f8422c96e720ae8a1f27ea",
       "style": "IPY_MODEL_303f3a5ef9894e38a4b316298953fb7f",
       "tooltip": "Layers"
      }
     },
     "667289c0e9514ffa814329b2658a17ad": {
      "model_module": "@jupyter-widgets/base",
      "model_module_version": "2.0.0",
      "model_name": "LayoutModel",
      "state": {
       "height": "auto",
       "padding": "0px 0px 0px 4px",
       "width": "auto"
      }
     },
     "66bf995e19d840e8bc7ce168404d3176": {
      "model_module": "@jupyter-widgets/controls",
      "model_module_version": "2.0.0",
      "model_name": "ToggleButtonModel",
      "state": {
       "button_style": "primary",
       "icon": "eraser",
       "layout": "IPY_MODEL_04e36d0434164d0391e43082dae3ed4b",
       "style": "IPY_MODEL_c13b0174d4ce4439a727092bf8ac37d1",
       "tooltip": "Remove all drawn features"
      }
     },
     "6fe52fb297f4407e920f34ca069873d1": {
      "model_module": "@jupyter-widgets/base",
      "model_module_version": "2.0.0",
      "model_name": "LayoutModel",
      "state": {
       "height": "600px"
      }
     },
     "7205a9b91a5b4756b1ea9ecf53ec0479": {
      "model_module": "jupyter-leaflet",
      "model_module_version": "^0.17",
      "model_name": "LeafletWidgetControlModel",
      "state": {
       "_model_module": "jupyter-leaflet",
       "_model_module_version": "^0.17",
       "_view_count": null,
       "_view_module": "jupyter-leaflet",
       "_view_module_version": "^0.17",
       "options": [
        "position",
        "transparent_bg"
       ],
       "position": "topright",
       "widget": "IPY_MODEL_1f9003f3724d4c48a394dd9820929dc3"
      }
     },
     "7e1daf6c8e5f479ab29163a175948ad9": {
      "model_module": "jupyter-leaflet",
      "model_module_version": "^0.17",
      "model_name": "LeafletZoomControlModel",
      "state": {
       "_model_module_version": "^0.17",
       "_view_module_version": "^0.17",
       "options": [
        "position",
        "zoom_in_text",
        "zoom_in_title",
        "zoom_out_text",
        "zoom_out_title"
       ]
      }
     },
     "7f221cfb2e3340d19aaf6b0d8bda94dc": {
      "model_module": "@jupyter-widgets/base",
      "model_module_version": "2.0.0",
      "model_name": "LayoutModel",
      "state": {}
     },
     "7f462d5ec3ae4fb094a820624705394a": {
      "model_module": "@jupyter-widgets/controls",
      "model_module_version": "2.0.0",
      "model_name": "HTMLModel",
      "state": {
       "layout": "IPY_MODEL_7f221cfb2e3340d19aaf6b0d8bda94dc",
       "style": "IPY_MODEL_154428225f6a47f49a8a65b360ef35f7"
      }
     },
     "7f78294374a046d094ef15644dcc34ce": {
      "model_module": "@jupyter-widgets/base",
      "model_module_version": "2.0.0",
      "model_name": "LayoutModel",
      "state": {}
     },
     "82706f63ac514d5cbcb2c82c5bbcde20": {
      "model_module": "@jupyter-widgets/base",
      "model_module_version": "2.0.0",
      "model_name": "LayoutModel",
      "state": {}
     },
     "86fc44577d3c445e9b36e578bfe39bd5": {
      "model_module": "@jupyter-widgets/controls",
      "model_module_version": "2.0.0",
      "model_name": "DropdownModel",
      "state": {
       "index": null,
       "layout": "IPY_MODEL_adcec678e255412a919906bf7bff9443",
       "style": "IPY_MODEL_38e48767685b4365be1d9bfa93ce6f28"
      }
     },
     "873c3a7115ad4385ba7aa92ae4637efb": {
      "model_module": "@jupyter-widgets/controls",
      "model_module_version": "2.0.0",
      "model_name": "ToggleButtonStyleModel",
      "state": {
       "description_width": "",
       "font_family": null,
       "font_size": null,
       "font_style": null,
       "font_variant": null,
       "font_weight": null,
       "text_color": null,
       "text_decoration": null
      }
     },
     "890359d7285e40748f03e1c56afe61d1": {
      "model_module": "@jupyter-widgets/controls",
      "model_module_version": "2.0.0",
      "model_name": "ToggleButtonModel",
      "state": {
       "button_style": "primary",
       "icon": "bar-chart",
       "layout": "IPY_MODEL_667289c0e9514ffa814329b2658a17ad",
       "style": "IPY_MODEL_04706e91b4fd4630a00292fb96bed43d",
       "tooltip": "Plotting"
      }
     },
     "8dc5c4a4760a4edd8a73f8845b263531": {
      "model_module": "@jupyter-widgets/base",
      "model_module_version": "2.0.0",
      "model_name": "LayoutModel",
      "state": {}
     },
     "8f61ecd9806144f3abb474de2bb5c1ba": {
      "model_module": "@jupyter-widgets/controls",
      "model_module_version": "2.0.0",
      "model_name": "ToggleButtonModel",
      "state": {
       "button_style": "primary",
       "icon": "hand-o-up",
       "layout": "IPY_MODEL_9c9c921fd05d4a56b0c71afffaf91721",
       "style": "IPY_MODEL_f8db6f1cc54e4b08943a4d7f9e85622c",
       "tooltip": "Collect training samples"
      }
     },
     "90fbf8d41f294e45a6ba573f9c6f8b40": {
      "model_module": "jupyter-leaflet",
      "model_module_version": "^0.17",
      "model_name": "LeafletAttributionControlModel",
      "state": {
       "_model_module_version": "^0.17",
       "_view_module_version": "^0.17",
       "options": [
        "position",
        "prefix"
       ],
       "position": "bottomright",
       "prefix": "ipyleaflet"
      }
     },
     "933f2854e6d14a58b4b268f8a2f6924f": {
      "model_module": "ipyevents",
      "model_module_version": "2.0.1",
      "model_name": "EventModel",
      "state": {
       "_supported_key_events": [
        "keydown",
        "keyup"
       ],
       "_supported_mouse_events": [
        "click",
        "auxclick",
        "dblclick",
        "mouseenter",
        "mouseleave",
        "mousedown",
        "mouseup",
        "mousemove",
        "wheel",
        "contextmenu",
        "dragstart",
        "drag",
        "dragend",
        "dragenter",
        "dragover",
        "dragleave",
        "drop"
       ],
       "_supported_touch_events": [
        "touchstart",
        "touchend",
        "touchmove",
        "touchcancel"
       ],
       "_view_module": "@jupyter-widgets/controls",
       "source": "IPY_MODEL_1f9003f3724d4c48a394dd9820929dc3",
       "throttle_or_debounce": "",
       "watched_events": [
        "mouseenter",
        "mouseleave"
       ],
       "xy_coordinate_system": ""
      }
     },
     "963c2a8d53934d7fa51d180f2918de3a": {
      "model_module": "@jupyter-widgets/base",
      "model_module_version": "2.0.0",
      "model_name": "LayoutModel",
      "state": {
       "max_width": "57px",
       "min_width": "57px"
      }
     },
     "9807ad93d7d34298a3d4c6d90891590e": {
      "model_module": "@jupyter-widgets/base",
      "model_module_version": "2.0.0",
      "model_name": "LayoutModel",
      "state": {}
     },
     "9babad48c2bf488a8dfae0abaa8a33f4": {
      "model_module": "@jupyter-widgets/base",
      "model_module_version": "2.0.0",
      "model_name": "LayoutModel",
      "state": {
       "height": "28px",
       "padding": "0px 0px 0px 4px",
       "width": "28px"
      }
     },
     "9c9c921fd05d4a56b0c71afffaf91721": {
      "model_module": "@jupyter-widgets/base",
      "model_module_version": "2.0.0",
      "model_name": "LayoutModel",
      "state": {
       "height": "auto",
       "padding": "0px 0px 0px 4px",
       "width": "auto"
      }
     },
     "9e163dfa16d544758d4207c837e41ec7": {
      "model_module": "@jupyter-widgets/controls",
      "model_module_version": "2.0.0",
      "model_name": "ToggleButtonsStyleModel",
      "state": {
       "button_width": "110px",
       "description_width": ""
      }
     },
     "a1841530b46640ac97dcc419aa23d2c4": {
      "model_module": "@jupyter-widgets/controls",
      "model_module_version": "2.0.0",
      "model_name": "ToggleButtonStyleModel",
      "state": {
       "description_width": "",
       "font_family": null,
       "font_size": null,
       "font_style": null,
       "font_variant": null,
       "font_weight": null,
       "text_color": null,
       "text_decoration": null
      }
     },
     "a212db3bada54b14829673487ad5508a": {
      "model_module": "@jupyter-widgets/base",
      "model_module_version": "2.0.0",
      "model_name": "LayoutModel",
      "state": {
       "max_height": "350px",
       "max_width": "340px",
       "overflow": "scroll"
      }
     },
     "a429079493ac456b980a6cdfc42e93d5": {
      "model_module": "jupyter-leaflet",
      "model_module_version": "^0.17",
      "model_name": "LeafletMapStyleModel",
      "state": {
       "_model_module_version": "^0.17",
       "cursor": "move"
      }
     },
     "a61185ab056b4a978e0a1fc3345aee70": {
      "model_module": "@jupyter-widgets/base",
      "model_module_version": "2.0.0",
      "model_name": "LayoutModel",
      "state": {
       "height": "auto",
       "padding": "0px 0px 0px 4px",
       "width": "auto"
      }
     },
     "abf9459578bb4ee9b05efdc362aa5172": {
      "model_module": "@jupyter-widgets/base",
      "model_module_version": "2.0.0",
      "model_name": "LayoutModel",
      "state": {
       "height": "auto",
       "padding": "0px 0px 0px 4px",
       "width": "auto"
      }
     },
     "ad24d4a1a19c45d9871078690b61e24a": {
      "model_module": "@jupyter-widgets/controls",
      "model_module_version": "2.0.0",
      "model_name": "ToggleButtonModel",
      "state": {
       "button_style": "primary",
       "icon": "plus",
       "layout": "IPY_MODEL_49669df8703044f6b72675282cfab65c",
       "style": "IPY_MODEL_ead70a7eb3004d87b8f9064121eefbcc",
       "tooltip": "Expand toolbar"
      }
     },
     "ad9608c872b543c8acfa48a40ada9393": {
      "model_module": "jupyter-leaflet",
      "model_module_version": "^0.17",
      "model_name": "LeafletScaleControlModel",
      "state": {
       "_model_module_version": "^0.17",
       "_view_module_version": "^0.17",
       "imperial": true,
       "max_width": 100,
       "metric": true,
       "options": [
        "imperial",
        "max_width",
        "metric",
        "position",
        "update_when_idle"
       ],
       "position": "bottomleft",
       "update_when_idle": false
      }
     },
     "adcec678e255412a919906bf7bff9443": {
      "model_module": "@jupyter-widgets/base",
      "model_module_version": "2.0.0",
      "model_name": "LayoutModel",
      "state": {
       "max_width": "279px",
       "min_width": "279px"
      }
     },
     "b73f97175c154c37964aedfd4d8ed2d0": {
      "model_module": "@jupyter-widgets/controls",
      "model_module_version": "2.0.0",
      "model_name": "ToggleButtonStyleModel",
      "state": {
       "description_width": "",
       "font_family": null,
       "font_size": null,
       "font_style": null,
       "font_variant": null,
       "font_weight": null,
       "text_color": null,
       "text_decoration": null
      }
     },
     "b882679b494b4190939e40713b98fa76": {
      "model_module": "@jupyter-widgets/controls",
      "model_module_version": "2.0.0",
      "model_name": "ToggleButtonModel",
      "state": {
       "button_style": "primary",
       "icon": "retweet",
       "layout": "IPY_MODEL_3792890646d14541ad8b0e402669391d",
       "style": "IPY_MODEL_f3f6392007734995b4e91a2d0b61fbef",
       "tooltip": "Convert Earth Engine JavaScript to Python"
      }
     },
     "bac4f100c9ff4e249abd1e49792fb580": {
      "model_module": "ipyevents",
      "model_module_version": "2.0.1",
      "model_name": "EventModel",
      "state": {
       "_supported_key_events": [
        "keydown",
        "keyup"
       ],
       "_supported_mouse_events": [
        "click",
        "auxclick",
        "dblclick",
        "mouseenter",
        "mouseleave",
        "mousedown",
        "mouseup",
        "mousemove",
        "wheel",
        "contextmenu",
        "dragstart",
        "drag",
        "dragend",
        "dragenter",
        "dragover",
        "dragleave",
        "drop"
       ],
       "_supported_touch_events": [
        "touchstart",
        "touchend",
        "touchmove",
        "touchcancel"
       ],
       "_view_module": "@jupyter-widgets/controls",
       "source": "IPY_MODEL_0d43d2bc70844cb19cc08604c08af98e",
       "throttle_or_debounce": "",
       "watched_events": [
        "mouseenter",
        "mouseleave"
       ],
       "xy_coordinate_system": ""
      }
     },
     "bc5c270808e1488d837b87bc0bcbf58a": {
      "model_module": "@jupyter-widgets/base",
      "model_module_version": "2.0.0",
      "model_name": "LayoutModel",
      "state": {
       "height": "28px",
       "padding": "0px 0px 0px 4px",
       "width": "28px"
      }
     },
     "c13b0174d4ce4439a727092bf8ac37d1": {
      "model_module": "@jupyter-widgets/controls",
      "model_module_version": "2.0.0",
      "model_name": "ToggleButtonStyleModel",
      "state": {
       "description_width": "",
       "font_family": null,
       "font_size": null,
       "font_style": null,
       "font_variant": null,
       "font_weight": null,
       "text_color": null,
       "text_decoration": null
      }
     },
     "c78213ea49b542a49bef56ef929ea378": {
      "model_module": "jupyter-leaflet",
      "model_module_version": "^0.17",
      "model_name": "LeafletFullScreenControlModel",
      "state": {
       "_model_module_version": "^0.17",
       "_view_module_version": "^0.17",
       "options": [
        "position"
       ]
      }
     },
     "c8505884838d40b09d0538e971e5245b": {
      "model_module": "@jupyter-widgets/base",
      "model_module_version": "2.0.0",
      "model_name": "LayoutModel",
      "state": {
       "height": "auto",
       "padding": "0px 0px 0px 4px",
       "width": "auto"
      }
     },
     "c8c4d77f275d4ff4907765af47b60500": {
      "model_module": "@jupyter-widgets/base",
      "model_module_version": "2.0.0",
      "model_name": "LayoutModel",
      "state": {
       "height": "auto",
       "padding": "0px 0px 0px 4px",
       "width": "auto"
      }
     },
     "cb84a479c14745849dc0323e86ff3cbc": {
      "model_module": "@jupyter-widgets/controls",
      "model_module_version": "2.0.0",
      "model_name": "ToggleButtonModel",
      "state": {
       "icon": "wrench",
       "layout": "IPY_MODEL_bc5c270808e1488d837b87bc0bcbf58a",
       "style": "IPY_MODEL_06708f1c1f8a49e2856d320ee211d1c4",
       "tooltip": "Toolbar"
      }
     },
     "ce0fe5dfecf041aba82047d647584954": {
      "model_module": "@jupyter-widgets/base",
      "model_module_version": "2.0.0",
      "model_name": "LayoutModel",
      "state": {
       "width": "340px"
      }
     },
     "cea7aed5d60641a694ace20e7f4c32b1": {
      "model_module": "@jupyter-widgets/controls",
      "model_module_version": "2.0.0",
      "model_name": "ToggleButtonStyleModel",
      "state": {
       "description_width": "",
       "font_family": null,
       "font_size": null,
       "font_style": null,
       "font_variant": null,
       "font_weight": null,
       "text_color": null,
       "text_decoration": null
      }
     },
     "d1bde5a494f64a34a1b704f6b414d5c1": {
      "model_module": "@jupyter-widgets/controls",
      "model_module_version": "2.0.0",
      "model_name": "DescriptionStyleModel",
      "state": {
       "description_width": ""
      }
     },
     "d9ec2bf7c332450995875e38694efcbe": {
      "model_module": "@jupyter-widgets/controls",
      "model_module_version": "2.0.0",
      "model_name": "ToggleButtonStyleModel",
      "state": {
       "description_width": "",
       "font_family": null,
       "font_size": null,
       "font_style": null,
       "font_variant": null,
       "font_weight": null,
       "text_color": null,
       "text_decoration": null
      }
     },
     "da9f386a3e024662abc48b7a3648e8e6": {
      "model_module": "@jupyter-widgets/output",
      "model_module_version": "1.0.0",
      "model_name": "OutputModel",
      "state": {
       "layout": "IPY_MODEL_a212db3bada54b14829673487ad5508a"
      }
     },
     "de5beafd3acc423cbcb53c8c4576974e": {
      "model_module": "jupyter-leaflet",
      "model_module_version": "^0.17",
      "model_name": "LeafletTileLayerModel",
      "state": {
       "_model_module_version": "^0.17",
       "_view_module_version": "^0.17",
       "attribution": "Google Earth Engine",
       "max_zoom": 24,
       "name": "Surrounding Administrative Units",
       "options": [
        "attribution",
        "bounds",
        "detect_retina",
        "max_native_zoom",
        "max_zoom",
        "min_native_zoom",
        "min_zoom",
        "no_wrap",
        "tile_size",
        "tms",
        "zoom_offset"
       ],
       "url": "https://earthengine.googleapis.com/v1/projects/earthengine-legacy/maps/c7e26473f4d91709dbe63847211bc983-0a82d6dd07ef0ddeb93c47808bb512fc/tiles/{z}/{x}/{y}"
      }
     },
     "def64db7c7c94797a0565bd13dca03c3": {
      "model_module": "@jupyter-widgets/base",
      "model_module_version": "2.0.0",
      "model_name": "LayoutModel",
      "state": {
       "grid_gap": "1px 1px",
       "grid_template_columns": "32px 32px 32px ",
       "grid_template_rows": "32px 32px ",
       "padding": "5px",
       "width": "109px"
      }
     },
     "df70e8438dbf48e78b07f8f288410ab6": {
      "model_module": "@jupyter-widgets/controls",
      "model_module_version": "2.0.0",
      "model_name": "ToggleButtonStyleModel",
      "state": {
       "description_width": "",
       "font_family": null,
       "font_size": null,
       "font_style": null,
       "font_variant": null,
       "font_weight": null,
       "text_color": null,
       "text_decoration": null
      }
     },
     "dfe36907f064400b93e3d4f52abf2f64": {
      "model_module": "@jupyter-widgets/base",
      "model_module_version": "2.0.0",
      "model_name": "LayoutModel",
      "state": {
       "height": "auto",
       "padding": "0px 0px 0px 4px",
       "width": "auto"
      }
     },
     "e211021e016a48b7a4fea4bde0a13a91": {
      "model_module": "@jupyter-widgets/base",
      "model_module_version": "2.0.0",
      "model_name": "LayoutModel",
      "state": {
       "height": "auto",
       "padding": "0px 0px 0px 4px",
       "width": "auto"
      }
     },
     "e2d86a2a6f734ee6bfad243c982acc64": {
      "model_module": "@jupyter-widgets/controls",
      "model_module_version": "2.0.0",
      "model_name": "VBoxModel",
      "state": {
       "children": [
        "IPY_MODEL_e31dc885a3264c5b896e83f58d08f132"
       ],
       "layout": "IPY_MODEL_82706f63ac514d5cbcb2c82c5bbcde20"
      }
     },
     "e31dc885a3264c5b896e83f58d08f132": {
      "model_module": "@jupyter-widgets/controls",
      "model_module_version": "2.0.0",
      "model_name": "GridBoxModel",
      "state": {
       "children": [
        "IPY_MODEL_276bf1a171ef43b98ba1eccd82b8295f",
        "IPY_MODEL_890359d7285e40748f03e1c56afe61d1",
        "IPY_MODEL_453eb64cc06a4389a8f71e269369cbf0",
        "IPY_MODEL_5260efc570384eb09975215961ec559a",
        "IPY_MODEL_b882679b494b4190939e40713b98fa76",
        "IPY_MODEL_ad24d4a1a19c45d9871078690b61e24a"
       ],
       "layout": "IPY_MODEL_def64db7c7c94797a0565bd13dca03c3"
      }
     },
     "e4bb7ca037944aad836e960b0b155eca": {
      "model_module": "@jupyter-widgets/controls",
      "model_module_version": "2.0.0",
      "model_name": "RadioButtonsModel",
      "state": {
       "index": null,
       "layout": "IPY_MODEL_f2c7aef72ffd457e8064bb5de4c2784b",
       "style": "IPY_MODEL_d1bde5a494f64a34a1b704f6b414d5c1"
      }
     },
     "e9dc049f1e8e4043ac974442719cce90": {
      "model_module": "jupyter-leaflet",
      "model_module_version": "^0.17",
      "model_name": "LeafletMeasureControlModel",
      "state": {
       "_model_module_version": "^0.17",
       "_view_module_version": "^0.17",
       "active_color": "orange",
       "options": [
        "active_color",
        "capture_z_index",
        "completed_color",
        "popup_options",
        "position",
        "primary_area_unit",
        "primary_length_unit",
        "secondary_area_unit",
        "secondary_length_unit"
       ],
       "position": "bottomleft",
       "primary_length_unit": "kilometers",
       "secondary_area_unit": null,
       "secondary_length_unit": null
      }
     },
     "ead70a7eb3004d87b8f9064121eefbcc": {
      "model_module": "@jupyter-widgets/controls",
      "model_module_version": "2.0.0",
      "model_name": "ToggleButtonStyleModel",
      "state": {
       "description_width": "",
       "font_family": null,
       "font_size": null,
       "font_style": null,
       "font_variant": null,
       "font_weight": null,
       "text_color": null,
       "text_decoration": null
      }
     },
     "ec2115fd50664acc8043206897d05253": {
      "model_module": "@jupyter-widgets/controls",
      "model_module_version": "2.0.0",
      "model_name": "ToggleButtonModel",
      "state": {
       "icon": "globe",
       "layout": "IPY_MODEL_9babad48c2bf488a8dfae0abaa8a33f4",
       "style": "IPY_MODEL_57bb6112c78b479da2d8a91888f72021",
       "tooltip": "Search location/data"
      }
     },
     "f011a40589434cda8f2c3ff415e0c9e4": {
      "model_module": "@jupyter-widgets/base",
      "model_module_version": "2.0.0",
      "model_name": "LayoutModel",
      "state": {
       "height": "auto",
       "padding": "0px 0px 0px 4px",
       "width": "auto"
      }
     },
     "f2c7aef72ffd457e8064bb5de4c2784b": {
      "model_module": "@jupyter-widgets/base",
      "model_module_version": "2.0.0",
      "model_name": "LayoutModel",
      "state": {}
     },
     "f3f6392007734995b4e91a2d0b61fbef": {
      "model_module": "@jupyter-widgets/controls",
      "model_module_version": "2.0.0",
      "model_name": "ToggleButtonStyleModel",
      "state": {
       "description_width": "",
       "font_family": null,
       "font_size": null,
       "font_style": null,
       "font_variant": null,
       "font_weight": null,
       "text_color": null,
       "text_decoration": null
      }
     },
     "f682686552704eb7ad1d2ad3099851fe": {
      "model_module": "@jupyter-widgets/controls",
      "model_module_version": "2.0.0",
      "model_name": "TextModel",
      "state": {
       "layout": "IPY_MODEL_ce0fe5dfecf041aba82047d647584954",
       "placeholder": "Search by place name or address",
       "style": "IPY_MODEL_5898aedbfb3840c491437e92f7941fd5",
       "tooltip": "Search location"
      }
     },
     "f8db6f1cc54e4b08943a4d7f9e85622c": {
      "model_module": "@jupyter-widgets/controls",
      "model_module_version": "2.0.0",
      "model_name": "ToggleButtonStyleModel",
      "state": {
       "description_width": "",
       "font_family": null,
       "font_size": null,
       "font_style": null,
       "font_variant": null,
       "font_weight": null,
       "text_color": null,
       "text_decoration": null
      }
     },
     "ff24fede802247fda8f7b7285e87f627": {
      "model_module": "@jupyter-widgets/controls",
      "model_module_version": "2.0.0",
      "model_name": "ToggleButtonModel",
      "state": {
       "button_style": "primary",
       "icon": "gears",
       "layout": "IPY_MODEL_c8c4d77f275d4ff4907765af47b60500",
       "style": "IPY_MODEL_cea7aed5d60641a694ace20e7f4c32b1",
       "tooltip": "WhiteboxTools for local geoprocessing"
      }
     }
    },
    "version_major": 2,
    "version_minor": 0
   }
  }
 },
 "nbformat": 4,
 "nbformat_minor": 5
}

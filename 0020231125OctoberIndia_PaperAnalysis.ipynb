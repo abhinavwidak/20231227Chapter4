{
 "cells": [
  {
   "cell_type": "code",
   "execution_count": 14,
   "id": "b48796db-ca3c-487d-8ec2-66e866a6dd79",
   "metadata": {},
   "outputs": [
    {
     "data": {
      "text/html": [
       "<p>To authorize access needed by Earth Engine, open the following\n",
       "        URL in a web browser and follow the instructions:</p>\n",
       "        <p><a href=https://code.earthengine.google.com/client-auth?scopes=https%3A//www.googleapis.com/auth/earthengine%20https%3A//www.googleapis.com/auth/devstorage.full_control&request_id=Yp1lLJXc2V7Jfnb2cW86_kuGVPDs1ZPsrDuebFJg-Qo&tc=IOS_5gW6cj_tFTMd5oHFvecdtUNyE3hGYqOK9UiWdbk&cc=AssknA7RzoeV51yhQepR6Pes-LpHUIk29AD2402Qx3E>https://code.earthengine.google.com/client-auth?scopes=https%3A//www.googleapis.com/auth/earthengine%20https%3A//www.googleapis.com/auth/devstorage.full_control&request_id=Yp1lLJXc2V7Jfnb2cW86_kuGVPDs1ZPsrDuebFJg-Qo&tc=IOS_5gW6cj_tFTMd5oHFvecdtUNyE3hGYqOK9UiWdbk&cc=AssknA7RzoeV51yhQepR6Pes-LpHUIk29AD2402Qx3E</a></p>\n",
       "        <p>The authorization workflow will generate a code, which you should paste in the box below.</p>\n",
       "        "
      ],
      "text/plain": [
       "<IPython.core.display.HTML object>"
      ]
     },
     "metadata": {},
     "output_type": "display_data"
    },
    {
     "name": "stdout",
     "output_type": "stream",
     "text": [
      "Enter verification code:  4/1AfJohXkfjxPM-6ltqu8mij_hgtaUy4HmM0M9HvT9ByPCyz2nFZlQg3ORPNg\n"
     ]
    },
    {
     "name": "stdout",
     "output_type": "stream",
     "text": [
      "\n",
      "Successfully saved authorization token.\n"
     ]
    }
   ],
   "source": [
    "# Import necessary libraries\n",
    "import ee\n",
    "import geemap\n",
    "\n",
    "# Authenticate to Earth Engine\n",
    "# ee.Authenticate()\n",
    "# ee.Initialize()\n"
   ]
  },
  {
   "cell_type": "markdown",
   "id": "caf6a3ec-e8d5-4515-8d07-b96773303b3e",
   "metadata": {
    "tags": []
   },
   "source": [
    "\n",
    "# Urban Expansion and Ecosystem Health: Exploring the Dynamics of Land-Cover Changes and Ecosystem Services in the National Capital Region of India\n",
    "\n",
    "## Introduction\n",
    "Urbanization, with its ever-expanding footprint, demands a critical examination in the context of sustainable urban development. In this regard, the exploration of land-cover changes and their ramifications for Ecosystem Services (ES) and Ecosystem Condition (EC) holds significant importance (Berton et al., 2017; Feddern et al., 2023; Jonas et al., 2015; Ratcliffe et al., 2016; Vogel et al., 2021). ES encompasses the invaluable benefits provided by ecosystems to humanity, including clean air, water, food production, and waste disposal. EC, conversely, signifies the health and resilience of ecosystems (De Groot et al., 2002).\n",
    "\n",
    "An essential assumption relevant to the study of urbanization and land-cover changes is the potential scenario where the supply of ES within cities exceeds its own capacity to provide them, leading to an \"Ecosystem Service deficit\" (Vogel et al., 2021). This phenomenon has profound implications for the sustainability and resilience of urban and peri-urban regions (Feddern et al., 2023).\n",
    "\n",
    "\n",
    "#### Literature Review\n",
    "\n",
    "With more and more data available, the research on the impact of urbanization on the environment has gained a heavy momentum. We now have more and better quality data available to be used. Most research which is from a period before the 2000, includes \n",
    "-\n",
    "-\n",
    "-\n",
    "-\n",
    "as common databases. However, with the advent of new technologies, we now have access to more data. Some of the most common databases used in the recent research are\n",
    "-\n",
    "-\n",
    "-\n",
    "-\n",
    "the data availability is not only higher, but also now, we are able to capture a wider range of data which gives us a more nuanced look at the nature and timeline of the change with high accuracy. In the papers which are published after 2000, we see a broader coverage of topics, some of which due to the availability of data, were not possible before. Some of the most common topics are in the list below. the list has been compiled from segregating the author keywords from the papers published after 2000. The list is not exhaustive, but it gives a good idea of the topics which are being researched on.\n"
   ]
  },
  {
   "cell_type": "code",
   "execution_count": 6,
   "id": "abc9cf32",
   "metadata": {},
   "outputs": [
    {
     "name": "stdout",
     "output_type": "stream",
     "text": [
      "Collecting metaknowledge\n",
      "  Using cached https://files.pythonhosted.org/packages/33/99/3da2b4a7031898686981854c49d1d79490a8e10253c5af4756863f927027/metaknowledge-3.4.1-py3-none-any.whl\n",
      "Collecting networkx (from metaknowledge)\n",
      "  Using cached https://files.pythonhosted.org/packages/a8/05/9d4f9b78ead6b2661d6e8ea772e111fc4a9fbd866ad0c81906c11206b55e/networkx-3.1-py3-none-any.whl\n",
      "Installing collected packages: networkx, metaknowledge\n",
      "\u001b[31mERROR: Could not install packages due to an EnvironmentError: [Errno 13] Permission denied: '/Library/Python/3.8/site-packages/networkx'\n",
      "Consider using the `--user` option or check the permissions.\n",
      "\u001b[0m\n",
      "\u001b[33mWARNING: You are using pip version 19.2.3, however version 23.3.2 is available.\n",
      "You should consider upgrading via the 'pip install --upgrade pip' command.\u001b[0m\n",
      "Note: you may need to restart the kernel to use updated packages.\n"
     ]
    }
   ],
   "source": [
    "%pip install metaknowledge\n"
   ]
  },
  {
   "cell_type": "code",
   "execution_count": 9,
   "id": "215b5107",
   "metadata": {},
   "outputs": [
    {
     "ename": "ModuleNotFoundError",
     "evalue": "No module named 'metaknowledge'",
     "output_type": "error",
     "traceback": [
      "\u001b[0;31m---------------------------------------------------------------------------\u001b[0m",
      "\u001b[0;31mModuleNotFoundError\u001b[0m                       Traceback (most recent call last)",
      "Cell \u001b[0;32mIn[9], line 1\u001b[0m\n\u001b[0;32m----> 1\u001b[0m \u001b[38;5;28;01mimport\u001b[39;00m \u001b[38;5;21;01mmetaknowledge\u001b[39;00m \u001b[38;5;28;01mas\u001b[39;00m \u001b[38;5;21;01mmk\u001b[39;00m\n\u001b[1;32m      2\u001b[0m \u001b[38;5;28;01mimport\u001b[39;00m \u001b[38;5;21;01mos\u001b[39;00m\n\u001b[1;32m      4\u001b[0m get_ipython()\u001b[38;5;241m.\u001b[39mrun_line_magic(\u001b[38;5;124m'\u001b[39m\u001b[38;5;124mpip\u001b[39m\u001b[38;5;124m'\u001b[39m, \u001b[38;5;124m'\u001b[39m\u001b[38;5;124minstall metaknowledge\u001b[39m\u001b[38;5;124m'\u001b[39m)\n",
      "\u001b[0;31mModuleNotFoundError\u001b[0m: No module named 'metaknowledge'"
     ]
    }
   ],
   "source": [
    "import metaknowledge as mk\n",
    "import os\n",
    "\n",
    "%pip install metaknowledge\n",
    "\n",
    "\n",
    "# specify the directory you want to use\n",
    "directory_path = \"C:\\\\Users\\\\abhin\\\\OneDrive - Michigan State University\"\n",
    "\n",
    "# list of eligible file extensions\n",
    "eligible_extensions = ['.txt', '.bib', '.ciw', '.ris', '.enw', '.xml', '.wos', '.isi', '.savedrecs', '.endnote']\n",
    "\n",
    "# check if the directory exists\n",
    "if os.path.exists(directory_path):\n",
    "    # iterate over all files in the directory\n",
    "    for root, dirs, files in os.walk(directory_path):\n",
    "        for file in files:\n",
    "            # check if the file has an eligible extension\n",
    "            if os.path.splitext(file)[1] in eligible_extensions:\n",
    "                print(os.path.join(root, file))  # print the path of the eligible file\n",
    "else:\n",
    "    print(f\"The directory {directory_path} does not exist.\")\n"
   ]
  },
  {
   "cell_type": "code",
   "execution_count": 27,
   "id": "e860d2b9",
   "metadata": {},
   "outputs": [
    {
     "ename": "AttributeError",
     "evalue": "'RecordCollection' object has no attribute 'load'",
     "output_type": "error",
     "traceback": [
      "\u001b[1;31m---------------------------------------------------------------------------\u001b[0m",
      "\u001b[1;31mAttributeError\u001b[0m                            Traceback (most recent call last)",
      "Cell \u001b[1;32mIn[27], line 14\u001b[0m\n\u001b[0;32m     11\u001b[0m             file_path \u001b[38;5;241m=\u001b[39m os\u001b[38;5;241m.\u001b[39mpath\u001b[38;5;241m.\u001b[39mjoin(directory_path, file_name)\n\u001b[0;32m     13\u001b[0m             \u001b[38;5;66;03m# Read the file and add its records to the record collection\u001b[39;00m\n\u001b[1;32m---> 14\u001b[0m             \u001b[43mrc\u001b[49m\u001b[38;5;241;43m.\u001b[39;49m\u001b[43mload\u001b[49m(file_path)\n\u001b[0;32m     15\u001b[0m \u001b[38;5;28;01melse\u001b[39;00m:\n\u001b[0;32m     16\u001b[0m     \u001b[38;5;28mprint\u001b[39m(\u001b[38;5;124mf\u001b[39m\u001b[38;5;124m\"\u001b[39m\u001b[38;5;124mThe directory \u001b[39m\u001b[38;5;132;01m{\u001b[39;00mdirectory_path\u001b[38;5;132;01m}\u001b[39;00m\u001b[38;5;124m does not exist.\u001b[39m\u001b[38;5;124m\"\u001b[39m)\n",
      "\u001b[1;31mAttributeError\u001b[0m: 'RecordCollection' object has no attribute 'load'"
     ]
    }
   ],
   "source": [
    "\n",
    "# Check if the directory exists\n",
    "if os.path.exists(directory_path):\n",
    "    # Create an empty record collection\n",
    "    rc = mk.RecordCollection()\n",
    "\n",
    "    # Iterate over all files in the directory\n",
    "    for file_name in os.listdir(directory_path):\n",
    "        # Check if the file is a text file\n",
    "        if file_name.endswith(\".txt\"):\n",
    "            # Get the full file path\n",
    "            file_path = os.path.join(directory_path, file_name)\n",
    "\n",
    "            # Read the file and add its records to the record collection\n",
    "            rc.load(file_path)\n",
    "else:\n",
    "    print(f\"The directory {directory_path} does not exist.\")\n"
   ]
  },
  {
   "cell_type": "code",
   "execution_count": 15,
   "id": "55287fab",
   "metadata": {},
   "outputs": [],
   "source": [
    "# create a list of all the author keywords\n",
    "\n",
    "rc_filtered = rc.yearSplit(2000, 2010)  # Filter records published between 2000 and 2010\n",
    "for record in rc:\n",
    "    print(record.title)  # Print the title of each record\n"
   ]
  },
  {
   "cell_type": "code",
   "execution_count": 20,
   "id": "d337d1e7",
   "metadata": {},
   "outputs": [],
   "source": [
    "citation_counts = rc.getCitations()  # Get a dictionary of citation counts\n",
    "co_auth_network = rc.networkCoAuthor()  # Create a co-authorship network\n",
    "# keyword_counts = rc.getKeywords()  # Get a dictionary of keyword counts\n"
   ]
  },
  {
   "cell_type": "code",
   "execution_count": 24,
   "id": "7bcbf627",
   "metadata": {},
   "outputs": [],
   "source": [
    "import networkx as nx\n",
    "nx.write_pajek(rc.networkCitation(), r'C:\\Users\\abhin\\OneDrive\\20231209LitReview/00output.net')\n"
   ]
  },
  {
   "cell_type": "markdown",
   "id": "1a8b6c42",
   "metadata": {},
   "source": [
    "\n",
    "**Sequence diagram of the research in the field of urbanization and land cover change.** \n",
    "\n",
    "The understanding seems to have moved from \n",
    "\n",
    "\n",
    "A review of recent literature on ecosystem service supply \n",
    "\n",
    "Ecosystem services, as demonstrated in many studies, play a pivotal role in sustaining human well-being, and their provision is intrinsically linked to land cover dynamics, particularly in rapidly urbanizing areas such as the National Capital Territory (NCT) of Delhi. Peri-urban areas, situated on the urban-rural interface, provide a crucial supporting service by hosting a diverse array of pollinators essential for agriculture. However, urbanization in these regions leads to habitat loss and dwindling pollinator populations, posing a significant threat to food security (Pandey, 2017). Additionally, the transformation of rural landscapes into a mosaic of rural and urban land use due to peri-urbanization results in the loss of green cover, vegetation, and wetlands, undermining the generation of vital ecosystem services (Morya & Punia, 2021).\n",
    "\n",
    "The dynamic nature of ecosystem services value is evident in studies comparing their estimated worth before and after land use changes. Morya and Punia (2021) argue that prioritizing the conservation and enrichment of ecosystems of critical value is essential for sustainable urban development, shedding light on the importance of accounting for these shifts in urban planning. Moreover, the drainage of wetlands and natural features in peri-urban areas, a common consequence of urbanization, disrupts their flood regulation services, escalating flood risks in urban areas (Pandey, 2017). Urban flooding has been a persistent problem not only in Delhi but in Chennai, Mumbai, and other Indian cities as well, and the loss of flood regulation services in peri-urban areas is a significant contributing factor (Pandey, 2017). The loss of wetlands and natural features in peri-urban areas also leads to a decline in water purification services, which are essential for ensuring the availability of clean water in urban areas (Pandey, 2017). The loss of these services is particularly concerning in the context of Delhi, where the Yamuna River, a vital source of water for the city, is heavily polluted (Verma et al., 2016). Pollution of its single water source from the Yamuna, and other over ground natural sources of water, has led it to depend on groundwater. In the wake of this scarcity, loss of water purification services in peri-urban areas could even trigger a health crisis in the city. With more \n",
    "\n",
    "These insights hold profound implications for urban planning in peri-urban regions. Sharma (2020) underscores the importance of incorporating research findings into urban development strategies to safeguard natural resources, ecosystem services, and the well-being of urban residents. This interplay between land cover change, urbanization, and ecosystem services underscores the need for balanced urban growth strategies that preserve supporting services like pollinators and regulating services like flood regulation. By integrating scientific insights into urban planning, it is possible to strike a balance between urban expansion and the conservation of ecosystem services, ultimately contributing to the welfare of urban populations.\n",
    "\n",
    "### Research Questions, Hypotheses, and Rationale\n",
    "\n",
    "**Research Question 1:** What is the temporal lag between declining EC and the altered supply of ES to urban areas?\n",
    "\n",
    "**Hypothesis 1:** We hypothesize the existence of a temporal lag between the decline in EC and the corresponding changes in the supply of ES to urban areas. This lag is pivotal for comprehending the resilience of urban ecosystems and the potential consequences of delayed action in addressing ecological decline. Various authors have advanced several hypotheses concerning the nature of this temporal lag. Studies conducted by Chen et al. (2023) and Patru-Stupariu et al. (2020) underscore the importance of temporal analysis and how changes in EC affect the supply of ES to urban areas over time. Chen et al. (2023) emphasized the need for a comprehensive, multifaceted approach to quantifying ES indicators, indicating that EC dynamics can be influenced by a variety of factors, including urbanization. Patru-Stupariu et al. (2020) highlighted the significance of mapping as a foundation for spatial analyses, enabling the assessment of changes in mountain land use and its effects on ES. Both studies partly support the hypothesis that a temporal lag exists between declining EC and changes in ES supply to urban areas, as they emphasize the importance of understanding the dynamics and interplay between these two elements over time (Chen et al., 2023; Patru-Stupariu et al., 2020).\n",
    "\n",
    "**Research Question 2:** Does the surplus of ES supplied to urban areas correspond to a decline in ES supplied to peri-urban areas?\n",
    "\n",
    "**Hypothesis 2:** When urban areas receive an abundance of ecosystem services (ES), there might be a corresponding decline in ES supplied to peri-urban regions. This concept is crucial for unraveling the intricate connections between urban and peri-urban ecosystems and exploring potential trade-offs between them. Githiora-Murimi et al. (2022) have brought to light the dynamic nature of ES flow along the rural-urban spectrum, influenced by a myriad of interconnected factors. In their study exploring the supply of ES in the Yala swamp, Kenya, active engagement with local stakeholders responsible for managing and utilizing natural resources in the wetland was a central component. While the study doesn't explicitly delve into ES surpluses in urban core, it underscores the essential task of assessing ecosystems' capacity to furnish ES to diverse regions. The emphasis on involving stakeholders and gaining insights into ES distribution aligns with the hypothesis that trade-offs might indeed exist between ES supplied to urban and peri-urban areas (Githiora-Murimi et al., 2022).\n",
    "\n",
    "### Rationale\n",
    "\n",
    "While the literature acknowledges the ES>EC phenomenon, there exists a conspicuous dearth of comprehensive studies that delve into the temporal nuances and reciprocal consequences of this ecological deficit. This research endeavors to bridge this critical gap by meticulously dissecting land-cover changes, EC, and ES provisioning within the unique context of Delhi NCR, where urban expansion looms as an escalating concern (Barton et al., 2017; Feddern et al., 2023).\n",
    "\n",
    "A review of the literature clearly illustrates the significantly high proportion of studies in the field concerned with the challenges of urbanization and ecosystem health. By focusing on peri-urban regions, where the ES>EC dynamic is particularly pronounced, this study addresses a critical knowledge gap in the existing body of literature (Jonas et al., 2015). The inclusion of peri-urban areas in this research is vital, as they often represent the frontlines of urban expansion and bear the brunt of ecosystem service deficits.\n",
    "\n",
    "Understanding the temporal lag between EC decline and the altered supply of ES (RQ1) is pivotal for proactive policymaking. It enables the identification of a crucial intervention window between the decline in EC and the manifestation of adverse effects on ES supply, empowering policymakers with invaluable insights to implement timely measures that fortify ecosystem health and ensure the sustainable provisioning of ES (Ratcliffe et al., 2016). Additionally, exploring the reciprocal relationship between urban and peri-urban areas (RQ2) is pivotal for holistic urban planning. This exploration elucidates how the surplus of ES in urban cores can inadvertently impact peri-urban ecosystems, shedding light on potential trade-offs between them (Vogel et al., 2021).\n",
    "\n",
    "### Land cover change in Delhi-NCR from 2000 to 2020\n",
    "\n",
    "Previous literature has concurred that the region of Delhi NCR has seen some landcover change. Literature suggests that, when compared with Delhi, surrounding regions lying just outside delhi have been growing at a higher rate. Gurgaon, a city which is known for its rapid growth, has also been identified by literature as an outlier when it comes FDI led development.\n",
    "Confirming the findings of studies which measure the physical expansion of the region, a number of papers also suggest a demographic growth. This growth is fuelled to a large degree by migration.\n",
    "\n",
    "\n",
    "\n",
    "\n",
    "Liquete, C., Piroddi, C., Drakou, E. G., Gurney, L., Katsanevakis, S., Charef, A., Egoh, B., Gissi, E., Guerra, C., & Holmes, T. (2013). Current status and future prospects for the assessment of marine and coastal ecosystem services: A systematic review. PLoS ONE, 8(7), e67737.\n",
    "\n",
    "Mace, G. M., Norris, K., & Fitter, A. H. (2012). Biodiversity and ecosystem services: A multilayered relationship. Trends in Ecology & Evolution, 27(1), 19–26.\n",
    "\n",
    "McCarthy, M. A., & Possingham, H. P. (2007). Active adaptive management for conservation. Conservation Biology, 21(4), 956–963.\n",
    "\n",
    "Nahlik, A. M., & Kentula, M. E. (2012). The role of wetlands in the earth’s nutrient cycles. Biogeochemistry, 105(1–3), 1–4.\n",
    "\n",
    "Pérez-Soba, M., Maes, J., & Stuczynski, T. (2015). Cultural landscapes, ecosystem services, wellbeing and cultural values — A case study of the Atxondo Valley, Basque Country, Spain. Ecosystem Services, 12, 178–190.\n",
    "\n",
    "Polasky, S., Nelson, E., Pennington, D., & Johnson, K. A. (2011). The impact of land-use change on ecosystem services, biodiversity and returns to landowners: A case study in the state of Minnesota. Environmental and Resource Economics, 48(2), 219–242.\n",
    "\n",
    "Schwilch, G., Bernet, L., Fleskens, L., Giannakis, E., Leventon, J., Marañón, T., Mills, J., Short, C., Stolte, J., & van Delden, H. (2016). Operationalizing ecosystem services for the mitigation of soil threats: A proposed framework. Ecological Indicators, 67, 586–600.\n",
    "\n",
    "Sutherland, W. J., Fleishman, E., Mascia, M. B., Pretty, J., & Rudd, M. A. (2011). Methods for collaboratively identifying research priorities and emerging issues in science and policy. Methods in Ecology and Evolution, 2(3), 238–247.\n",
    "\n",
    "Tallis, H., Ricketts, T., Guerry, A. D., Wood, S. A., Sharp, R., Nelson, E., Ennaanay, D., Wolny, S., Olwero, N., & Vigerstol, K. (2013). InVEST 3.1.1 User’s Guide.\n",
    "\n",
    "Verma, M., Sharma, G., & Sharma, A. (2016). Ecosystem Services and Sustainability of Delhi – Case Study of the Yamuna River. SSRN Electronic Journal.\n",
    "\n",
    "Villa, F., Bagstad, K. J., Voigt, B., Johnson, G. W., & Portela, R. (2014). A methodology for adaptable and robust ecosystem services assessment. PLoS ONE, 9(3), e91001.\n",
    "\n",
    "Wu, Y., Wang, L., & Fu, B. (2014). Ecosystem service value assessment and contribution factor analysis of land use changes in Miyun County, Beijing. Ecological Indicators, 36, 571–579.\n",
    "\n",
    "Xie, G., & Chen, J. (2015). Ecosystem services and ecological security in a typical karst valley area in China: Current status and future implications. Ecosystem Services, 14, 35–46.\n",
    "\n",
    "Literature\n",
    "The peri-urban interface, characterized by its rapid transformation and complex mosaic of settlements, agriculture, and environmental systems, has become a focal point for examining the dynamics of ecosystem services in the context of urban expansion and sustainability [3]. The literature underscores the importance of these regions in generating economic, social, and environmental benefits, thereby contributing to the overarching goal of sustainable urban development [3]. Vindigni (2021) posits that peri-urban areas, with their unique blend of land uses, offer a multitude of opportunities for ecosystem service utilization, which can lead to increased economic productivity, social well-being, and improved environmental quality [3].\n",
    "\n",
    "The intricate interplay of ecosystem services within peri-urban landscapes necessitates a holistic understanding of their role in addressing poverty, enhancing resilience, and promoting sustainable development in urban settings [3]. Marshall (2017) emphasizes the multifaceted contributions of peri-urban areas to urban well-being, advocating for integrated perspectives in policymaking and management that recognize the substantial value of these areas [3]. The peri-urban transition is thus not merely a spatial phenomenon but a complex socio-ecological process that requires careful consideration in urban planning and governance [3].\n",
    "\n",
    "Given the dynamic nature of peri-urban landscapes, marked by frequent land cover alterations, there is a pressing need for comprehensive analyses that can capture the nuances of these transformations [3]. The coexistence of diverse land-cover types within peri-urban spaces demands a nuanced understanding of the impacts on ecosystem services and their interactions with local communities [3]. This study addresses methodological gaps by examining multiple ecosystem services, thereby improving upon previous research that often had a narrow spatial focus [3]. By conducting a temporal analysis, the study highlights the trends between declining ecosystem conditions and changes in service provision, while also considering spatial variations in peri-urban areas and actively engaging local ecosystems for a more robust analysis [3].\n",
    "\n",
    "The supply of ecosystem services in peri-urban areas is heavily reliant on local biodiversity, and a deep understanding of local landscapes is critical in establishing the connection between ecosystem health and human well-being [3]. Marshall's work (2017, 2018) underscores the importance of a diverse range of ecosystem services, including those crucial for human well-being, that rely on the intricate interactions within local ecosystems [3]. The presence of various plant and animal species, such as pollinators, contributes to essential ecosystem services like pollination, which, in turn, support agriculture and other human needs [3]. This pivotal connection between biodiversity and the provision of ecosystem services illuminates the necessity for comprehensive management strategies that extend beyond urban centers to encompass their dynamic peripheries [3].\n",
    "\n",
    "The peri-urban transition in the Philippines, particularly within and around Metro Manila, offers a compelling case study for examining the impact of urban expansion on ecosystem services [3]. The regions of focus—Region III, Region IV-A, and the National Capital Region (NCR)—have experienced significant land cover transitions over the past decades, making them ideal for analyzing the shifts in ecosystem service provision [3]. These regions, which account for the majority of the NCR's urban expansion, have undergone transformations that have implications for the sustainability of ecosystem services and, by extension, the well-being of urban and peri-urban populations [3]. The burgeoning field of peri-urban research has substantially contributed to our understanding of the complex role these areas play in the broader context of urban sustainability. The literature emphasizes that peri-urban areas are dynamic zones of transition, embodying the interface between rural and urban ecosystems, and are critical for accommodating future population growth [4][5]. These regions, often characterized by rapid land-use transition and urbanization, present both challenges and opportunities for sustainable urban planning and management [6].\n",
    "\n",
    "Peri-urban areas have been recognized as hybrid landscapes where the urban core and rural peripheries converge, leading to unique environmental, social, and economic conditions [2][3]. The literature underscores the importance of these areas in providing ecosystem services, including provisioning, regulating, supporting, and cultural services, which are essential for the sustainability of urban centers [2]. However, the literature also indicates that peri-urban areas are subject to high fragmentation and environmental degradation, which necessitates careful consideration in urban planning [2][3].\n",
    "\n",
    "The systematic review of peri-urban informal settlements reveals the urgent need to address sustainability in these human-natural complexes, which are often the predominant mode of urban expansion in developing regions [1]. The challenges identified include access to resources, management of water, and the transformation of the city's periphery, all of which have significant social sustainability and development implications [1].\n",
    "\n",
    "Furthermore, the literature calls for a more nuanced understanding of peri-urban demarcation, as the failure to clearly define these boundaries can hinder the development of effective policies for sustainable urban development [6]. The use of remote sensing approaches has been highlighted as a valuable tool in determining peri-urban growth and changes in land use and land cover over time [6].\n",
    "\n",
    "Despite the growing body of research, gaps remain in the literature, particularly in the context of spatial mapping and analysis through geographic information systems and remote sensing, as well as in understanding the social dimensions of peri-urban challenges and governance [4][5]. Addressing these gaps is crucial for planners, policymakers, academicians, and scholars to develop informed strategies for sustainable urban planning and management in peri-urban areas [5].\n",
    "\n",
    "In tandem with these insights, Almadrones-Reyes and Dagamac (2022) utilized remote sensing technology to monitor the effects of urbanization, revealing a significant increase in land surface temperature (LST) alongside a rise in the normalized difference built-up index (NDBI) and a decline in the normalized difference vegetation index (NDVI). Their study underscores the phenomenon of Urban Heat Island (UHI) and its correlation with the decline in vegetation over the past two decades. This aligns with previous studies that have highlighted the exacerbation of UHI due to urban sprawl and the reduction of green spaces (e.g., Oke, 1982; Arnfield, 2003). Almadrones-Reyes and Dagamac's findings contribute to the discourse on sustainable urban planning, echoing the calls for incorporating more green spaces to mitigate UHI effects (Gill et al., 2007; Zhou et al., 2011).\n",
    "\n",
    "In the domain of atmospheric sciences, the work of Fu et al. (2022) provides a comprehensive evaluation of cloud droplet effective radius (Re) derived from various remote sensing and in situ measurements during the CAMP(2)Ex campaign. Their cross-comparison of Re from MODIS, RSP, and in situ measurements addresses the biases in satellite-derived Re, particularly in cumulus cloud fields. This study is pivotal in validating satellite cloud property retrievals, which are crucial for climate research and models. The findings of Fu et al. contribute to a better understanding of cloud heterogeneity's influence on Re retrieval, a topic that has seen considerable debate in the literature (Platnick et al., 2003; King et al., 2004).\n",
    "\n",
    "Both studies exemplify the importance of remote sensing in environmental monitoring and atmospheric research. While Almadrones-Reyes and Dagamac focus on urban ecological changes, Fu et al. delve into cloud microphysical properties, yet both utilize advanced remote sensing techniques to enhance our understanding of Earth's systems. Their research contributes to the broader goals of environmental management and climate science, providing evidence-based insights for policy-making and sustainable development.\n",
    "\n",
    "The integration of remote sensing data with ground-based observations and policy interventions can lead to more effective strategies for environmental management and climate adaptation. The urban ecological insights provided by Almadrones-Reyes and Dagamac could inform sustainable urban development policies, while the atmospheric findings by Fu et al.\n",
    "\n",
    "\n",
    "The peri-urban interface, a transitional zone blending urban and rural characteristics, is increasingly recognized as a critical area for sustainable development. This zone is often the first to experience the pressures of urban sprawl, leading to rapid and sometimes haphazard growth. The consequences of such expansion are multifaceted, affecting the ecosystem services that are vital to human well-being. These services encompass a wide range of benefits, including provisioning services like food and water; regulating services that affect climate, floods, and disease; supporting services such as soil formation and nutrient cycling; and cultural services that provide recreational, aesthetic, and spiritual benefits (Millennium Ecosystem Assessment, 2005). As urban areas continue to grow, the challenge is to manage this growth in a way that preserves the ecosystem services provided by peri-urban areas.\n",
    "\n",
    "The unchecked expansion into peri-urban zones can lead to significant environmental degradation. Urban sprawl often results in habitat fragmentation and loss, which can negatively impact biodiversity, including the richness and abundance of species (Beninde, Veith, & Hochkirch, 2015). The conversion of land from natural or agricultural uses to urban or industrial uses can also result in the loss of valuable ecosystem services. For instance, the degradation of water resources due to urbanization can lead to a reduction in both the quality and quantity of water available for human consumption, agriculture, and other uses (McDonald, Kareiva, & Forman, 2011). Additionally, the loss of green spaces and biodiversity in these areas can lead to diminished air and water quality, increased vulnerability to climate change, and a loss of recreational spaces for urban populations.\n",
    "\n",
    "Despite these challenges, peri-urban areas also offer unique opportunities for sustainable urban development. The concept of green infrastructure, which includes networks of natural and semi-natural areas, has been proposed as a way to maintain and enhance ecosystem services while accommodating urban growth (Lafortezza et al., 2013). Green infrastructure can provide a multitude of services, such as stormwater management, air quality improvement, and mitigation of urban heat island effects (Benedict & McMahon, 2006). Moreover, these areas can serve as a buffer zone that supports biodiversity and connects protected natural areas, which can be especially important for species migration and ecological processes.\n",
    "\n",
    "In addition to environmental benefits, peri-urban areas can also support sustainable agricultural practices that contribute to urban food security. As cities expand, peri-urban agriculture can provide fresh produce to urban centers, while also offering ecosystem services like pollination, pest control, and maintenance of soil fertility (Zasada, 2011). This form of agriculture can be particularly important in developing countries, where food security is a pressing concern. However, to realize the potential of peri-urban areas in providing ecosystem services, there must be a concerted effort to implement sustainable land-use practices, protect green spaces, and promote biodiversity.\n",
    "\n",
    "The Philippines, and particularly the peri-urban areas surrounding Metro Manila, presents a case study of the challenges and opportunities associated with urban expansion. These regions have experienced significant land cover transitions over the past decades, with implications for the sustainability of ecosystem services. Policymakers and urban planners in the Philippines and other countries facing similar challenges must consider the socio-ecological systems at play in peri-urban areas. Integrated urban-rural planning, the preservation of green spaces, sustainable agricultural practices, and the protection of biodiversity are essential strategies for maintaining the ecosystem services upon which both urban and peri-urban populations depend (Lasco, Delfino, & Espaldon, 2014). As urban areas continue to grow, the importance of peri-urban zones in achieving sustainable development becomes increasingly clear, necessitating innovative approaches to urban planning that balance development with ecological conservation.\n",
    "\n",
    "Peri-urban areas are at the forefront of the struggle to achieve sustainable urban development. They are regions where the pressures of urban growth are most acutely felt, but they are also spaces where innovative solutions for sustainability can be implemented. The literature calls for integrated urban-rural planning, the preservation and enhancement of green spacesThe peri-urban interface, a transitional zone blending urban and rural characteristics, is increasingly recognized as a critical area for sustainable development. This zone is often the first to experience the pressures of urban sprawl, leading to rapid and sometimes haphazard growth. The consequences of such expansion are multifaceted, affecting the ecosystem services that are vital to human well-being. These services encompass a wide range of benefits, including provisioning services like food and water; regulating services that affect climate, floods, and disease; supporting services such as soil formation and nutrient cycling; and cultural services that provide recreational, aesthetic, and spiritual benefits. As urban areas continue to grow, the challenge is to manage this growth in a way that preserves the ecosystem services provided by peri-urban areas (Barthel et al., 2015).\n",
    "\n",
    "The unchecked expansion into peri-urban zones can lead to significant environmental degradation. Urban sprawl often results in habitat fragmentation and loss, which can negatively impact biodiversity, including the richness and abundance of species (Pickett et al., 2011). The conversion of land from natural or agricultural uses to urban or industrial uses can also result in the loss of valuable ecosystem services. For instance, the degradation of water resources due to urbanization can lead to a reduction in both the quality and quantity of water available for human consumption, agriculture, and other uses (McDonald et al., 2011). Additionally, the loss of green spaces and biodiversity in these areas can lead to diminished air and water quality, increased vulnerability to climate change, and a loss of recreational spaces for urban populations (Tratalos et al., 2007).\n",
    "\n",
    "Despite these challenges, peri-urban areas also offer unique opportunities for sustainable urban development. The concept of green infrastructure, which includes networks of natural and semi-natural areas, has been proposed as a way to maintain and enhance ecosystem services while accommodating urban growth (Tzoulas et al., 2007). Green infrastructure can provide a multitude of services, such as stormwater management, air quality improvement, and mitigation of urban heat island effects (Gill et al., 2007). Moreover, these areas can serve as a buffer zone that supports biodiversity and connects protected natural areas, which can be especially important for species migration and ecological processes (Ahern, 2007).\n",
    "\n",
    "In addition to environmental benefits, peri-urban areas can also support sustainable agricultural practices that contribute to urban food security. As cities expand, peri-urban agriculture can provide fresh produce to urban centers, while also offering ecosystem services like pollination, pest control, and maintenance of soil fertility. This form of agriculture can be particularly important in developing countries, where food security is a pressing concern. However, to realize the potential of peri-urban areas in providing ecosystem services, there must be a concerted effort to implement sustainable land-use practices, protect green spaces, and promote biodiversity (Zezza & Tasciotti, 2010).\n",
    "\n",
    "The Philippines, and particularly the peri-urban areas surrounding Metro Manila, presents a case study of the challenges and opportunities associated with urban expansion. These regions have experienced significant land cover transitions over the past decades, with implications for the sustainability of ecosystem services. Policymakers and urban planners in the Philippines and other countries facing similar challenges must consider the socio-ecological systems at play in peri-urban areas. Integrated urban-rural planning, the preservation of green spaces, sustainable agricultural practices, and the protection of biodiversity are essential strategies for maintaining the ecosystem services upon which both urban and peri-urban populations depend (Lasco et al., 2014). As urban areas continue to grow, the importance of peri-urban zones in achieving sustainable development becomes increasingly clear, necessitating innovative approaches to urban planning that balance development with ecological conservation.\n",
    "\n",
    "In conclusion, peri-urban areas are at the forefront of the struggle to achieve sustainable urban development. They are regions where the pressures of urban growth are most acutely felt, but they are also spaces where innovative solutions for sustainability can be implemented. The literature calls for integrated urban-rural planning, the preservation and enhancement of green spaces, sustainable agricultural practices, and the protection of biodiversity to maintain the ecosystem services upon which urban and peri-urban populations depend (Simon et al., 2004). The challenge for policymakers, planners, and communities is to recognize the value of these areas and to work towards their protection and sustainable management for the benefit of current and future generations.\n",
    "\n"
   ]
  },
  {
   "cell_type": "code",
   "execution_count": 2,
   "id": "4cdc5076-5f41-436b-b04b-dfb39b0b497c",
   "metadata": {},
   "outputs": [],
   "source": [
    "\n",
    "\n",
    "\n",
    "# Define the FAO/GAUL administrative units dataset\n",
    "dataset = ee.FeatureCollection('FAO/GAUL/2015/level2')\n",
    "\n",
    "# Define a region of interest (ROI) for India\n",
    "india_roi = ee.Geometry.Polygon(\n",
    "    [[[\n",
    "      68.11137880340998, 7.96553484576015],\n",
    "      [88.3927306205192, 7.96553484576015],\n",
    "      [88.3927306205192, 35.67459030295267],\n",
    "      [68.11137880340998, 35.67459030295267],\n",
    "      [68.11137880340998, 7.96553484576015]\n",
    "    ]]\n",
    ")\n",
    "\n"
   ]
  },
  {
   "cell_type": "code",
   "execution_count": 3,
   "id": "f0587f92-afd1-4c44-be74-e661e596d480",
   "metadata": {},
   "outputs": [
    {
     "name": "stdout",
     "output_type": "stream",
     "text": [
      "Selected Administrative Unit (New Delhi):\n",
      "Admin Unit ID: 17633\n",
      "Admin Unit Name: Delhi\n"
     ]
    },
    {
     "data": {
      "application/vnd.jupyter.widget-view+json": {
       "model_id": "3f2a0cf04b7f4e7bab5c64701f45bdf3",
       "version_major": 2,
       "version_minor": 0
      },
      "text/plain": [
       "Map(center=[28.646455931994893, 77.10900424302301], controls=(WidgetControl(options=['position', 'transparent_…"
      ]
     },
     "execution_count": 3,
     "metadata": {},
     "output_type": "execute_result"
    }
   ],
   "source": [
    "import ee\n",
    "import geemap\n",
    "\n",
    "# Initialize Earth Engine\n",
    "ee.Initialize()\n",
    "\n",
    "# Define the FAO/GAUL administrative units dataset\n",
    "dataset = ee.FeatureCollection('FAO/GAUL/2015/level2')\n",
    "\n",
    "# Define a region of interest (ROI) for India\n",
    "india_roi = ee.Geometry.Polygon(\n",
    "    [[[\n",
    "      68.11137880340998, 7.96553484576015],\n",
    "      [88.3927306205192, 7.96553484576015],\n",
    "      [88.3927306205192, 35.67459030295267],\n",
    "      [68.11137880340998, 35.67459030295267],\n",
    "      [68.11137880340998, 7.96553484576015]\n",
    "    ]]\n",
    ")\n",
    "\n",
    "# Filter the administrative units dataset to select India\n",
    "india_dataset = dataset.filterBounds(india_roi)\n",
    "\n",
    "# Define a region of interest (ROI) for New Delhi\n",
    "delhi_roi = ee.Geometry.Point(77.216721, 28.613939).buffer(0.5)\n",
    "\n",
    "# Filter the India dataset to select New Delhi\n",
    "delhi_feature = india_dataset.filterBounds(delhi_roi)\n",
    "\n",
    "# Print the selected administrative unit (New Delhi)\n",
    "print(\"Selected Administrative Unit (New Delhi):\")\n",
    "selected_features = delhi_feature.getInfo()\n",
    "for feature in selected_features['features']:\n",
    "    print(\"Admin Unit ID:\", feature['properties']['ADM2_CODE'])\n",
    "    print(\"Admin Unit Name:\", feature['properties']['ADM2_NAME'])\n",
    "\n",
    "# Create a Map\n",
    "Map = geemap.Map()\n",
    "\n",
    "# Set the Map center\n",
    "Map.setCenter(12.876, 42.682, 5)\n",
    "\n",
    "# Add the administrative units dataset to the map\n",
    "Map.centerObject(india_dataset, 5)\n",
    "Map.addLayer(india_dataset, {'color': '00909F'}, 'Second Level Administrative Units')\n",
    "\n",
    "# Display New Delhi\n",
    "Map.centerObject(delhi_feature, 8)\n",
    "Map.addLayer(delhi_feature, {'color': 'FF0000'}, 'New Delhi')\n",
    "Map.addLayerControl()\n",
    "Map\n"
   ]
  },
  {
   "cell_type": "markdown",
   "id": "cfb3e61b-8812-430e-900f-cc7216c98971",
   "metadata": {},
   "source": [
    "## Add Peri Urban areas to the map. Delhi marked in Red, Surrounding administrative units marked with Yellow"
   ]
  },
  {
   "cell_type": "markdown",
   "id": "c77b503e-d532-41be-8124-1deda834cc44",
   "metadata": {
    "tags": []
   },
   "source": [
    "## Introduction to Delhi NCR\n",
    "Our investigation, inspired by Tang, J.M. et al.'s methodological approach (in the JOURNAL OF APPLIED REMOTE SENSING), is predicated on the need to understand the spatial-temporal patterns of urbanization within Delhi's National Capital Region (NCR). This region has been segmented into various administrative units for the purpose of detailed analysis. These include the core urban area of the Delhi metropolis and its fringe satellite cities and towns such as Gurgaon, Noida, Faridabad, and Ghaziabad. Gurgaon, known for its booming IT and finance sectors, has emerged as a major hub for multinational corporations. Its skyline, dotted with skyscrapers, is a testament to its rapid development and modern urban planning. Noida, another significant satellite city, is recognized for its robust infrastructure and is a preferred locale for IT and educational institutions. Faridabad, an industrial stronghold, provides a blend of manufacturing units and residential areas, contributing to the diverse LULC patterns in the region. Ghaziabad, with its strategic location and connectivity, is fast becoming a nexus for residential and commercial development.\n",
    "By focusing on these units, we seek to understand the ecological implications of rapid urban development. The selection of these units is particularly relevant, as they are representative of the broader trends of land conversion, which is a cornerstone of urban growth and environmental change in the region. Each satellite town, with its unique development trajectory and socio-economic role, informs the composite picture of the NCR's transformation and presents a microcosm of the challenges and opportunities inherent in managing urban sprawl and sustainability. \n",
    "\n",
    "## Study Area:\n",
    "Elaborating on the contextual framework provided by Budhiraja, B. et al. in URBAN CLIMATE, the Delhi NCR is a prime example of heterogeneity in urban form and function. The region is geographically diverse, spanning across the flat terrain of the Gangetic plain and reaching into the hilly contours of the Aravallis. This regional complexity is mirrored in its administrative and governance structure. Various authorities, including municipal corporations, development authorities, and village panchayats, coalesce under the overarching strategy laid out by the NCR Planning Board. The urban tapestry of the NCR, which Budhiraja et al. have parsed through in their thermal performance analysis, is composed of densely populated urban cores, rapidly developing suburban nodes, and extensive rural outskirts. Together, these areas form a mosaic of land use patterns that shape the region's climate, with particular reference to the urban heat island phenomenon. These sub-cities within the NCR each display distinct thermal signatures that reflect their urban design and development policies, which are critical factors in urban climatology and sustainability studies.\n",
    "\n"
   ]
  },
  {
   "cell_type": "markdown",
   "id": "7c6e499c-8161-4d61-86bc-20b6beb7d5a5",
   "metadata": {},
   "source": [
    "## Literature Review\n",
    "\n",
    "Studies have analyzed various aspects of land use land cover change and ecosystem services valuation in Delhi NCR as well as other regions of India over recent decades. Analysis of spatial-temporal landscape pattern changes in Delhi NCR from 1990-2016 using remote sensing and landscape metrics, found a significant increase in urbanization that fractured the landscape into more irregular patches (Balha et al., 2020). The relationship between NDVI, NDBI, LST and built-up area in Delhi NCR over 2002-2011 was also assessed, showing that LST and built-up area increased while NDVI and NDWI decreased with urbanization, thereby linking urban growth to changes in environmental conditions (Sharma & Joshi, 2016).\n",
    "\n",
    "Another study mapped LULC changes and their impacts on the environment of Delhi NCR from 1998-2011, noting that built-up and sparse built-up increased leading to conversion of agricultural land, while LST and NDBI increased with density and NDVI and NDWI decreased (Malik et al., 2019). The urban heat island effect in Delhi NCR was estimated using Landsat data, exhibiting higher temperatures in built-up areas (Srivastava & Satyaprakash, 2020). This study also linked LST to NDVI across land cover classes (Srivastava & Satyaprakash, 2020). Similarly, a study characterizing Delhi NCR's thermal environment and LST distribution using Landsat-8 data found higher LST in built-up and commercial/industrial areas, while vegetated areas showed cooling effects (Hang & Rahman, 2018).\n",
    "\n",
    "An analysis of factors affecting organic food consumption perception in Delhi NCR identified that belief in safety, trust in certification, awareness and availability positively impacted purchase intention, while doubts and lack of awareness negatively impacted it (Misra & Singh, 2016). A separate study mapping environmental impacts and LST variation in Delhi NCR from 1998-2011 using remote sensing observed an increase in minimum and maximum temperatures with rising LST and NDBI over time, indicating impacts of urbanization (Sharma & Joshi, 2016). Change detection in Delhi NCR from 1973-2016 was also done at the sub-city level, noting uneven urban expansion and a significant increase in built-up areas mainly through edge expansion and infill development, leading to fragmentation (Balha et al., 2020).\n",
    "\n",
    "Additionally, a LULC change analysis of Delhi NCR from 1990-2018 using geospatial tools found that built-up areas increased while agriculture and vegetation declined, with population migration and tertiary sector employment identified as drivers through regressions (Naikoo et al., 2020). Analysis of built-up expansion and industrialization along NH-48 in Delhi NCR also observed significant growth of built-up areas, urban centers and industrial locations (Kumar & Sharma, 2023). An empirical analysis of PM2.5 pollution levels across Indian states found Delhi NCR had the lowest quality of life despite higher incomes (Sharma et al., 2020). Assessments of physical parameterization schemes in a WRF model over Delhi NCR showed improved simulation of meteorological parameters with updated land use data (Gunwani et al., 2021). Estimation of ground subsidence in Delhi NCR from 2007-2017 using InSAR validated significant subsidence in over-exploited areas with field data (Malik et al., 2019).\n",
    "\n",
    "Analysis of peri-urban LULC change drivers in Delhi NCR from 1990-2018 using geospatial techniques and regression identified migration and tertiary employment as significant drivers (Naikoo et al., 2022). Modelling of built-up expansion probabilities in Delhi NCR integrated fuzzy logic and coupling coordination with LULC, demographic and utility parameters, showing highest probability in core urban areas increasing over time (Naikoo et al., 2023). Evaluation of impacts from rapid urbanization on the urban heat island and associated changes in Delhi over 2000-2020 found significant temperature increase along with decline in NDVI and increase in built-up areas (Singh et al., 2022). Assessment of water conservation needs in NCR emphasized reducing usage and wastewater recycling (Koundanya & Gupta, 2011). Analysis during 2001-2019 found the urban heat island in Delhi NCR increased during infrastructure growth but decreased after afforestation before rising again post-2016 (Srivastava & Satyaprakash, 2020).\n",
    "\n",
    "Assessments of inter-seasonal variations in vegetation cover and LST in NCR using MODIS showed relationship between LST and NDVI varies across seasons, with peripheral areas experiencing highest temperature differences (Mallick et al., 2020). Empirical analyses of life quality variations based on pollution levels again found Delhi NCR had the lowest despite higher incomes (Sharma et al., 2020). Evaluation of seasonal LST characteristics in relation to NDVI and population density in NCR linked higher populations and lower NDVI to increased LST and urban heat islands (Mallick, 2021). Other studies assessed ecosystem services valuation across districts in eastern India (Tripathi et al., 2019), the Indian Gangetic plains (Talukdar et al., 2020), and modeled carbon budgets and valuation changes in Chota Nagpur Plateau driven by vegetation losses (Saha et al., 2022). Assessments were also conducted on cultural service perceptions after COVID lockdowns from urban green spaces (Das et al., 2022), wetland health and services in Abu (Imdad et al., 2022), and services valuation changes in Delhi from 1998-2018 (Sannigrahi et al., 2020). Modelling of past and future ecosystem service supply capacities was done for Kulik Forest (Das et al., 2019), while analyses evaluated services dynamics linked to land use changes in Barasat subdivision (Ghosh et al., 2021) and estimated service losses tied to transformations in Dhanbad district (Ankur et al., 2022). Reviews also assessed research progress on changes in land use and associated ecosystem service changes in western Himalayas (Mondal & Zhang, 2018).\n",
    "\n",
    "+ \n",
    "\n",
    "The analysis of spatial-temporal landscape patterns in Delhi NCR from 1990-2016 using remote sensing and landscape metrics found that the overall landscape shape complexity increased as urbanization fractured the landscape into more irregular patches (Balha et al., 2020). Several landscape pattern indices like patch density, edge density and average patch size significantly changed over this period.\n",
    "\n",
    "The study examining relationship between NDVI, NDBI, LST and built-up area in Delhi NCR from 2002-2011 used Landsat and census data. It reported gradual decrease in greenness and increase in built structures and associated rise in temperatures (Sharma & Joshi, 2016).\n",
    "\n",
    "The assessment of LULC changes and impacts in Delhi NCR from 1998-2011 observed significant decrease in forest and agricultural land, which influenced local environmental conditions like increase in daytime temperatures (Malik et al., 2019).\n",
    "\n",
    "The urban heat island effect estimation in Delhi NCR using Landsat thermal data from 2000-2017 found daytime and nighttime land surface temperatures were positively associated with impervious surface area and negatively correlated with vegetation cover (Srivastava & Satyaprakash, 2020).\n",
    "\n",
    "The evaluation of factors affecting organic food consumption in Delhi NCR concluded that enhancing awareness, ensuring food safety standards and expanding availability channels could boost healthy eating habits (Misra & Singh, 2016).\n",
    "\n",
    "The analysis of peri-urban land use changes and drivers in Delhi NCR from 1990-2018 used geospatial techniques like post-classification comparison and geographically weighted regression to analyze suburbanization trends (Naikoo et al., 2022).\n",
    "\n",
    "The review of ecosystem service changes in western Himalayas indicated decline in provisioning and regulating services due to deforestation and degradation of alpine meadows (Mondal & Zhang, 2018).\n",
    "\n",
    "\n"
   ]
  },
  {
   "cell_type": "markdown",
   "id": "3f22b881-e739-41ee-b363-f3fc4b48da62",
   "metadata": {},
   "source": [
    "+ Analysis of spatial-temporal landscape pattern changes in Delhi NCR from 1990-2016 using remote sensing and landscape metrics. Significant increase in urbanization fractured the landscape into more irregular patches (Balha et al., 2020). Farmland converted to impervious surfaces (Balha et al., 2020).\n",
    "\n",
    "+ Relationship between NDVI, NDBI, LST and built-up area in Delhi NCR over 2002-2011. LST and built-up area increased while NDVI and NDWI decreased with urbanization (Sharma & Joshi, 2016). Linked urban growth to changes in environmental conditions (Sharma & Joshi, 2016).\n",
    "\n",
    "+ Mapping of LULC changes and impacts on environment of Delhi NCR from 1998-2011. Built-up and sparse built-up increased leading to conversion of agricultural land (Malik et al., 2019). LST and NDBI increased with density while NDVI and NDWI decreased (Malik et al., 2019).\n",
    "\n",
    "+ Urban heat island effect estimation in Delhi NCR using Landsat data. Spatial LST pattern affected by landscape characteristics with higher temperatures in built-up areas (Srivastava & Satyaprakash, 2020). Linked LST to NDVI across land cover classes (Srivastava & Satyaprakash, 2020).\n",
    "\n",
    "+ Characterization of Delhi NCR thermal environment and LST distribution using Landsat-8 data for regional planning. Higher LST in built-up and commercial/industrial areas. Vegetated areas showed cooling effects (Hang & Rahman, 2018).\n",
    "\n",
    "+ Analysis of factors affecting organic food consumption perception in Delhi NCR. Belief in safety, trust in certification, awareness and availability positively impacted while doubts and lack of awareness negatively impacted purchase intention (Misra & Singh, 2016).\n",
    "\n",
    "\n",
    "\n",
    "\n",
    "- Mapping environmental impacts and LST variation in Delhi NCR from 1998-2011 using remote sensing. Increase in minimum and maximum temperatures with rising LST and NDBI over time indicating urbanization impacts (Sharma & Joshi, 2016).\n",
    "\n",
    "- Change detection in Delhi NCR from 1973-2016 at sub-city level. Uneven urban expansion across districts. Significant increase in built-up areas mainly through edge expansion and infill development leading to fragmentation (Balha et al., 2020).\n",
    "\n",
    "- LULC change analysis in Delhi NCR from 1990-2018 using geospatial tools. Built-up areas increased while agriculture, vegetation declined. Population migration and tertiary sector employment identified as drivers through regressions (Naikoo et al., 2020).\n",
    "\n",
    "Analysis of built-up expansion and industrialization along NH-48 in Delhi NCR. Significant growth of built-up areas, urban centers and industrial locations observed along the highway under industrial corridor project (Kumar & Sharma, 2023).\n",
    "\n",
    "    Empirical analysis of variations in PM2.5 induced life quality across Indian states including Delhi NCR. Delhi NCR found to have lowest quality of life due to highest pollution levels despite higher incomes (Sharma et al., 2020).\n",
    "\n",
    "    Assessment of physical parameterization schemes in WRF model over Delhi NCR. Updated land use data and optimized model configurations improved simulation of meteorological parameters (Gunwani et al., 2021).\n",
    "\n",
    "    Estimation of ground subsidence in Delhi NCR from 2007-2017 using PS InSAR technique. Significant subsidence up to 20cm observed in over-exploited groundwater areas validated with field data (Malik et al., 2019).\n",
    "\n",
    "    Analysis of peri-urban LULC change and drivers in Delhi NCR from 1990-2018. Built-up areas increased in outer locations while declining in others. Migration and tertiary sector employment significant drivers (Naikoo et al., 2022).\n",
    "\n",
    "    Land use modeling and probability of built-up expansion in Delhi NCR. Probability higher in peri-urban core compared to outer areas indicating future urban dynamics (Naikoo et al., 2023).\n",
    "\n",
    "    Analysis of peri-urban LULC change and drivers in Delhi NCR from 1990-2018 using geospatial techniques and geographically weighted regression. Built-up areas increased in outer locations while declining in others. Migration and tertiary sector employment were identified as significant drivers through OLS and GWR. (Naikoo et al., 2022)\n",
    "\n",
    "    Modelling of built-up expansion probabilities in Delhi NCR using integrated fuzzy logic and coupling coordination degree model on LULC, demographic and utility parameters. Probability was highest in core urban areas and increased in future years indicating unsustainable expansion. (Naikoo et al., 2023)\n",
    "\n",
    "    Evaluation of impact of rapid urbanization on urban heat island and monitoring using earth observation data in Delhi over 2000-2020. Significant increase in temperatures observed along with decline in NDVI and increase in built-up areas indicating urbanization as a driving factor. (Singh et al., 2022)\n",
    "\n",
    "    Discussion on water conservation management techniques needed in National Capital Region given its large population and development. Emphasizes reducing usage and recycling of wastewater. (Koundanya & Gupta, 2011)\n",
    "\n",
    "    Analysis of urban heat island effect in Delhi NCR during 2001-2019 using LST extracted from Landsat data. UHI increased during infrastructure growth phase but decreased later due to afforestation initiatives before rising again post 2016. (Srivastava & Satyaprakash, 2020)\n",
    "\n",
    "    Assessment of inter-seasonal variations in vegetation cover and LST in NCR using MODIS. Relationship between LST and NDVI varies across seasons with peripheral areas experiencing highest temperature differences. (Mallick et al., 2020)\n",
    "\n",
    "    Empirical analysis of variation in life quality across Indian states including Delhi NCR based on air pollution levels. Delhi NCR found to have lowest quality of life despite higher incomes due to high pollution. (Sharma et al., 2020)\n",
    "\n",
    "    Evaluation of seasonal characteristics of LST in relation to NDVI and population density in NCR. Higher populations and lower NDVI linked to increased LST and urban heat island effect. (Mallick, 2021)\n",
    "    \n",
    "    Tripathi et al. (2019) assessed ecosystem services across 4 districts in eastern India from 1989-2016. Services were highest in water bodies and forest lands. Agricultural land reductions decreased services over time. Regression identified migration and tertiary employment as key drivers.\n",
    "\n",
    "Talukdar et al. (2020) modeled services dynamics due to land use changes in Indian Gangetic plains from 1999-2019 using InVEST. Services declined with agricultural land reductions. Elasticities revealed sensitivity to land conversions.\n",
    "\n",
    "Das et al. (2022) assessed post-COVID cultural service perceptions from urban green spaces in English Bazar, India. Higher usage frequency and duration after lockdowns indicated reliance on nature. Social relations and physical activities benefits were identified.\n",
    "\n",
    "Saha et al. (2022) quantified carbon budgets and service values changes from 1975-2021 in Chota Nagpur Plateau driven by vegetation losses. Converting changes to economic values justified restoration. Sensitivity analyses examined valuation coefficient effectiveness.\n",
    "\n",
    "Kumar et al. (2023) studied built-up expansion and industrialization impacts along NH-48 in Delhi NCR. Significant growth of built-up areas, urban centers and industries occurred. Landsat data and development plans were used.\n",
    "\n",
    "Singh et al. (2022) explored spatial temperature changes and relation to land use, NDVI and built-up area in Delhi over 2000-2020 using MODIS and Landsat. Temperatures increased sharply while NDVI and non-vegetated areas declined with urbanization.\n",
    "\n",
    "Mallick et al. (2020) assessed inter-seasonal variations in vegetation cover and LST in NCR using MODIS. Relationship between LST and NDVI varied across seasons and peripheral areas experienced highest temperature differences.\n",
    "\n",
    "Sharma et al. (2020) empirically analyzed life quality variations across Indian states including Delhi NCR based on air pollution levels. Delhi NCR had lowest quality despite higher incomes due to pollution.\n",
    "\n",
    "Mallick (2021) evaluated seasonal LST characteristics in relation to NDVI and population density in NCR. Higher populations and lower NDVI were linked to increased LST and urban heat islands.\n",
    "\n",
    "Mondal & Zhang (2018) reviewed research progress on changes in land use and associated ecosystem service changes in western Himalayas. Declining trends in services were identified.\n",
    "\n",
    "Yosef et al. (2022) estimated LST regulation as an ecosystem service through a case study from Jaipur, India. Forest areas exhibited better temperature regulation abilities.\n",
    "\n",
    "Imdad et al. (2022) assessed wetland health, water quality and perceptions of declining services in Abu, India. Degradation impacted communities reliant on wetlands.\n",
    "\n",
    "Sannigrahi et al. (2020) evaluated spatio-temporal ecosystem service value changes in Delhi from 1998-2018. Significant losses were documented due to land cover changes.\n",
    "\n",
    "Das et al. (2019) modeled past and future ecosystem service supply capacities of Kulik Forest in Raiganj using LULC. Cultural and provisioning services showed higher supply from forests.\n",
    "\n",
    "Ghosh et al. (2021) analyzed ecosystem service value dynamics in response to land use changes in Barasat subdivision, India. Values declined over time primarily due to agricultural land and vegetation degradations.\n",
    "\n",
    "Ankur et al. (2022) estimated ecosystem service value losses tied to landscape transformations in Dhanbad district, India. Values reduced significantly between 1990-2020 largely driven by cropland and vegetation cover losses."
   ]
  },
  {
   "cell_type": "code",
   "execution_count": 19,
   "id": "5ece77d1-5d2c-448d-8f31-ea664278cefd",
   "metadata": {},
   "outputs": [
    {
     "name": "stdout",
     "output_type": "stream",
     "text": [
      "xcode-select: note: install requested for command line developer tools\n"
     ]
    }
   ],
   "source": [
    "!xcode-select --install\n"
   ]
  },
  {
   "cell_type": "code",
   "execution_count": 18,
   "id": "6cce2371-1463-4aad-830b-3c2b9ab87cad",
   "metadata": {},
   "outputs": [
    {
     "name": "stdout",
     "output_type": "stream",
     "text": [
      "xcrun: error: invalid active developer path (/Library/Developer/CommandLineTools), missing xcrun at: /Library/Developer/CommandLineTools/usr/bin/xcrun\n",
      "xcrun: error: invalid active developer path (/Library/Developer/CommandLineTools), missing xcrun at: /Library/Developer/CommandLineTools/usr/bin/xcrun\n",
      "xcrun: error: invalid active developer path (/Library/Developer/CommandLineTools), missing xcrun at: /Library/Developer/CommandLineTools/usr/bin/xcrun\n",
      "xcrun: error: invalid active developer path (/Library/Developer/CommandLineTools), missing xcrun at: /Library/Developer/CommandLineTools/usr/bin/xcrun\n",
      "xcrun: error: invalid active developer path (/Library/Developer/CommandLineTools), missing xcrun at: /Library/Developer/CommandLineTools/usr/bin/xcrun\n",
      "xcrun: error: invalid active developer path (/Library/Developer/CommandLineTools), missing xcrun at: /Library/Developer/CommandLineTools/usr/bin/xcrun\n"
     ]
    }
   ],
   "source": [
    "# Initialize the repository\n",
    "!git init\n",
    "\n",
    "# Create the README.md file\n",
    "!echo \"# Chapter4\" >> README.md\n",
    "\n",
    "# Stage the README.md file\n",
    "!git add README.md\n",
    "\n",
    "# Commit the changes\n",
    "!git commit -m \"first commit\"\n",
    "\n",
    "# Set the branch name\n",
    "!git branch -M main\n",
    "\n",
    "# Add the remote repository\n",
    "!git remote add origin https://github.com/abhinavwidak/Chapter4.git\n",
    "\n",
    "# Push the commits to the remote repository\n",
    "!git push -u origin main\n"
   ]
  },
  {
   "cell_type": "markdown",
   "id": "e1f812b4-2585-47c0-ac78-118fbb020128",
   "metadata": {},
   "source": [
    "Here are the summaries formatted with Markdown:\n",
    "\n",
    "## Peri-urban LULC change and drivers in Delhi NCR from 1990-2018\n",
    "\n",
    "\n",
    "    \n",
    "## Literature review\n",
    "    \n",
    "Naikoo et al. (2022) analyzed peri-urban LULC change and drivers in Delhi NCR from 1990-2018 using geospatial techniques and geographically weighted regression. Built-up areas increased in outer locations while declining in others. Migration and tertiary sector employment were identified as significant drivers through OLS and GWR.</p>\n",
    "In an in-depth examination of the Delhi National Capital Region (NCR), a range of studies have revealed the intricate dynamics of urbanization and its environmental implications. Building upon the foundational work of Budhiraja, B. et al. in URBAN CLIMATE, the Delhi NCR stands out as an exemplar of urban heterogeneity, stretching across the flat Gangetic plains and the Aravalli hills, with a complex administrative structure governed by a variety of local and regional authorities. This region has been dissected by Budhiraja and colleagues for its thermal performance, showcasing a patchwork of densely populated centers, burgeoning suburbs, and vast rural peripheries. This amalgam of land use patterns significantly contributes to the area's climate, particularly concerning the urban heat island effect, where different zones within the NCR exhibit unique thermal characteristics due to their specific urban design and developmental policies.\n",
    "\n",
    "Numerous studies have quantified the changes in landscape patterns in the NCR due to urbanization. From 1990 to 2016, Balha et al. (2020) documented a marked increase in urban sprawl, resulting in a more fragmented landscape, with farmland being replaced by impervious surfaces. Similarly, Sharma & Joshi (2016) linked an increase in land surface temperature (LST) and built-up areas with a decrease in vegetation, as indicated by the Normalized Difference Vegetation Index (NDVI), and water content, as indicated by the Normalized Difference Water Index (NDWI), over the period from 2002 to 2011. Malik et al. (2019) observed that from 1998 to 2011, agricultural land gave way to built-up regions, affecting the LST and NDBI indices. Srivastava & Satyaprakash (2020) and Hang & Rahman (2018) provided insights into the urban heat island phenomenon using Landsat data, correlating higher temperatures in built-up areas with landscape characteristics.\n",
    "\n",
    "On the social science front, Misra & Singh (2016) analyzed the perceptions affecting organic food consumption in the NCR, highlighting factors such as safety, certification trust, and availability as positive influences, while doubts and lack of awareness hindered organic food purchases. Another dimension of urbanization's impact was presented by Sharma & Joshi (2016), who mapped the rise in temperatures and LST over time. Balha et al. (2020) also provided a nuanced look at the uneven expansion of urban areas through edge expansion and infill development from 1973 to 2016.\n",
    "\n",
    "Employment and migration were identified as primary drivers of land use change by Naikoo et al. (2020 and 2022) in their analysis of the peri-urban landscape from 1990 to 2018. Kumar & Sharma (2023) pinpointed the growth along NH-48 as a result of industrialization efforts. The adverse effects of pollution on life quality, despite higher incomes in the region, were underscored by Sharma et al. (2020). Meanwhile, advancements in modeling techniques for weather forecasting and land subsidence assessment were demonstrated by Gunwani et al. (2021) and Malik et al. (2019), respectively.\n",
    "\n",
    "The potential for future urban expansion was modeled by Naikoo et al. (2023), who predicted a higher likelihood of built-up area increase in the peri-urban core. Singh et al. (2022) evaluated the impact of rapid urbanization on urban heat islands, observing a significant temperature rise along with the decline in green cover. Koundanya & Gupta (2011) discussed the urgent need for water conservation management in the NCR, emphasizing the reduction and recycling of wastewater. Srivastava & Satyaprakash (2020) tracked the urban heat island effect from 2001 to 2019, noting fluctuations due to infrastructure development and afforestation efforts. Mallick et al. (2020) and Mallick (2021) investigated the interplay between vegetation cover, population density, and LST, illustrating the seasonal variation in the urban heat island effect across the NCR.\n",
    "\n",
    "This collection of research presents a multi-faceted portrait of the Delhi NCR, highlighting the environmental, social, and infrastructural challenges faced by this rapidly urbanizing region. Each study contributes to a composite understanding of how urban growth patterns, environmental factors, and human activities are interlinked, providing valuable insights for regional planning and sustainability efforts.\n",
    "\n",
    "</div>\n",
    "\n",
    "* -\n",
    "    Bera et al. (2022) assessed forest cover loss and impacts on provisioning ES using remote sensing and household surveys in dry deciduous forests of West Bengal, India from 2006-2020. 68% of forest lost due to drivers like logging and agriculture. 73% of households perceived ES declines.\n",
    "\n",
    "    Kadaverugu et al. (2022) quantified blue carbon sequestration, sediment export and nutrient runoff under future land use scenarios for Bhitarkanika mangroves, India using InVEST. Projected reductions by 2030 depending on scenario, highlighting need for conservation.\n",
    "\n",
    "    Kumar et al. (2022) estimated ES values for Ariyalur district, India using benefit transfer and examined relationships between mining and ES through landscapes' capacity assessment for reclamation planning. Agricultural lands showed highest values.\n",
    "\n",
    "    Imdad et al. (2022) assessed wetland health, water quality and resident perceptions of declining ES in Abu wetlands, India. Identified deteriorating conditions and degradation impacts on communities over time.\n",
    "\n",
    "    Das et al. (2023) assessed cultural ES perception impacts from urban green spaces in English Bazar, India during COVID. Higher usage and duration after lockdowns indicated reliance on nature for well-being.\n",
    "\n",
    "    Saha et al. (2022) quantified carbon budgets and ES values changes in Chota Nagpur Plateau, India driven by vegetation losses. Converting changes to economics justified restoration.\n",
    "\n",
    "    Talukdar et al. (2020) modelled services dynamics due to land use changes in Indian Gangetic plains using geospatial tools from 1999-2019. Services decreased with agricultural land reductions.\n",
    "\n",
    "    Ghosh et al. (2023) analyzed ES value dynamics in response to land use changes in Kolkata Metropolitan Area, India. Values declined over time primarily due to agricultural land and vegetation degradations.\n",
    "\n",
    "    Das et al. (2022) assessed ES supply capacities of Kulik Forest in Raiganj, India using LULC matrix model. Cultural and provisioning services showed higher supply from forests.\n",
    "\n",
    "    Ghosh et al. (2021) analyzed ES value dynamics in response to land use changes in Barasat subdivision, India. Values declined over time due to agricultural land and vegetation losses."
   ]
  },
  {
   "cell_type": "code",
   "execution_count": 4,
   "id": "1506464f-7c06-4d6c-87a6-3b8c27f9b0a8",
   "metadata": {},
   "outputs": [
    {
     "name": "stdout",
     "output_type": "stream",
     "text": [
      "Selected Administrative Units (Surrounding Delhi):\n",
      "Admin Unit ID: 17665\n",
      "Admin Unit Name: Sonepat\n",
      "Admin Unit ID: 70133\n",
      "Admin Unit Name: Jhajjar\n",
      "Admin Unit ID: 70260\n",
      "Admin Unit Name: Baghpat\n",
      "Admin Unit ID: 70265\n",
      "Admin Unit Name: Gautam Buddha Nagar\n",
      "Admin Unit ID: 17633\n",
      "Admin Unit Name: Delhi\n",
      "Admin Unit ID: 17657\n",
      "Admin Unit Name: Gurgaon\n",
      "Admin Unit ID: 70131\n",
      "Admin Unit Name: Faridabad\n",
      "Admin Unit ID: 17911\n",
      "Admin Unit Name: Ghaziabad\n"
     ]
    },
    {
     "data": {
      "application/vnd.jupyter.widget-view+json": {
       "model_id": "b656264c16624627851557123fe09316",
       "version_major": 2,
       "version_minor": 0
      },
      "text/plain": [
       "Map(center=[21.64546673291641, 78.25205471196459], controls=(WidgetControl(options=['position', 'transparent_b…"
      ]
     },
     "execution_count": 4,
     "metadata": {},
     "output_type": "execute_result"
    }
   ],
   "source": [
    "# Filter the administrative units dataset to select India\n",
    "india_dataset = dataset.filterBounds(india_roi)\n",
    "\n",
    "# Define a region of interest (ROI) for New Delhi\n",
    "delhi_roi = ee.Geometry.Point(77.216721, 28.613939)\n",
    "\n",
    "# Filter the India dataset to select New Delhi\n",
    "delhi_feature = india_dataset.filterBounds(delhi_roi)\n",
    "\n",
    "# Get the geometry of New Delhi\n",
    "delhi_geometry = delhi_feature.geometry()\n",
    "\n",
    "# Create a buffer around New Delhi to select surrounding administrative units\n",
    "buffered_delhi = delhi_geometry.buffer(0.1)  # Adjust the buffer distance as needed\n",
    "\n",
    "# Filter the administrative units dataset to select only the immediately adjacent administrative units\n",
    "surrounding_admin_units = india_dataset.filterBounds(buffered_delhi)\n",
    "\n",
    "# Print the selected administrative units\n",
    "print(\"Selected Administrative Units (Surrounding Delhi):\")\n",
    "selected_features = surrounding_admin_units.getInfo()\n",
    "for feature in selected_features['features']:\n",
    "    print(\"Admin Unit ID:\", feature['properties']['ADM2_CODE'])\n",
    "    print(\"Admin Unit Name:\", feature['properties']['ADM2_NAME'])\n",
    "\n",
    "# Create a new Map\n",
    "Map = geemap.Map()\n",
    "Map.centerObject(india_roi, 5)  # Center the map on India\n",
    "\n",
    "# Add a layer for the surrounding administrative units\n",
    "Map.addLayer(surrounding_admin_units, {'color': 'Red'}, 'Surrounding Administrative Units')\n",
    "Map.addLayer(delhi_geometry, {'color': \"Yellow\"}, \"Delhi\")\n",
    "Map.add_layer_manager()\n",
    "# Display the Map\n",
    "Map\n"
   ]
  },
  {
   "cell_type": "markdown",
   "id": "1ec71ca3-f4ed-41e3-8c4d-5092d86f0cea",
   "metadata": {},
   "source": [
    "## Export the two layers as Shapefiles"
   ]
  },
  {
   "cell_type": "code",
   "execution_count": null,
   "id": "8459b848-a19c-4fad-95ae-e38b86666457",
   "metadata": {},
   "outputs": [
    {
     "name": "stdout",
     "output_type": "stream",
     "text": [
      "Export tasks to Google Drive failed.\n"
     ]
    }
   ],
   "source": [
    "# Define export parameters for surrounding administrative units to Google Drive\n",
    "# export_params_surrounding = {\n",
    "#     'collection': surrounding_admin_units,\n",
    "#     'description': 'Surrounding_Admin_Units',\n",
    "#     'fileFormat': 'SHP'  # Export as a shapefile\n",
    "# }\n",
    "\n",
    "# # Define export parameters for Delhi to Google Drive\n",
    "# export_params_delhi = {\n",
    "#     'collection': delhi_feature,\n",
    "#     'description': 'Delhi',\n",
    "#     'fileFormat': 'SHP'  # Export as a shapefile\n",
    "# }\n",
    "\n",
    "# # Define the export tasks for both layers to Google Drive\n",
    "# export_task_surrounding = ee.batch.Export.table.toDrive(**export_params_surrounding)\n",
    "# export_task_delhi = ee.batch.Export.table.toDrive(**export_params_delhi)\n",
    "\n",
    "# # Start the export tasks to Google Drive\n",
    "# export_task_surrounding.start()\n",
    "# export_task_delhi.start()\n",
    "\n",
    "# # Wait for the export tasks to complete\n",
    "# import time\n",
    "# while (\n",
    "#     export_task_surrounding.status()['state'] == 'RUNNING'\n",
    "#     or export_task_delhi.status()['state'] == 'RUNNING'\n",
    "# ):\n",
    "#     time.sleep(5)\n",
    "\n",
    "# # Check if the export tasks to Google Drive completed successfully\n",
    "# if (\n",
    "#     export_task_surrounding.status()['state'] == 'COMPLETED'\n",
    "#     and export_task_delhi.status()['state'] == 'COMPLETED'\n",
    "# ):\n",
    "#     # Get the URLs of the exported files on Google Drive\n",
    "#     export_url_surrounding = export_task_surrounding.status()['driveFile']['title']\n",
    "#     export_url_delhi = export_task_delhi.status()['driveFile']['title']\n",
    "#     print(\"Surrounding Administrative Units saved on Google Drive:\", export_url_surrounding)\n",
    "#     print(\"Delhi saved on Google Drive:\", export_url_delhi)\n",
    "# else:\n",
    "#     print(\"Export tasks to Google Drive failed.\")\n"
   ]
  },
  {
   "cell_type": "markdown",
   "id": "c1c6c559-189b-4e55-9ba9-b623e947f9ff",
   "metadata": {},
   "source": [
    "Cannot export to Google Drive or local disk. Use the objects for analysis. "
   ]
  },
  {
   "cell_type": "markdown",
   "id": "25643736-30f5-4354-b407-70ded8bf4c9a",
   "metadata": {},
   "source": [
    "The NDVI layer at the moment does not include the whole region of Delhi NCR. Write a corrected code expanding on the selected area for NDVI calculation"
   ]
  },
  {
   "cell_type": "code",
   "execution_count": 2,
   "id": "7cc69fef-55d1-432b-af2f-5536c164e0e8",
   "metadata": {},
   "outputs": [
    {
     "data": {
      "text/html": [
       "<p>To authorize access needed by Earth Engine, open the following\n",
       "        URL in a web browser and follow the instructions:</p>\n",
       "        <p><a href=https://code.earthengine.google.com/client-auth?scopes=https%3A//www.googleapis.com/auth/earthengine%20https%3A//www.googleapis.com/auth/devstorage.full_control&request_id=klBd2yfkvtzw9cC9sltpmcNH5IAhw2xLYkdtcSvvD8s&tc=HmeAcYmcH-nG25Bej-ayEIdZjcaVHLnRB6gINkksA-k&cc=Fd_GIAk-tCTKjLZfrWEYDRnjuEOkY7YhrI0hl-3K2OM>https://code.earthengine.google.com/client-auth?scopes=https%3A//www.googleapis.com/auth/earthengine%20https%3A//www.googleapis.com/auth/devstorage.full_control&request_id=klBd2yfkvtzw9cC9sltpmcNH5IAhw2xLYkdtcSvvD8s&tc=HmeAcYmcH-nG25Bej-ayEIdZjcaVHLnRB6gINkksA-k&cc=Fd_GIAk-tCTKjLZfrWEYDRnjuEOkY7YhrI0hl-3K2OM</a></p>\n",
       "        <p>The authorization workflow will generate a code, which you should paste in the box below.</p>\n",
       "        "
      ],
      "text/plain": [
       "<IPython.core.display.HTML object>"
      ]
     },
     "metadata": {},
     "output_type": "display_data"
    },
    {
     "name": "stdout",
     "output_type": "stream",
     "text": [
      "\n",
      "Successfully saved authorization token.\n"
     ]
    },
    {
     "data": {
      "application/vnd.jupyter.widget-view+json": {
       "model_id": "1cbab305761e44e4a87700266f397eaa",
       "version_major": 2,
       "version_minor": 0
      },
      "text/plain": [
       "Map(center=[21.64546673291641, 78.25205471196459], controls=(WidgetControl(options=['position', 'transparent_b…"
      ]
     },
     "execution_count": 2,
     "metadata": {},
     "output_type": "execute_result"
    }
   ],
   "source": [
    "import ee\n",
    "import geemap\n",
    "import datetime\n",
    "ee.Authenticate()\n",
    "# Initialize Earth Engine\n",
    "ee.Initialize()\n",
    "\n",
    "# Define the FAO/GAUL administrative units dataset\n",
    "dataset = ee.FeatureCollection('FAO/GAUL/2015/level2')\n",
    "\n",
    "# Define a region of interest (ROI) for India\n",
    "india_roi = ee.Geometry.Polygon(\n",
    "    [[[\n",
    "      68.11137880340998, 7.96553484576015],\n",
    "      [88.3927306205192, 7.96553484576015],\n",
    "      [88.3927306205192, 35.67459030295267],\n",
    "      [68.11137880340998, 35.67459030295267],\n",
    "      [68.11137880340998, 7.96553484576015]\n",
    "    ]]\n",
    ")\n",
    "\n",
    "# Filter the administrative units dataset to select India\n",
    "india_dataset = dataset.filterBounds(india_roi)\n",
    "\n",
    "# Define a region of interest (ROI) for New Delhi\n",
    "delhi_roi = ee.Geometry.Point(77.216721, 28.613939)\n",
    "\n",
    "# Filter the India dataset to select New Delhi\n",
    "delhi_feature = india_dataset.filterBounds(delhi_roi)\n",
    "\n",
    "# Create a Map\n",
    "Map = geemap.Map()\n",
    "Map.centerObject(india_roi, 5)  # Center the map on India\n",
    "\n",
    "# Add a layer for New Delhi\n",
    "Map.addLayer(delhi_feature, {'color': 'FF0000'}, 'New Delhi')\n",
    "\n",
    "# Buffer New Delhi and filter surrounding administrative units\n",
    "buffered_delhi = delhi_feature.geometry().buffer(0.1)  # Adjust the buffer distance as needed\n",
    "surrounding_admin_units = india_dataset.filterBounds(buffered_delhi)\n",
    "\n",
    "# Add a layer for surrounding administrative units\n",
    "Map.addLayer(surrounding_admin_units, {'color': 'Yellow'}, 'Surrounding Administrative Units')\n",
    "\n",
    "# Function to calculate NDVI\n",
    "def calculate_ndvi(image):\n",
    "    ndvi = image.normalizedDifference(['B5', 'B4']).rename('NDVI')\n",
    "    return image.addBands(ndvi)\n",
    "\n",
    "# Function to get Landsat imagery for a given region\n",
    "def get_landsat_imagery(region, start_date, end_date):\n",
    "    landsat = ee.ImageCollection(\"LANDSAT/LC08/C01/T1_SR\") \\\n",
    "        .filterBounds(region) \\\n",
    "        .filterDate(start_date, end_date) \\\n",
    "        .sort(\"CLOUD_COVER\") \\\n",
    "        .mosaic()\n",
    "    return landsat\n",
    "\n",
    "# Define the time range for Landsat imagery\n",
    "start_date = datetime.datetime(2020, 1, 1)\n",
    "end_date = datetime.datetime(2021, 12, 31)\n",
    "\n",
    "# Get Landsat imagery for New Delhi and the surrounding administrative units\n",
    "landsat_region = surrounding_admin_units.geometry().union(buffered_delhi)\n",
    "landsat_imagery = get_landsat_imagery(landsat_region, start_date, end_date)\n",
    "\n",
    "# Calculate NDVI for New Delhi\n",
    "delhi_with_ndvi = calculate_ndvi(landsat_imagery.clip(delhi_feature.geometry()))\n",
    "\n",
    "# Calculate NDVI for surrounding administrative units\n",
    "surrounding_admin_with_ndvi = calculate_ndvi(landsat_imagery)\n",
    "\n",
    "# Add the NDVI layers to the map\n",
    "Map.addLayer(delhi_with_ndvi.select('NDVI'), {'min': -1, 'max': 1, 'palette': ['blue', 'white', 'green']}, 'NDVI New Delhi')\n",
    "Map.addLayer(surrounding_admin_with_ndvi.select('NDVI'), {'min': -1, 'max': 1, 'palette': ['blue', 'white', 'green']}, 'NDVI Surrounding Administrative Units')\n",
    "\n",
    "# Combine the NDVI images for Delhi and surrounding administrative units\n",
    "combined_ndvi = delhi_with_ndvi.add(surrounding_admin_with_ndvi)\n",
    "\n",
    "# Add the combined NDVI layer to the map\n",
    "Map.addLayer(combined_ndvi.select('NDVI'), {'min': -1, 'max': 1, 'palette': ['blue', 'white', 'green']}, 'NDVI Combined')\n",
    "\n",
    "# Add a layer control to the map to toggle between layers\n",
    "Map.addLayerControl()\n",
    "\n",
    "# Display the Map\n",
    "Map\n"
   ]
  },
  {
   "cell_type": "code",
   "execution_count": 3,
   "id": "92e8632b-992a-4647-8020-1db0a38d63f7",
   "metadata": {},
   "outputs": [],
   "source": [
    "Map.add_basemap()\n",
    "# Add a layer for New Delhi\n",
    "Map.addLayer(delhi_feature, {'color': 'FF0000'}, 'New Delhi')\n",
    "\n",
    "# Buffer New Delhi and filter surrounding administrative units\n",
    "buffered_delhi = delhi_feature.geometry().buffer(0.1)  # Adjust the buffer distance as needed\n",
    "surrounding_admin_units = india_dataset.filterBounds(buffered_delhi)\n",
    "\n",
    "# Add a layer for surrounding administrative units\n",
    "Map.addLayer(surrounding_admin_units, {'color': 'Yellow'}, 'Surrounding Administrative Units')\n",
    "Map.save('Savedpic.png')\n"
   ]
  },
  {
   "cell_type": "markdown",
   "id": "03dd0c93-d930-4f17-bea7-6be963b54dcf",
   "metadata": {},
   "source": [
    "# Exploring landcover changes in Delhi NCR from 2000-2020. "
   ]
  },
  {
   "cell_type": "code",
   "execution_count": 5,
   "id": "d308a354-faa2-42d2-9085-ff49bfb23b86",
   "metadata": {},
   "outputs": [
    {
     "data": {
      "application/vnd.jupyter.widget-view+json": {
       "model_id": "955be82b99ae41a8a935e85529477e36",
       "version_major": 2,
       "version_minor": 0
      },
      "text/plain": [
       "Map(center=[28.646455931994893, 77.10900424302301], controls=(WidgetControl(options=['position', 'transparent_…"
      ]
     },
     "execution_count": 5,
     "metadata": {},
     "output_type": "execute_result"
    }
   ],
   "source": [
    "# Define the region of interest for your study area\n",
    "study_area = delhi_feature.geometry()\n",
    "\n",
    "# Load the MODIS land cover dataset\n",
    "landcover = ee.ImageCollection('MODIS/006/MCD12Q1')\n",
    "\n",
    "# Filter the dataset for the years of interest\n",
    "landcover_2000 = landcover.filterDate('2000-01-01', '2000-12-31').mosaic().clip(study_area)\n",
    "landcover_2023 = landcover.filterDate('2023-01-01', '2023-12-31').mosaic().clip(study_area)\n",
    "\n",
    "# Calculate land cover change\n",
    "change = landcover_2023.subtract(landcover_2000)\n",
    "\n",
    "# Visualize land cover change\n",
    "Map = geemap.Map()\n",
    "Map.centerObject(study_area, 10)\n",
    "\n",
    "# Add land cover layers to the map\n",
    "Map.addLayer(landcover_2000, {'min': 1, 'max': 17, 'palette': ['05450a', '086a10', '54a708', '78d203', '009900', 'c6b044', 'dcd159', 'dade48', 'fbff13', 'b6ff05', '27ff87', 'c24f44', 'a5a5a5', 'ff6d4c', '69fff8', 'f9ffa4', '1c0dff']}, 'Land Cover 2000')\n",
    "Map.addLayer(landcover_2023, {'min': 1, 'max': 17, 'palette': ['05450a', '086a10', '54a708', '78d203', '009900', 'c6b044', 'dcd159', 'dade48', 'fbff13', 'b6ff05', '27ff87', 'c24f44', 'a5a5a5', 'ff6d4c', '69fff8', 'f9ffa4', '1c0dff']}, 'Land Cover 2023')\n",
    "\n",
    "# Add land cover change layer to the map\n",
    "Map.addLayer(change, {'min': -5, 'max': 5, 'palette': ['red', 'white', 'green']}, 'Land Cover Change 2000-2023')\n",
    "\n",
    "# Display the map\n",
    "Map.addLayerControl()\n",
    "Map\n"
   ]
  },
  {
   "cell_type": "code",
   "execution_count": 7,
   "id": "25236caf-920a-4b7b-bbb2-c39f1475fe77",
   "metadata": {},
   "outputs": [
    {
     "data": {
      "application/vnd.jupyter.widget-view+json": {
       "model_id": "651b4d7b216c44cd855f5773e472faeb",
       "version_major": 2,
       "version_minor": 0
      },
      "text/plain": [
       "Map(center=[28.613939, 77.216721], controls=(WidgetControl(options=['position', 'transparent_bg'], widget=HBox…"
      ]
     },
     "execution_count": 7,
     "metadata": {},
     "output_type": "execute_result"
    }
   ],
   "source": [
    "# Define the region of interest (selected2) and the MODIS land cover dataset\n",
    "delhi_geometry = ee.Geometry.Point(77.216721, 28.613939)\n",
    "selected2 = delhi_geometry\n",
    "\n",
    "landcover = ee.ImageCollection('MODIS/006/MCD12Q1')\n",
    "\n",
    "# Load MODIS land cover images for different years\n",
    "landcover2001 = landcover.filterDate('2001-01-01', '2001-12-31').mosaic().clip(selected2)\n",
    "landcover2005 = landcover.filterDate('2005-01-01', '2005-12-31').mosaic().clip(selected2)\n",
    "landcover2011 = landcover.filterDate('2011-01-01', '2011-12-31').mosaic().clip(selected2)\n",
    "landcover2015 = landcover.filterDate('2015-01-01', '2015-12-31').mosaic().clip(selected2)\n",
    "landcover2019 = landcover.filterDate('2019-01-01', '2019-12-31').mosaic().clip(selected2)\n",
    "\n",
    "# Create an image collection of MODIS land cover images\n",
    "landcover_collection = ee.ImageCollection([landcover2001, landcover2005, landcover2011, landcover2015, landcover2019])\n",
    "\n",
    "# Define layer names for MODIS images\n",
    "landcover_layer_names = ['Landcover 2001', 'Landcover 2005', 'Landcover 2011', 'Landcover 2015', 'Landcover 2019']\n",
    "\n",
    "# Visualize land cover layers on the map\n",
    "Map = geemap.Map()\n",
    "Map.centerObject(selected2, 6)\n",
    "\n",
    "# Add land cover layers to the map\n",
    "for i in range(len(landcover_layer_names)):\n",
    "    Map.addLayer(landcover_collection.select(['LC_Type1']), {\n",
    "        'min': 0,\n",
    "        'max': 17,\n",
    "        'palette': ['05450a', '086a10', '54a708', '78d203', '009900', 'c6b044', 'dcd159', 'dade48', 'fbff13', 'b6ff05',\n",
    "                    '27ff87', 'c24f44', 'a5a5a5', 'ff6d4c', '69fff8', 'f9ffa4', '1c0dff']\n",
    "    }, landcover_layer_names[i])\n",
    "\n",
    "# Display the map\n",
    "Map.addLayerControl()\n",
    "Map\n"
   ]
  },
  {
   "cell_type": "code",
   "execution_count": 8,
   "id": "4c917757-320c-43e0-aa3a-fa4294addfe9",
   "metadata": {},
   "outputs": [
    {
     "data": {
      "application/vnd.jupyter.widget-view+json": {
       "model_id": "5843353945f442528d94dc1b2a5324ad",
       "version_major": 2,
       "version_minor": 0
      },
      "text/plain": [
       "Map(center=[28.643579956601815, 77.06254999999997], controls=(WidgetControl(options=['position', 'transparent_…"
      ]
     },
     "execution_count": 8,
     "metadata": {},
     "output_type": "execute_result"
    }
   ],
   "source": [
    "# Define the region of interest for Delhi and surrounding areas\n",
    "delhi_bbox = ee.Geometry.BBox(76.8376, 28.4044, 77.2875, 28.8830)\n",
    "\n",
    "# Load MODIS land cover images for different years\n",
    "delhi_landcover_2001 = landcover.filterDate('2001-01-01', '2001-12-31').mosaic().clip(delhi_bbox)\n",
    "delhi_landcover_2005 = landcover.filterDate('2005-01-01', '2005-12-31').mosaic().clip(delhi_bbox)\n",
    "delhi_landcover_2011 = landcover.filterDate('2011-01-01', '2011-12-31').mosaic().clip(delhi_bbox)\n",
    "delhi_landcover_2015 = landcover.filterDate('2015-01-01', '2015-12-31').mosaic().clip(delhi_bbox)\n",
    "delhi_landcover_2019 = landcover.filterDate('2019-01-01', '2019-12-31').mosaic().clip(delhi_bbox)\n",
    "\n",
    "# Create an image collection of MODIS land cover images for Delhi\n",
    "delhi_landcover_collection = ee.ImageCollection([\n",
    "    delhi_landcover_2001, delhi_landcover_2005, delhi_landcover_2011, delhi_landcover_2015, delhi_landcover_2019\n",
    "])\n",
    "\n",
    "# Define layer names for MODIS images\n",
    "delhi_landcover_layer_names = ['Delhi Landcover 2001', 'Delhi Landcover 2005', 'Delhi Landcover 2011', 'Delhi Landcover 2015', 'Delhi Landcover 2019']\n",
    "\n",
    "# Visualize land cover layers on the map for Delhi\n",
    "delhi_map = geemap.Map()\n",
    "delhi_map.centerObject(delhi_bbox, 8)\n",
    "\n",
    "# Add land cover layers to the map for Delhi\n",
    "for i in range(len(delhi_landcover_layer_names)):\n",
    "    delhi_map.addLayer(delhi_landcover_collection.select(['LC_Type1']), {\n",
    "        'min': 0,\n",
    "        'max': 17,\n",
    "        'palette': ['05450a', '086a10', '54a708', '78d203', '009900', 'c6b044', 'dcd159', 'dade48', 'fbff13', 'b6ff05',\n",
    "                    '27ff87', 'c24f44', 'a5a5a5', 'ff6d4c', '69fff8', 'f9ffa4', '1c0dff']\n",
    "    }, delhi_landcover_layer_names[i])\n",
    "\n",
    "# Display the map for Delhi\n",
    "delhi_map.addLayerControl()\n",
    "delhi_map\n"
   ]
  },
  {
   "cell_type": "code",
   "execution_count": 47,
   "id": "ec0429e7-4dcb-4b80-998d-2efe2ac38a03",
   "metadata": {},
   "outputs": [
    {
     "data": {
      "text/html": [
       "<div>\n",
       "<style scoped>\n",
       "    .dataframe tbody tr th:only-of-type {\n",
       "        vertical-align: middle;\n",
       "    }\n",
       "\n",
       "    .dataframe tbody tr th {\n",
       "        vertical-align: top;\n",
       "    }\n",
       "\n",
       "    .dataframe thead th {\n",
       "        text-align: right;\n",
       "    }\n",
       "</style>\n",
       "<table border=\"1\" class=\"dataframe\">\n",
       "  <thead>\n",
       "    <tr style=\"text-align: right;\">\n",
       "      <th></th>\n",
       "      <th>LC_Type1</th>\n",
       "    </tr>\n",
       "  </thead>\n",
       "  <tbody>\n",
       "    <tr>\n",
       "      <th>Delhi Landcover 2001</th>\n",
       "      <td>{'10': 775.1254901960785, '12': 5522.717647058...</td>\n",
       "    </tr>\n",
       "    <tr>\n",
       "      <th>Delhi Landcover 2005</th>\n",
       "      <td>{'10': 564.913725490196, '12': 5704.9294117646...</td>\n",
       "    </tr>\n",
       "    <tr>\n",
       "      <th>Delhi Landcover 2011</th>\n",
       "      <td>{'10': 438.26666666666665, '12': 5692.06666666...</td>\n",
       "    </tr>\n",
       "    <tr>\n",
       "      <th>Delhi Landcover 2015</th>\n",
       "      <td>{'10': 528.8274509803921, '12': 5482.572549019...</td>\n",
       "    </tr>\n",
       "    <tr>\n",
       "      <th>Delhi Landcover 2019</th>\n",
       "      <td>{'10': 812.2745098039218, '12': 5203.803921568...</td>\n",
       "    </tr>\n",
       "  </tbody>\n",
       "</table>\n",
       "</div>"
      ],
      "text/plain": [
       "                                                               LC_Type1\n",
       "Delhi Landcover 2001  {'10': 775.1254901960785, '12': 5522.717647058...\n",
       "Delhi Landcover 2005  {'10': 564.913725490196, '12': 5704.9294117646...\n",
       "Delhi Landcover 2011  {'10': 438.26666666666665, '12': 5692.06666666...\n",
       "Delhi Landcover 2015  {'10': 528.8274509803921, '12': 5482.572549019...\n",
       "Delhi Landcover 2019  {'10': 812.2745098039218, '12': 5203.803921568..."
      ]
     },
     "execution_count": 47,
     "metadata": {},
     "output_type": "execute_result"
    }
   ],
   "source": [
    "import geemap\n",
    "import ee\n",
    "import pandas as pd\n",
    "\n",
    "# Authenticate and initialize Earth Engine\n",
    "# ee.Authenticate()\n",
    "# ee.Initialize()\n",
    "\n",
    "\n",
    "# Define the region of interest for Delhi and surrounding areas\n",
    "delhi_bbox = ee.Geometry.BBox(76.8376, 28.4044, 77.2875, 28.8830)\n",
    "\n",
    "# Load MODIS land cover images for different years\n",
    "landcover = ee.ImageCollection('MODIS/006/MCD12Q1')\n",
    "delhi_landcover_2001 = landcover.filterDate('2001-01-01', '2001-12-31').mosaic().clip(delhi_bbox)\n",
    "delhi_landcover_2005 = landcover.filterDate('2005-01-01', '2005-12-31').mosaic().clip(delhi_bbox)\n",
    "delhi_landcover_2011 = landcover.filterDate('2011-01-01', '2011-12-31').mosaic().clip(delhi_bbox)\n",
    "delhi_landcover_2015 = landcover.filterDate('2015-01-01', '2015-12-31').mosaic().clip(delhi_bbox)\n",
    "delhi_landcover_2019 = landcover.filterDate('2019-01-01', '2019-12-31').mosaic().clip(delhi_bbox)\n",
    "\n",
    "# Create an image collection of MODIS land cover images for Delhi\n",
    "delhi_landcover_collection = ee.ImageCollection([\n",
    "    delhi_landcover_2001, delhi_landcover_2005, delhi_landcover_2011, delhi_landcover_2015, delhi_landcover_2019\n",
    "])\n",
    "\n",
    "# Define layer names for MODIS images\n",
    "delhi_landcover_layer_names = ['Delhi Landcover 2001', 'Delhi Landcover 2005', 'Delhi Landcover 2011', 'Delhi Landcover 2015', 'Delhi Landcover 2019']\n",
    "\n",
    "# Function to calculate land cover frequency for a single image\n",
    "def calculate_landcover_frequency(image):\n",
    "    landcover_info = image.select(['LC_Type1']).reduceRegion(\n",
    "        reducer=ee.Reducer.frequencyHistogram(),\n",
    "        geometry=delhi_bbox,\n",
    "        scale=500,\n",
    "        maxPixels=1e13\n",
    "    )\n",
    "    # Create a dummy Feature with the land cover frequencies\n",
    "    feature = ee.Feature(None, landcover_info)\n",
    "    return feature\n",
    "# Calculate land cover frequency for each image in the collection\n",
    "landcover_info_list = delhi_landcover_collection.map(calculate_landcover_frequency).getInfo()\n",
    "\n",
    "# Extract land cover frequencies from the results\n",
    "landcover_data = []\n",
    "\n",
    "for item in landcover_info_list['features']:\n",
    "    properties = item.get('properties', {})\n",
    "    landcover_data.append(properties)\n",
    "\n",
    "# Create a Pandas DataFrame\n",
    "df = pd.DataFrame(landcover_data)\n",
    "df.index = delhi_landcover_layer_names\n",
    "\n",
    "# Export the DataFrame to a CSV file\n",
    "df.to_csv('landcover_change_delhi.csv', index=True)\n",
    "\n",
    "# Display the DataFrame\n",
    "df\n"
   ]
  },
  {
   "cell_type": "code",
   "execution_count": 48,
   "id": "7c09f5d9-7a81-4445-8018-284d7bdd9927",
   "metadata": {},
   "outputs": [
    {
     "data": {
      "application/vnd.jupyter.widget-view+json": {
       "model_id": "6859b7194d7048d08fab3a70b150638e",
       "version_major": 2,
       "version_minor": 0
      },
      "text/plain": [
       "Map(bottom=55082.0, center=[28.49993371708124, 77.09999999999987], controls=(WidgetControl(options=['position'…"
      ]
     },
     "execution_count": 48,
     "metadata": {},
     "output_type": "execute_result"
    }
   ],
   "source": [
    "import ee\n",
    "import geemap\n",
    "\n",
    "# Authenticate and initialize Earth Engine\n",
    "# ee.Authenticate()\n",
    "# ee.Initialize()\n",
    "\n",
    "# Define the bounding box for the study area covering Delhi and surrounding districts\n",
    "study_area_bbox = ee.Geometry.BBox(76.5, 28.1, 77.7, 28.9)\n",
    "\n",
    "# Load MODIS land cover images for different years for the study area\n",
    "landcover = ee.ImageCollection('MODIS/006/MCD12Q1')\n",
    "\n",
    "# Define the districts surrounding Delhi (Modify this list based on the actual districts)\n",
    "districts = [\n",
    "    ee.Geometry.BBox(long_min, lat_min, long_max, lat_max) for (long_min, lat_min, long_max, lat_max) in [\n",
    "        (77.05, 28.4, 77.25, 28.6),  # District 1\n",
    "        (77.25, 28.4, 77.45, 28.6),  # District 2\n",
    "        # Add more districts as needed\n",
    "    ]\n",
    "]\n",
    "\n",
    "# Create an image collection of MODIS land cover images for each district and each year\n",
    "landcover_collections = []\n",
    "\n",
    "for district_geom in districts:\n",
    "    district_landcover_collection = []\n",
    "    \n",
    "    for year in range(2001, 2020, 4):\n",
    "        start_date = f'{year}-01-01'\n",
    "        end_date = f'{year + 3}-12-31'\n",
    "        \n",
    "        district_landcover = landcover.filterDate(start_date, end_date).mosaic().clip(district_geom)\n",
    "        district_landcover_collection.append(district_landcover)\n",
    "    \n",
    "    landcover_collections.append(ee.ImageCollection(district_landcover_collection))\n",
    "\n",
    "# Visualize land cover changes for each district and each year\n",
    "for district_index, district_geom in enumerate(districts):\n",
    "    for year_index in range(landcover_collections[district_index].size().getInfo()):\n",
    "        landcover_collection = landcover_collections[district_index].toList(landcover_collections[district_index].size())\n",
    "        landcover_image = ee.Image(landcover_collection.get(year_index))\n",
    "        layer_name = f'District {district_index + 1} - Landcover {2001 + year_index * 4}-{2004 + year_index * 4}'\n",
    "        Map.addLayer(landcover_image.select(['LC_Type1']), {\n",
    "            'min': 0,\n",
    "            'max': 17,\n",
    "            'palette': ['05450a', '086a10', '54a708', '78d203', '009900', 'c6b044', 'dcd159', 'dade48', 'fbff13', 'b6ff05',\n",
    "                        '27ff87', 'c24f44', 'a5a5a5', 'ff6d4c', '69fff8', 'f9ffa4', '1c0dff']\n",
    "        }, layer_name)\n",
    "\n",
    "# Display the map\n",
    "Map.centerObject(study_area_bbox, 8)\n",
    "Map.addLayerControl()\n",
    "Map\n"
   ]
  },
  {
   "cell_type": "code",
   "execution_count": 51,
   "id": "15c00c53-7318-41b5-873d-1eaa16251a93",
   "metadata": {},
   "outputs": [
    {
     "data": {
      "text/html": [
       "<div>\n",
       "<style scoped>\n",
       "    .dataframe tbody tr th:only-of-type {\n",
       "        vertical-align: middle;\n",
       "    }\n",
       "\n",
       "    .dataframe tbody tr th {\n",
       "        vertical-align: top;\n",
       "    }\n",
       "\n",
       "    .dataframe thead th {\n",
       "        text-align: right;\n",
       "    }\n",
       "</style>\n",
       "<table border=\"1\" class=\"dataframe\">\n",
       "  <thead>\n",
       "    <tr style=\"text-align: right;\">\n",
       "      <th></th>\n",
       "      <th>LC_Type1</th>\n",
       "    </tr>\n",
       "  </thead>\n",
       "  <tbody>\n",
       "    <tr>\n",
       "      <th>Landcover 2001</th>\n",
       "      <td>{'10': 1138.8470588235296, '12': 38760.8627450...</td>\n",
       "    </tr>\n",
       "    <tr>\n",
       "      <th>Landcover 2005</th>\n",
       "      <td>{'10': 763, '12': 39149.24313725598, '13': 747...</td>\n",
       "    </tr>\n",
       "    <tr>\n",
       "      <th>Landcover 2011</th>\n",
       "      <td>{'10': 811.3882352941176, '11': 2, '12': 38682...</td>\n",
       "    </tr>\n",
       "    <tr>\n",
       "      <th>Landcover 2015</th>\n",
       "      <td>{'10': 1028.7686274509804, '11': 9, '12': 3809...</td>\n",
       "    </tr>\n",
       "    <tr>\n",
       "      <th>Landcover 2019</th>\n",
       "      <td>{'10': 1350.7686274509804, '11': 12, '12': 376...</td>\n",
       "    </tr>\n",
       "  </tbody>\n",
       "</table>\n",
       "</div>"
      ],
      "text/plain": [
       "                                                         LC_Type1\n",
       "Landcover 2001  {'10': 1138.8470588235296, '12': 38760.8627450...\n",
       "Landcover 2005  {'10': 763, '12': 39149.24313725598, '13': 747...\n",
       "Landcover 2011  {'10': 811.3882352941176, '11': 2, '12': 38682...\n",
       "Landcover 2015  {'10': 1028.7686274509804, '11': 9, '12': 3809...\n",
       "Landcover 2019  {'10': 1350.7686274509804, '11': 12, '12': 376..."
      ]
     },
     "execution_count": 51,
     "metadata": {},
     "output_type": "execute_result"
    }
   ],
   "source": [
    "import ee\n",
    "import geemap\n",
    "import pandas as pd\n",
    "\n",
    "# Define the bounding box for the study area covering Delhi and surrounding districts\n",
    "study_area_bbox = ee.Geometry.BBox(76.5, 28.1, 77.7, 28.9)\n",
    "\n",
    "# Load MODIS land cover images for different years for the study area\n",
    "landcover = ee.ImageCollection('MODIS/006/MCD12Q1')\n",
    "study_area_landcover_2001 = landcover.filterDate('2001-01-01', '2001-12-31').mosaic().clip(study_area_bbox)\n",
    "study_area_landcover_2005 = landcover.filterDate('2005-01-01', '2005-12-31').mosaic().clip(study_area_bbox)\n",
    "study_area_landcover_2011 = landcover.filterDate('2011-01-01', '2011-12-31').mosaic().clip(study_area_bbox)\n",
    "study_area_landcover_2015 = landcover.filterDate('2015-01-01', '2015-12-31').mosaic().clip(study_area_bbox)\n",
    "study_area_landcover_2019 = landcover.filterDate('2019-01-01', '2019-12-31').mosaic().clip(study_area_bbox)\n",
    "\n",
    "# Create an image collection of MODIS land cover images for the study area\n",
    "study_area_landcover_collection = ee.ImageCollection([\n",
    "    study_area_landcover_2001, study_area_landcover_2005, study_area_landcover_2011, \n",
    "    study_area_landcover_2015, study_area_landcover_2019\n",
    "])\n",
    "\n",
    "# Define layer names for MODIS images\n",
    "study_area_landcover_layer_names = [\n",
    "    'Landcover 2001', 'Landcover 2005', 'Landcover 2011', 'Landcover 2015', 'Landcover 2019'\n",
    "]\n",
    "\n",
    "# Function to calculate land cover frequency for a single image\n",
    "def calculate_landcover_frequency(image):\n",
    "    landcover_info = image.select(['LC_Type1']).reduceRegion(\n",
    "        reducer=ee.Reducer.frequencyHistogram(),\n",
    "        geometry=study_area_bbox,\n",
    "        scale=500,\n",
    "        maxPixels=1e13\n",
    "    )\n",
    "    # Create a dummy Feature with the land cover frequencies\n",
    "    feature = ee.Feature(None, landcover_info)\n",
    "    return feature\n",
    "\n",
    "# Calculate land cover frequency for each image in the collection\n",
    "landcover_info_list = study_area_landcover_collection.map(calculate_landcover_frequency).getInfo()\n",
    "\n",
    "# Extract land cover frequencies from the results\n",
    "landcover_data = []\n",
    "\n",
    "for item in landcover_info_list['features']:\n",
    "    properties = item.get('properties', {})\n",
    "    landcover_data.append(properties)\n",
    "\n",
    "# Create a Pandas DataFrame\n",
    "df = pd.DataFrame(landcover_data)\n",
    "df.index = study_area_landcover_layer_names\n",
    "\n",
    "# Export the DataFrame to a CSV file\n",
    "df.to_csv('landcover_change_study_area.csv', index=True)\n",
    "\n",
    "# Display the DataFrame\n",
    "df\n"
   ]
  },
  {
   "cell_type": "code",
   "execution_count": 33,
   "id": "d72a4cf5-57f6-48aa-93af-a6f394db3037",
   "metadata": {},
   "outputs": [
    {
     "ename": "AttributeError",
     "evalue": "module 'geemap' has no attribute 'add_ee_layer'",
     "output_type": "error",
     "traceback": [
      "\u001b[0;31m---------------------------------------------------------------------------\u001b[0m",
      "\u001b[0;31mAttributeError\u001b[0m                            Traceback (most recent call last)",
      "\u001b[0;32m/var/folders/ly/rgjn5pn521xds5tj0m76ys_40000gn/T/ipykernel_41543/2207260911.py\u001b[0m in \u001b[0;36m<module>\u001b[0;34m\u001b[0m\n\u001b[1;32m     42\u001b[0m         \u001b[0mlandcover_image\u001b[0m \u001b[0;34m=\u001b[0m \u001b[0mee\u001b[0m\u001b[0;34m.\u001b[0m\u001b[0mImage\u001b[0m\u001b[0;34m(\u001b[0m\u001b[0mlandcover_collection\u001b[0m\u001b[0;34m.\u001b[0m\u001b[0mget\u001b[0m\u001b[0;34m(\u001b[0m\u001b[0myear_index\u001b[0m\u001b[0;34m)\u001b[0m\u001b[0;34m)\u001b[0m\u001b[0;34m\u001b[0m\u001b[0;34m\u001b[0m\u001b[0m\n\u001b[1;32m     43\u001b[0m         \u001b[0mlayer_name\u001b[0m \u001b[0;34m=\u001b[0m \u001b[0;34mf'District {district_index + 1} - Landcover {2001 + year_index * 4}-{2004 + year_index * 4}'\u001b[0m\u001b[0;34m\u001b[0m\u001b[0;34m\u001b[0m\u001b[0m\n\u001b[0;32m---> 44\u001b[0;31m         geemap.add_ee_layer(landcover_image.select(['LC_Type1']), {\n\u001b[0m\u001b[1;32m     45\u001b[0m             \u001b[0;34m'min'\u001b[0m\u001b[0;34m:\u001b[0m \u001b[0;36m0\u001b[0m\u001b[0;34m,\u001b[0m\u001b[0;34m\u001b[0m\u001b[0;34m\u001b[0m\u001b[0m\n\u001b[1;32m     46\u001b[0m             \u001b[0;34m'max'\u001b[0m\u001b[0;34m:\u001b[0m \u001b[0;36m17\u001b[0m\u001b[0;34m,\u001b[0m\u001b[0;34m\u001b[0m\u001b[0;34m\u001b[0m\u001b[0m\n",
      "\u001b[0;31mAttributeError\u001b[0m: module 'geemap' has no attribute 'add_ee_layer'"
     ]
    }
   ],
   "source": [
    "import ee\n",
    "import geemap\n",
    "\n",
    "# Authenticate and initialize Earth Engine\n",
    "# ee.Authenticate()\n",
    "# ee.Initialize()\n",
    "\n",
    "# Define the bounding box for the study area covering Delhi and surrounding districts\n",
    "study_area_bbox = ee.Geometry.BBox(76.5, 28.1, 77.7, 28.9)\n",
    "\n",
    "# Load MODIS land cover images for different years for the study area\n",
    "landcover = ee.ImageCollection('MODIS/006/MCD12Q1')\n",
    "\n",
    "# Define the districts surrounding Delhi (Modify this list based on the actual districts)\n",
    "districts = [\n",
    "    ee.Geometry.BBox(long_min, lat_min, long_max, lat_max) for (long_min, lat_min, long_max, lat_max) in [\n",
    "        (77.05, 28.4, 77.25, 28.6),  # District 1\n",
    "        (77.25, 28.4, 77.45, 28.6),  # District 2\n",
    "        # Add more districts as needed\n",
    "    ]\n",
    "]\n",
    "\n",
    "# Create an image collection of MODIS land cover images for each district and each year\n",
    "landcover_collections = []\n",
    "\n",
    "for district_geom in districts:\n",
    "    district_landcover_collection = []\n",
    "    \n",
    "    for year in range(2001, 2020, 4):\n",
    "        start_date = f'{year}-01-01'\n",
    "        end_date = f'{year + 3}-12-31'\n",
    "        \n",
    "        district_landcover = landcover.filterDate(start_date, end_date).mosaic().clip(district_geom)\n",
    "        district_landcover_collection.append(district_landcover)\n",
    "    \n",
    "    landcover_collections.append(ee.ImageCollection(district_landcover_collection))\n",
    "\n",
    "# Visualize land cover changes for each district and each year\n",
    "for district_index, district_geom in enumerate(districts):\n",
    "    for year_index in range(landcover_collections[district_index].size().getInfo()):\n",
    "        landcover_collection = landcover_collections[district_index].toList(landcover_collections[district_index].size())\n",
    "        landcover_image = ee.Image(landcover_collection.get(year_index))\n",
    "        layer_name = f'District {district_index + 1} - Landcover {2001 + year_index * 4}-{2004 + year_index * 4}'\n",
    "        geemap.add_ee_layer(landcover_image.select(['LC_Type1']), {\n",
    "            'min': 0,\n",
    "            'max': 17,\n",
    "            'palette': ['05450a', '086a10', '54a708', '78d203', '009900', 'c6b044', 'dcd159', 'dade48', 'fbff13', 'b6ff05',\n",
    "                        '27ff87', 'c24f44', 'a5a5a5', 'ff6d4c', '69fff8', 'f9ffa4', '1c0dff']\n",
    "        }, layer_name)\n",
    "\n",
    "# Display the map\n",
    "Map = geemap.Map()\n",
    "Map.centerObject(study_area_bbox, 8)\n",
    "Map.addLayerControl()\n",
    "Map\n"
   ]
  },
  {
   "cell_type": "markdown",
   "id": "0f6e4d60-66d1-4642-b7a4-1af4fc83c78b",
   "metadata": {},
   "source": [
    "# NDMI"
   ]
  },
  {
   "cell_type": "code",
   "execution_count": 6,
   "id": "22ef8f8e-cb6c-4c83-a45e-cbfec3418ba6",
   "metadata": {},
   "outputs": [],
   "source": [
    "# Function to calculate NDMI\n",
    "def calculate_ndmi(image):\n",
    "    ndmi = image.normalizedDifference(['B5', 'B6']).rename('NDMI')\n",
    "    return image.addBands(ndmi)\n",
    "\n",
    "# Calculate NDMI for New Delhi\n",
    "delhi_with_ndmi = calculate_ndmi(landsat_imagery.clip(delhi_feature.geometry()))\n",
    "\n",
    "# Calculate NDMI for surrounding administrative units\n",
    "surrounding_admin_with_ndmi = calculate_ndmi(landsat_imagery)\n",
    "\n",
    "# Add the NDMI layers to the map\n",
    "Map.addLayer(delhi_with_ndmi.select('NDMI'), {'min': -1, 'max': 1, 'palette': ['blue', 'white', 'green']}, 'NDMI New Delhi')\n",
    "Map.addLayer(surrounding_admin_with_ndmi.select('NDMI'), {'min': -1, 'max': 1, 'palette': ['blue', 'white', 'green']}, 'NDMI Surrounding Administrative Units')\n"
   ]
  },
  {
   "cell_type": "markdown",
   "id": "19623c1f-1945-4474-ab0b-30653a91f5a4",
   "metadata": {
    "tags": []
   },
   "source": [
    "## Tree Canopy"
   ]
  },
  {
   "cell_type": "code",
   "execution_count": 7,
   "id": "9d62722a-cd86-4734-a580-743d52d28995",
   "metadata": {},
   "outputs": [],
   "source": [
    "# Function to calculate tree canopy cover\n",
    "def calculate_tree_canopy(image):\n",
    "    # Calculate NDVI\n",
    "    ndvi = image.normalizedDifference(['B5', 'B4']).rename('NDVI')\n",
    "    \n",
    "    # Define a threshold for NDVI to identify vegetated areas (adjust as needed)\n",
    "    ndvi_threshold = 0.2\n",
    "    \n",
    "    # Create a binary image where 1 represents vegetated areas\n",
    "    canopy_cover = ndvi.gt(ndvi_threshold).rename('TreeCanopy')\n",
    "    \n",
    "    return image.addBands(canopy_cover)\n",
    "\n",
    "# Calculate tree canopy cover for New Delhi\n",
    "delhi_with_canopy = calculate_tree_canopy(landsat_imagery.clip(delhi_feature.geometry()))\n",
    "\n",
    "# Calculate tree canopy cover for surrounding administrative units\n",
    "surrounding_admin_with_canopy = calculate_tree_canopy(landsat_imagery)\n",
    "\n",
    "# Add the tree canopy cover layers to the map\n",
    "Map.addLayer(delhi_with_canopy.select('TreeCanopy'), {'min': 0, 'max': 1, 'palette': ['white', 'green']}, 'Tree Canopy Cover New Delhi')\n",
    "Map.addLayer(surrounding_admin_with_canopy.select('TreeCanopy'), {'min': 0, 'max': 1, 'palette': ['white', 'green']}, 'Tree Canopy Cover Surrounding Administrative Units')\n"
   ]
  },
  {
   "cell_type": "markdown",
   "id": "5b45a128-c7ea-4890-b83e-9307043a257a",
   "metadata": {
    "tags": []
   },
   "source": [
    "# Semi Natural and Riparian\n",
    "Set appropriate limits for Riparian and Semi Riparian land. Check literature. Change this according to requirement."
   ]
  },
  {
   "cell_type": "code",
   "execution_count": null,
   "id": "e8884511-98be-4a05-b780-6e0d352bd6ba",
   "metadata": {
    "tags": []
   },
   "outputs": [],
   "source": [
    "# Function to calculate semi-natural and riparian land cover\n",
    "def calculate_land_cover(image):\n",
    "    # Calculate NDVI\n",
    "    ndvi = image.normalizedDifference(['B5', 'B4']).rename('NDVI')\n",
    "    \n",
    "    # Define thresholds for NDVI to identify land cover types\n",
    "    semi_natural_threshold = 0.2  # Adjust as needed\n",
    "    riparian_threshold = 0.3      # Adjust as needed\n",
    "    \n",
    "    # Create binary images for semi-natural and riparian land cover\n",
    "    semi_natural = ndvi.gt(semi_natural_threshold).rename('SemiNatural')\n",
    "    riparian = ndvi.gt(riparian_threshold).rename('Riparian')\n",
    "    \n",
    "    return image.addBands([semi_natural, riparian])\n",
    "\n",
    "# Calculate land cover for New Delhi\n",
    "delhi_with_land_cover = calculate_land_cover(landsat_imagery.clip(delhi_feature.geometry()))\n",
    "\n",
    "# Calculate land cover for surrounding administrative units\n",
    "surrounding_admin_with_land_cover = calculate_land_cover(landsat_imagery)\n",
    "\n",
    "# Add the land cover layers to the map\n",
    "Map.addLayer(delhi_with_land_cover.select('SemiNatural'), {'palette': ['yellow']}, 'Semi-Natural Land Cover New Delhi')\n",
    "Map.addLayer(delhi_with_land_cover.select('Riparian'), {'palette': ['blue']}, 'Riparian Land Cover New Delhi')\n",
    "\n",
    "Map.addLayer(surrounding_admin_with_land_cover.select('SemiNatural'), {'palette': ['yellow']}, 'Semi-Natural Land Cover Surrounding Administrative Units')\n",
    "Map.addLayer(surrounding_admin_with_land_cover.select('Riparian'), {'palette': ['blue']}, 'Riparian Land Cover Surrounding Administrative Units')\n"
   ]
  },
  {
   "cell_type": "code",
   "execution_count": null,
   "id": "b0e43142-63d3-44e3-94a2-c6596c643734",
   "metadata": {},
   "outputs": [
    {
     "data": {
      "application/vnd.jupyter.widget-view+json": {
       "model_id": "",
       "version_major": 2,
       "version_minor": 0
      },
      "text/plain": [
       "Map(bottom=2006.0, center=[28.767659105691255, 88.681640625], controls=(WidgetControl(options=['position', 'tr…"
      ]
     },
     "execution_count": 31,
     "metadata": {},
     "output_type": "execute_result"
    }
   ],
   "source": [
    "Map\n"
   ]
  },
  {
   "cell_type": "markdown",
   "id": "3e572b08-b8b1-40d7-8e77-96d904747693",
   "metadata": {},
   "source": [
    "# Calculate Plant Evapotransportation"
   ]
  },
  {
   "cell_type": "markdown",
   "id": "d3ad3507-f879-4f6f-b56a-9178fd6460cc",
   "metadata": {},
   "source": [
    "# Calculate AQI for regions you selected"
   ]
  },
  {
   "cell_type": "markdown",
   "id": "349fb433-9fac-4d09-8930-ea3be6834223",
   "metadata": {},
   "source": [
    "# Calculating Ecosystem Condition Indicators\n",
    "Equation 1: Ecosystem Condition Indicator (ECI) Formula:\n",
    "\n",
    "$$\n",
    "ECI = \\frac{V - VL}{VH - VL}\n",
    "$$\n",
    "Where:\n",
    "\n",
    "ECI represents the Ecosystem Condition Indicator.<br>\n",
    "`V` denotes the measured or observed value of the variable.<br>\n",
    "`VH` stands for the high condition value for the variable (upper reference level).<br>\n",
    "`VL` represents the low condition value (lower reference level).\n",
    "<br>\n",
    "\n",
    "1. Calculate the timeseries data for all these layers"
   ]
  },
  {
   "cell_type": "code",
   "execution_count": null,
   "id": "575adabd-ae70-4d43-b0bb-c75bd26c2741",
   "metadata": {},
   "outputs": [],
   "source": [
    "import ee\n",
    "import geemap\n",
    "import datetime\n",
    "\n",
    "# Initialize Earth Engine\n",
    "ee.Initialize()\n",
    "\n",
    "# Define the FAO/GAUL administrative units dataset\n",
    "dataset = ee.FeatureCollection('FAO/GAUL/2015/level2')\n",
    "\n",
    "# Define a region of interest (ROI) for India\n",
    "india_roi = ee.Geometry.Polygon(\n",
    "    [[[\n",
    "      68.11137880340998, 7.96553484576015],\n",
    "      [88.3927306205192, 7.96553484576015],\n",
    "      [88.3927306205192, 35.67459030295267],\n",
    "      [68.11137880340998, 35.67459030295267],\n",
    "      [68.11137880340998, 7.96553484576015]\n",
    "    ]]\n",
    ")\n",
    "\n",
    "# Filter the administrative units dataset to select India\n",
    "india_dataset = dataset.filterBounds(india_roi)\n",
    "\n",
    "# Define a region of interest (ROI) for New Delhi\n",
    "delhi_roi = ee.Geometry.Point(77.216721, 28.613939)\n",
    "\n",
    "# Filter the India dataset to select New Delhi\n",
    "delhi_feature = india_dataset.filterBounds(delhi_roi)\n",
    "\n",
    "# Create a Map\n",
    "Map = geemap.Map()\n",
    "Map.centerObject(india_roi, 5)  # Center the map on India\n",
    "\n",
    "# Add a layer for New Delhi\n",
    "Map.addLayer(delhi_feature, {'color': 'FF0000'}, 'New Delhi')\n",
    "\n",
    "# Buffer New Delhi and filter surrounding administrative units\n",
    "buffered_delhi = delhi_feature.geometry().buffer(0.1)  # Adjust the buffer distance as needed\n",
    "surrounding_admin_units = india_dataset.filterBounds(buffered_delhi)\n",
    "\n",
    "# Add a layer for surrounding administrative units\n",
    "Map.addLayer(surrounding_admin_units, {'color': 'Yellow'}, 'Surrounding Administrative Units')\n",
    "\n",
    "# Function to calculate NDVI\n",
    "def calculate_ndvi(image):\n",
    "    ndvi = image.normalizedDifference(['B4', 'B3']).rename('NDVI')\n",
    "    return image.addBands(ndvi)\n",
    "\n",
    "# Function to get Landsat imagery for a given region\n",
    "def get_landsat_imagery(region, start_date, end_date, sensor):\n",
    "    if sensor == 'L5':\n",
    "        landsat = ee.ImageCollection(\"LANDSAT/LT05/C01/T1_SR\") \\\n",
    "            .filterBounds(region) \\\n",
    "            .filterDate(start_date, end_date) \\\n",
    "            .sort(\"CLOUD_COVER\") \\\n",
    "            .mosaic()\n",
    "    elif sensor == 'L8':\n",
    "        landsat = ee.ImageCollection(\"LANDSAT/LC08/C01/T1_SR\") \\\n",
    "            .filterBounds(region) \\\n",
    "            .filterDate(start_date, end_date) \\\n",
    "            .sort(\"CLOUD_COVER\") \\\n",
    "            .mosaic()\n",
    "    return landsat\n",
    "\n",
    "# Define the time range for Landsat imagery\n",
    "years = [2001, 2005, 2010, 2013, 2015, 2020]\n",
    "ndvi_layers = []\n",
    "\n",
    "for year in years:\n",
    "    start_date = datetime.datetime(year, 1, 1)\n",
    "    end_date = datetime.datetime(year, 12, 31)\n",
    "    \n",
    "    # Determine the Landsat sensor based on the year\n",
    "    sensor = 'L5' if year <= 2013 else 'L8'\n",
    "\n",
    "    # Get Landsat imagery for New Delhi and the surrounding administrative units\n",
    "    landsat_region = surrounding_admin_units.geometry().union(buffered_delhi)\n",
    "    landsat_imagery = get_landsat_imagery(landsat_region, start_date, end_date, sensor)\n",
    "\n",
    "    # Calculate NDVI for New Delhi\n",
    "    delhi_with_ndvi = calculate_ndvi(landsat_imagery.clip(delhi_feature.geometry()))\n",
    "\n",
    "    # Add the NDVI layer to the map\n",
    "    Map.addLayer(delhi_with_ndvi.select('NDVI'), {'min': -1, 'max': 1, 'palette': ['blue', 'white', 'green']}, f'NDVI New Delhi {year}')\n",
    "    \n",
    "    # Add the NDVI layer to the list for export\n",
    "    ndvi_layers.append(delhi_with_ndvi.select('NDVI'))\n",
    "\n",
    "# Combine the NDVI images for Delhi and surrounding administrative units\n",
    "combined_ndvi = ee.ImageCollection(ndvi_layers).mosaic().rename('NDVI_Combined')\n",
    "\n",
    "# Add the combined NDVI layer to the map\n",
    "Map.addLayer(combined_ndvi.select('NDVI_Combined'), {'min': -1, 'max': 1, 'palette': ['blue', 'white', 'green']}, 'NDVI Combined')\n",
    "\n",
    "# Add a layer control to the map to toggle between layers\n",
    "Map.addLayerControl()\n",
    "\n",
    "# Display the Map\n",
    "Map\n"
   ]
  },
  {
   "cell_type": "markdown",
   "id": "7ec46dd2-dadd-41ee-a633-3c7b0f813c25",
   "metadata": {},
   "source": [
    "# December 26, 2023"
   ]
  },
  {
   "cell_type": "code",
   "execution_count": null,
   "id": "cf13253c-d8cc-4afe-8edf-39d00ff863eb",
   "metadata": {},
   "outputs": [],
   "source": []
  }
 ],
 "metadata": {
  "kernelspec": {
   "display_name": "Python 3 (ipykernel)",
   "language": "python",
   "name": "python3"
  },
  "language_info": {
   "codemirror_mode": {
    "name": "ipython",
    "version": 3
   },
   "file_extension": ".py",
   "mimetype": "text/x-python",
   "name": "python",
   "nbconvert_exporter": "python",
   "pygments_lexer": "ipython3",
   "version": "3.8.2"
  },
  "widgets": {
   "application/vnd.jupyter.widget-state+json": {
    "state": {
     "02489af1bdde434980230a449bfc6a6b": {
      "model_module": "jupyter-leaflet",
      "model_module_version": "^0.17",
      "model_name": "LeafletDrawControlModel",
      "state": {
       "_model_module_version": "^0.17",
       "_view_module_version": "^0.17",
       "marker": {
        "shapeOptions": {
         "color": "#3388ff"
        }
       },
       "options": [
        "position"
       ],
       "rectangle": {
        "shapeOptions": {
         "color": "#3388ff"
        }
       }
      }
     },
     "039555d79dda41bf8fe6722cf860fd70": {
      "model_module": "jupyter-leaflet",
      "model_module_version": "^0.17",
      "model_name": "LeafletZoomControlModel",
      "state": {
       "_model_module_version": "^0.17",
       "_view_module_version": "^0.17",
       "options": [
        "position",
        "zoom_in_text",
        "zoom_in_title",
        "zoom_out_text",
        "zoom_out_title"
       ]
      }
     },
     "04706e91b4fd4630a00292fb96bed43d": {
      "model_module": "@jupyter-widgets/controls",
      "model_module_version": "2.0.0",
      "model_name": "ToggleButtonStyleModel",
      "state": {
       "description_width": "",
       "font_family": null,
       "font_size": null,
       "font_style": null,
       "font_variant": null,
       "font_weight": null,
       "text_color": null,
       "text_decoration": null
      }
     },
     "04e36d0434164d0391e43082dae3ed4b": {
      "model_module": "@jupyter-widgets/base",
      "model_module_version": "2.0.0",
      "model_name": "LayoutModel",
      "state": {
       "height": "auto",
       "padding": "0px 0px 0px 4px",
       "width": "auto"
      }
     },
     "06708f1c1f8a49e2856d320ee211d1c4": {
      "model_module": "@jupyter-widgets/controls",
      "model_module_version": "2.0.0",
      "model_name": "ToggleButtonStyleModel",
      "state": {
       "description_width": "",
       "font_family": null,
       "font_size": null,
       "font_style": null,
       "font_variant": null,
       "font_weight": null,
       "text_color": null,
       "text_decoration": null
      }
     },
     "07f4105eb0e24f77ad1834236dbd3c8b": {
      "model_module": "@jupyter-widgets/controls",
      "model_module_version": "2.0.0",
      "model_name": "ToggleButtonModel",
      "state": {
       "button_style": "primary",
       "icon": "info-circle",
       "layout": "IPY_MODEL_a61185ab056b4a978e0a1fc3345aee70",
       "style": "IPY_MODEL_2be3ded61e65483da97047988dfdf85d",
       "tooltip": "Get COG/STAC pixel value"
      }
     },
     "0ad862d715c64af7993da30fdba00bc0": {
      "model_module": "@jupyter-widgets/controls",
      "model_module_version": "2.0.0",
      "model_name": "ToggleButtonModel",
      "state": {
       "button_style": "primary",
       "icon": "folder-open",
       "layout": "IPY_MODEL_1ea8e82343af4aec9ff797141055a3fa",
       "style": "IPY_MODEL_873c3a7115ad4385ba7aa92ae4637efb",
       "tooltip": "Open local vector/raster data"
      }
     },
     "0d43d2bc70844cb19cc08604c08af98e": {
      "model_module": "@jupyter-widgets/controls",
      "model_module_version": "2.0.0",
      "model_name": "HBoxModel",
      "state": {
       "_view_count": 0,
       "children": [
        "IPY_MODEL_ec2115fd50664acc8043206897d05253"
       ],
       "layout": "IPY_MODEL_4881b6c0e54c4822bf5953663fdd0c34"
      }
     },
     "0f157ddb1eec4279a3515b6a9ce04be9": {
      "model_module": "@jupyter-widgets/controls",
      "model_module_version": "2.0.0",
      "model_name": "ToggleButtonStyleModel",
      "state": {
       "description_width": "",
       "font_family": null,
       "font_size": null,
       "font_style": null,
       "font_variant": null,
       "font_weight": null,
       "text_color": null,
       "text_decoration": null
      }
     },
     "0f5c6080d7214f8888feccd7d5e0b98c": {
      "model_module": "jupyter-leaflet",
      "model_module_version": "^0.17",
      "model_name": "LeafletTileLayerModel",
      "state": {
       "_model_module_version": "^0.17",
       "_view_module_version": "^0.17",
       "attribution": "Google Earth Engine",
       "max_zoom": 24,
       "name": "New Delhi",
       "options": [
        "attribution",
        "bounds",
        "detect_retina",
        "max_native_zoom",
        "max_zoom",
        "min_native_zoom",
        "min_zoom",
        "no_wrap",
        "tile_size",
        "tms",
        "zoom_offset"
       ],
       "url": "https://earthengine.googleapis.com/v1/projects/earthengine-legacy/maps/269bccabd644bcb24f7e6b1d10754a2c-9abc355a14722e32df7449f51d9b448e/tiles/{z}/{x}/{y}"
      }
     },
     "0fd137b4b9184a38b85c722a0802a915": {
      "model_module": "@jupyter-widgets/base",
      "model_module_version": "2.0.0",
      "model_name": "LayoutModel",
      "state": {}
     },
     "1353d76222f64310b23fdf8e03e26c6e": {
      "model_module": "jupyter-leaflet",
      "model_module_version": "^0.17",
      "model_name": "LeafletTileLayerModel",
      "state": {
       "_model_module_version": "^0.17",
       "_view_module_version": "^0.17",
       "attribution": "Google",
       "max_zoom": 24,
       "name": "Google Maps",
       "options": [
        "attribution",
        "bounds",
        "detect_retina",
        "max_native_zoom",
        "max_zoom",
        "min_native_zoom",
        "min_zoom",
        "no_wrap",
        "tile_size",
        "tms",
        "zoom_offset"
       ],
       "url": "https://mt1.google.com/vt/lyrs=m&x={x}&y={y}&z={z}"
      }
     },
     "149080f7dfe34b8b92290316506080fe": {
      "model_module": "@jupyter-widgets/controls",
      "model_module_version": "2.0.0",
      "model_name": "HBoxModel",
      "state": {
       "children": [
        "IPY_MODEL_5fb8a7a2cebe403d8fa8a331d79fe444",
        "IPY_MODEL_cb84a479c14745849dc0323e86ff3cbc"
       ],
       "layout": "IPY_MODEL_9807ad93d7d34298a3d4c6d90891590e"
      }
     },
     "154428225f6a47f49a8a65b360ef35f7": {
      "model_module": "@jupyter-widgets/controls",
      "model_module_version": "2.0.0",
      "model_name": "HTMLStyleModel",
      "state": {
       "description_width": "",
       "font_size": null,
       "text_color": null
      }
     },
     "1a54bc5f4bf648299282ce9e5c11f3da": {
      "model_module": "jupyter-leaflet",
      "model_module_version": "^0.17",
      "model_name": "LeafletAttributionControlModel",
      "state": {
       "_model_module_version": "^0.17",
       "_view_module_version": "^0.17",
       "options": [
        "position",
        "prefix"
       ],
       "position": "bottomright",
       "prefix": "ipyleaflet"
      }
     },
     "1acb09085bf24cb2af7ff2babf448c4d": {
      "model_module": "@jupyter-widgets/base",
      "model_module_version": "2.0.0",
      "model_name": "LayoutModel",
      "state": {
       "height": "auto",
       "padding": "0px 0px 0px 4px",
       "width": "auto"
      }
     },
     "1acf6318215948329c19d91c6303809f": {
      "model_module": "@jupyter-widgets/controls",
      "model_module_version": "2.0.0",
      "model_name": "ToggleButtonModel",
      "state": {
       "button_style": "primary",
       "icon": "adjust",
       "layout": "IPY_MODEL_363c7027381544c2943618e2b8e30100",
       "style": "IPY_MODEL_df70e8438dbf48e78b07f8f288410ab6",
       "tooltip": "Planet imagery"
      }
     },
     "1ea8e82343af4aec9ff797141055a3fa": {
      "model_module": "@jupyter-widgets/base",
      "model_module_version": "2.0.0",
      "model_name": "LayoutModel",
      "state": {
       "height": "auto",
       "padding": "0px 0px 0px 4px",
       "width": "auto"
      }
     },
     "1f9003f3724d4c48a394dd9820929dc3": {
      "model_module": "@jupyter-widgets/controls",
      "model_module_version": "2.0.0",
      "model_name": "VBoxModel",
      "state": {
       "_view_count": 0,
       "children": [
        "IPY_MODEL_cb84a479c14745849dc0323e86ff3cbc"
       ],
       "layout": "IPY_MODEL_7f78294374a046d094ef15644dcc34ce"
      }
     },
     "276bf1a171ef43b98ba1eccd82b8295f": {
      "model_module": "@jupyter-widgets/controls",
      "model_module_version": "2.0.0",
      "model_name": "ToggleButtonModel",
      "state": {
       "button_style": "primary",
       "icon": "info",
       "layout": "IPY_MODEL_dfe36907f064400b93e3d4f52abf2f64",
       "style": "IPY_MODEL_b73f97175c154c37964aedfd4d8ed2d0",
       "tooltip": "Inspector"
      }
     },
     "2ae80e8b72df4decbbef66997d2cda26": {
      "model_module": "jupyter-leaflet",
      "model_module_version": "^0.17",
      "model_name": "LeafletMapModel",
      "state": {
       "_model_module_version": "^0.17",
       "_view_module_version": "^0.17",
       "center": [
        21.64546673291641,
        78.25205471196459
       ],
       "controls": [
        "IPY_MODEL_33426cc2509d4d2d81b0dff63728fa1b",
        "IPY_MODEL_7e1daf6c8e5f479ab29163a175948ad9",
        "IPY_MODEL_c78213ea49b542a49bef56ef929ea378",
        "IPY_MODEL_02489af1bdde434980230a449bfc6a6b",
        "IPY_MODEL_ad9608c872b543c8acfa48a40ada9393",
        "IPY_MODEL_e9dc049f1e8e4043ac974442719cce90",
        "IPY_MODEL_7205a9b91a5b4756b1ea9ecf53ec0479",
        "IPY_MODEL_90fbf8d41f294e45a6ba573f9c6f8b40"
       ],
       "default_style": "IPY_MODEL_47029840119c4e8ebce75b58bc9f1640",
       "dragging_style": "IPY_MODEL_a429079493ac456b980a6cdfc42e93d5",
       "fullscreen": false,
       "interpolation": "bilinear",
       "layers": [
        "IPY_MODEL_53a991ef127742119bd3c464adc5deeb",
        "IPY_MODEL_1353d76222f64310b23fdf8e03e26c6e",
        "IPY_MODEL_0f5c6080d7214f8888feccd7d5e0b98c",
        "IPY_MODEL_de5beafd3acc423cbcb53c8c4576974e",
        "IPY_MODEL_38bbdeeb8cdc4d8bba28231f9b446987"
       ],
       "layout": "IPY_MODEL_6fe52fb297f4407e920f34ca069873d1",
       "max_zoom": 24,
       "modisdate": "2023-12-25",
       "options": [
        "bounce_at_zoom_limits",
        "box_zoom",
        "center",
        "close_popup_on_click",
        "double_click_zoom",
        "dragging",
        "fullscreen",
        "inertia",
        "inertia_deceleration",
        "inertia_max_speed",
        "interpolation",
        "keyboard",
        "keyboard_pan_offset",
        "keyboard_zoom_offset",
        "max_zoom",
        "min_zoom",
        "prefer_canvas",
        "scroll_wheel_zoom",
        "tap",
        "tap_tolerance",
        "touch_zoom",
        "world_copy_jump",
        "zoom",
        "zoom_animation_threshold",
        "zoom_delta",
        "zoom_snap"
       ],
       "prefer_canvas": false,
       "scroll_wheel_zoom": true,
       "style": "IPY_MODEL_4172b636d94c425f9d5db90b636f9113",
       "window_url": "http://localhost:8888/lab",
       "zoom": 5
      }
     },
     "2be3ded61e65483da97047988dfdf85d": {
      "model_module": "@jupyter-widgets/controls",
      "model_module_version": "2.0.0",
      "model_name": "ToggleButtonStyleModel",
      "state": {
       "description_width": "",
       "font_family": null,
       "font_size": null,
       "font_style": null,
       "font_variant": null,
       "font_weight": null,
       "text_color": null,
       "text_decoration": null
      }
     },
     "2f6720cc486946958b33653fd8d5a241": {
      "model_module": "@jupyter-widgets/controls",
      "model_module_version": "2.0.0",
      "model_name": "ToggleButtonsModel",
      "state": {
       "_options_labels": [
        "name/address",
        "lat-lon",
        "data"
       ],
       "button_style": "",
       "icons": [],
       "index": 0,
       "layout": "IPY_MODEL_327407eced434cb3b0212623b3b20a58",
       "style": "IPY_MODEL_9e163dfa16d544758d4207c837e41ec7",
       "tooltips": [
        "Search by place name or address",
        "Search by lat-lon coordinates",
        "Search Earth Engine data catalog"
       ]
      }
     },
     "303f3a5ef9894e38a4b316298953fb7f": {
      "model_module": "@jupyter-widgets/controls",
      "model_module_version": "2.0.0",
      "model_name": "ToggleButtonStyleModel",
      "state": {
       "description_width": "",
       "font_family": null,
       "font_size": null,
       "font_style": null,
       "font_variant": null,
       "font_weight": null,
       "text_color": null,
       "text_decoration": null
      }
     },
     "30a4126df4374e11b32dddb6aaaedfd2": {
      "model_module": "@jupyter-widgets/controls",
      "model_module_version": "2.0.0",
      "model_name": "VBoxModel",
      "state": {
       "children": [
        "IPY_MODEL_2f6720cc486946958b33653fd8d5a241",
        "IPY_MODEL_f682686552704eb7ad1d2ad3099851fe"
       ],
       "layout": "IPY_MODEL_8dc5c4a4760a4edd8a73f8845b263531"
      }
     },
     "327407eced434cb3b0212623b3b20a58": {
      "model_module": "@jupyter-widgets/base",
      "model_module_version": "2.0.0",
      "model_name": "LayoutModel",
      "state": {}
     },
     "33426cc2509d4d2d81b0dff63728fa1b": {
      "model_module": "jupyter-leaflet",
      "model_module_version": "^0.17",
      "model_name": "LeafletWidgetControlModel",
      "state": {
       "_model_module": "jupyter-leaflet",
       "_model_module_version": "^0.17",
       "_view_count": null,
       "_view_module": "jupyter-leaflet",
       "_view_module_version": "^0.17",
       "options": [
        "position",
        "transparent_bg"
       ],
       "position": "topleft",
       "widget": "IPY_MODEL_0d43d2bc70844cb19cc08604c08af98e"
      }
     },
     "363c7027381544c2943618e2b8e30100": {
      "model_module": "@jupyter-widgets/base",
      "model_module_version": "2.0.0",
      "model_name": "LayoutModel",
      "state": {
       "height": "auto",
       "padding": "0px 0px 0px 4px",
       "width": "auto"
      }
     },
     "3792890646d14541ad8b0e402669391d": {
      "model_module": "@jupyter-widgets/base",
      "model_module_version": "2.0.0",
      "model_name": "LayoutModel",
      "state": {
       "height": "auto",
       "padding": "0px 0px 0px 4px",
       "width": "auto"
      }
     },
     "38a602ef205e4a47a5998681e29cd535": {
      "model_module": "@jupyter-widgets/controls",
      "model_module_version": "2.0.0",
      "model_name": "ToggleButtonModel",
      "state": {
       "button_style": "primary",
       "icon": "random",
       "layout": "IPY_MODEL_f011a40589434cda8f2c3ff415e0c9e4",
       "style": "IPY_MODEL_d9ec2bf7c332450995875e38694efcbe",
       "tooltip": "Sankey plots"
      }
     },
     "38bbdeeb8cdc4d8bba28231f9b446987": {
      "model_module": "jupyter-leaflet",
      "model_module_version": "^0.17",
      "model_name": "LeafletTileLayerModel",
      "state": {
       "_model_module_version": "^0.17",
       "_view_module_version": "^0.17",
       "attribution": "Google Earth Engine",
       "max_zoom": 24,
       "name": "NDVI New Delhi 2001",
       "options": [
        "attribution",
        "bounds",
        "detect_retina",
        "max_native_zoom",
        "max_zoom",
        "min_native_zoom",
        "min_zoom",
        "no_wrap",
        "tile_size",
        "tms",
        "zoom_offset"
       ],
       "url": "https://earthengine.googleapis.com/v1/projects/earthengine-legacy/maps/fd45ff689a7135168bde8ef30e4cf9fa-46f779be5bcb2ae5b353462dea721628/tiles/{z}/{x}/{y}"
      }
     },
     "38e48767685b4365be1d9bfa93ce6f28": {
      "model_module": "@jupyter-widgets/controls",
      "model_module_version": "2.0.0",
      "model_name": "DescriptionStyleModel",
      "state": {
       "description_width": ""
      }
     },
     "3edfaba3f0624ffcac9fc58135b14214": {
      "model_module": "@jupyter-widgets/controls",
      "model_module_version": "2.0.0",
      "model_name": "ButtonStyleModel",
      "state": {
       "font_family": null,
       "font_size": null,
       "font_style": null,
       "font_variant": null,
       "font_weight": null,
       "text_color": null,
       "text_decoration": null
      }
     },
     "4172b636d94c425f9d5db90b636f9113": {
      "model_module": "jupyter-leaflet",
      "model_module_version": "^0.17",
      "model_name": "LeafletMapStyleModel",
      "state": {
       "_model_module_version": "^0.17"
      }
     },
     "447f5066324249c48ba0292462f0d5ff": {
      "model_module": "@jupyter-widgets/controls",
      "model_module_version": "2.0.0",
      "model_name": "HBoxModel",
      "state": {
       "children": [
        "IPY_MODEL_54bed3b94ef846d6a91fc0d6293e2ed7",
        "IPY_MODEL_86fc44577d3c445e9b36e578bfe39bd5"
       ],
       "layout": "IPY_MODEL_0fd137b4b9184a38b85c722a0802a915"
      }
     },
     "4517456b450c4c4eb0a02bda68287aed": {
      "model_module": "@jupyter-widgets/controls",
      "model_module_version": "2.0.0",
      "model_name": "ToggleButtonStyleModel",
      "state": {
       "description_width": "",
       "font_family": null,
       "font_size": null,
       "font_style": null,
       "font_variant": null,
       "font_weight": null,
       "text_color": null,
       "text_decoration": null
      }
     },
     "453eb64cc06a4389a8f71e269369cbf0": {
      "model_module": "@jupyter-widgets/controls",
      "model_module_version": "2.0.0",
      "model_name": "ToggleButtonModel",
      "state": {
       "button_style": "primary",
       "icon": "globe",
       "layout": "IPY_MODEL_1acb09085bf24cb2af7ff2babf448c4d",
       "style": "IPY_MODEL_0f157ddb1eec4279a3515b6a9ce04be9",
       "tooltip": "Create timelapse"
      }
     },
     "47029840119c4e8ebce75b58bc9f1640": {
      "model_module": "jupyter-leaflet",
      "model_module_version": "^0.17",
      "model_name": "LeafletMapStyleModel",
      "state": {
       "_model_module_version": "^0.17"
      }
     },
     "4881b6c0e54c4822bf5953663fdd0c34": {
      "model_module": "@jupyter-widgets/base",
      "model_module_version": "2.0.0",
      "model_name": "LayoutModel",
      "state": {}
     },
     "49669df8703044f6b72675282cfab65c": {
      "model_module": "@jupyter-widgets/base",
      "model_module_version": "2.0.0",
      "model_name": "LayoutModel",
      "state": {
       "height": "auto",
       "padding": "0px 0px 0px 4px",
       "width": "auto"
      }
     },
     "49dffc94a0dc4033801540ad73455ac2": {
      "model_module": "@jupyter-widgets/base",
      "model_module_version": "2.0.0",
      "model_name": "LayoutModel",
      "state": {
       "width": "500px"
      }
     },
     "4a5bdfb4fc3a4d9ba89f4ecf0446abc2": {
      "model_module": "@jupyter-widgets/controls",
      "model_module_version": "2.0.0",
      "model_name": "ToggleButtonModel",
      "state": {
       "button_style": "primary",
       "icon": "fast-forward",
       "layout": "IPY_MODEL_e211021e016a48b7a4fea4bde0a13a91",
       "style": "IPY_MODEL_5f61cd5fdd4d43ad848c3a61701127a8",
       "tooltip": "Activate timeslider"
      }
     },
     "5260efc570384eb09975215961ec559a": {
      "model_module": "@jupyter-widgets/controls",
      "model_module_version": "2.0.0",
      "model_name": "ToggleButtonModel",
      "state": {
       "button_style": "primary",
       "icon": "map",
       "layout": "IPY_MODEL_c8505884838d40b09d0538e971e5245b",
       "style": "IPY_MODEL_4517456b450c4c4eb0a02bda68287aed",
       "tooltip": "Change basemap"
      }
     },
     "53a991ef127742119bd3c464adc5deeb": {
      "model_module": "jupyter-leaflet",
      "model_module_version": "^0.17",
      "model_name": "LeafletTileLayerModel",
      "state": {
       "_model_module_version": "^0.17",
       "_view_module_version": "^0.17",
       "attribution": "&copy; <a href=\"https://www.openstreetmap.org/copyright\">OpenStreetMap</a> contributors",
       "base": true,
       "max_zoom": 19,
       "min_zoom": 1,
       "name": "OpenStreetMap.Mapnik",
       "options": [
        "attribution",
        "bounds",
        "detect_retina",
        "max_native_zoom",
        "max_zoom",
        "min_native_zoom",
        "min_zoom",
        "no_wrap",
        "tile_size",
        "tms",
        "zoom_offset"
       ],
       "url": "https://tile.openstreetmap.org/{z}/{x}/{y}.png"
      }
     },
     "54bed3b94ef846d6a91fc0d6293e2ed7": {
      "model_module": "@jupyter-widgets/controls",
      "model_module_version": "2.0.0",
      "model_name": "ButtonModel",
      "state": {
       "button_style": "primary",
       "description": "import",
       "layout": "IPY_MODEL_963c2a8d53934d7fa51d180f2918de3a",
       "style": "IPY_MODEL_3edfaba3f0624ffcac9fc58135b14214",
       "tooltip": "Click to import the selected asset"
      }
     },
     "57bb6112c78b479da2d8a91888f72021": {
      "model_module": "@jupyter-widgets/controls",
      "model_module_version": "2.0.0",
      "model_name": "ToggleButtonStyleModel",
      "state": {
       "description_width": "",
       "font_family": null,
       "font_size": null,
       "font_style": null,
       "font_variant": null,
       "font_weight": null,
       "text_color": null,
       "text_decoration": null
      }
     },
     "5898aedbfb3840c491437e92f7941fd5": {
      "model_module": "@jupyter-widgets/controls",
      "model_module_version": "2.0.0",
      "model_name": "TextStyleModel",
      "state": {
       "description_width": "",
       "font_size": null,
       "text_color": null
      }
     },
     "5a0a844e85f8422c96e720ae8a1f27ea": {
      "model_module": "@jupyter-widgets/base",
      "model_module_version": "2.0.0",
      "model_name": "LayoutModel",
      "state": {
       "height": "28px",
       "width": "72px"
      }
     },
     "5d29657b64004ac0b4783bbd6cad33c3": {
      "model_module": "@jupyter-widgets/controls",
      "model_module_version": "2.0.0",
      "model_name": "ToggleButtonModel",
      "state": {
       "button_style": "primary",
       "icon": "line-chart",
       "layout": "IPY_MODEL_abf9459578bb4ee9b05efdc362aa5172",
       "style": "IPY_MODEL_a1841530b46640ac97dcc419aa23d2c4",
       "tooltip": "Creating and plotting transects"
      }
     },
     "5f61cd5fdd4d43ad848c3a61701127a8": {
      "model_module": "@jupyter-widgets/controls",
      "model_module_version": "2.0.0",
      "model_name": "ToggleButtonStyleModel",
      "state": {
       "description_width": "",
       "font_family": null,
       "font_size": null,
       "font_style": null,
       "font_variant": null,
       "font_weight": null,
       "text_color": null,
       "text_decoration": null
      }
     },
     "5fb8a7a2cebe403d8fa8a331d79fe444": {
      "model_module": "@jupyter-widgets/controls",
      "model_module_version": "2.0.0",
      "model_name": "ToggleButtonModel",
      "state": {
       "icon": "server",
       "layout": "IPY_MODEL_5a0a844e85f8422c96e720ae8a1f27ea",
       "style": "IPY_MODEL_303f3a5ef9894e38a4b316298953fb7f",
       "tooltip": "Layers"
      }
     },
     "667289c0e9514ffa814329b2658a17ad": {
      "model_module": "@jupyter-widgets/base",
      "model_module_version": "2.0.0",
      "model_name": "LayoutModel",
      "state": {
       "height": "auto",
       "padding": "0px 0px 0px 4px",
       "width": "auto"
      }
     },
     "66bf995e19d840e8bc7ce168404d3176": {
      "model_module": "@jupyter-widgets/controls",
      "model_module_version": "2.0.0",
      "model_name": "ToggleButtonModel",
      "state": {
       "button_style": "primary",
       "icon": "eraser",
       "layout": "IPY_MODEL_04e36d0434164d0391e43082dae3ed4b",
       "style": "IPY_MODEL_c13b0174d4ce4439a727092bf8ac37d1",
       "tooltip": "Remove all drawn features"
      }
     },
     "6fe52fb297f4407e920f34ca069873d1": {
      "model_module": "@jupyter-widgets/base",
      "model_module_version": "2.0.0",
      "model_name": "LayoutModel",
      "state": {
       "height": "600px"
      }
     },
     "7205a9b91a5b4756b1ea9ecf53ec0479": {
      "model_module": "jupyter-leaflet",
      "model_module_version": "^0.17",
      "model_name": "LeafletWidgetControlModel",
      "state": {
       "_model_module": "jupyter-leaflet",
       "_model_module_version": "^0.17",
       "_view_count": null,
       "_view_module": "jupyter-leaflet",
       "_view_module_version": "^0.17",
       "options": [
        "position",
        "transparent_bg"
       ],
       "position": "topright",
       "widget": "IPY_MODEL_1f9003f3724d4c48a394dd9820929dc3"
      }
     },
     "7e1daf6c8e5f479ab29163a175948ad9": {
      "model_module": "jupyter-leaflet",
      "model_module_version": "^0.17",
      "model_name": "LeafletZoomControlModel",
      "state": {
       "_model_module_version": "^0.17",
       "_view_module_version": "^0.17",
       "options": [
        "position",
        "zoom_in_text",
        "zoom_in_title",
        "zoom_out_text",
        "zoom_out_title"
       ]
      }
     },
     "7f221cfb2e3340d19aaf6b0d8bda94dc": {
      "model_module": "@jupyter-widgets/base",
      "model_module_version": "2.0.0",
      "model_name": "LayoutModel",
      "state": {}
     },
     "7f462d5ec3ae4fb094a820624705394a": {
      "model_module": "@jupyter-widgets/controls",
      "model_module_version": "2.0.0",
      "model_name": "HTMLModel",
      "state": {
       "layout": "IPY_MODEL_7f221cfb2e3340d19aaf6b0d8bda94dc",
       "style": "IPY_MODEL_154428225f6a47f49a8a65b360ef35f7"
      }
     },
     "7f78294374a046d094ef15644dcc34ce": {
      "model_module": "@jupyter-widgets/base",
      "model_module_version": "2.0.0",
      "model_name": "LayoutModel",
      "state": {}
     },
     "82706f63ac514d5cbcb2c82c5bbcde20": {
      "model_module": "@jupyter-widgets/base",
      "model_module_version": "2.0.0",
      "model_name": "LayoutModel",
      "state": {}
     },
     "86fc44577d3c445e9b36e578bfe39bd5": {
      "model_module": "@jupyter-widgets/controls",
      "model_module_version": "2.0.0",
      "model_name": "DropdownModel",
      "state": {
       "index": null,
       "layout": "IPY_MODEL_adcec678e255412a919906bf7bff9443",
       "style": "IPY_MODEL_38e48767685b4365be1d9bfa93ce6f28"
      }
     },
     "873c3a7115ad4385ba7aa92ae4637efb": {
      "model_module": "@jupyter-widgets/controls",
      "model_module_version": "2.0.0",
      "model_name": "ToggleButtonStyleModel",
      "state": {
       "description_width": "",
       "font_family": null,
       "font_size": null,
       "font_style": null,
       "font_variant": null,
       "font_weight": null,
       "text_color": null,
       "text_decoration": null
      }
     },
     "890359d7285e40748f03e1c56afe61d1": {
      "model_module": "@jupyter-widgets/controls",
      "model_module_version": "2.0.0",
      "model_name": "ToggleButtonModel",
      "state": {
       "button_style": "primary",
       "icon": "bar-chart",
       "layout": "IPY_MODEL_667289c0e9514ffa814329b2658a17ad",
       "style": "IPY_MODEL_04706e91b4fd4630a00292fb96bed43d",
       "tooltip": "Plotting"
      }
     },
     "8dc5c4a4760a4edd8a73f8845b263531": {
      "model_module": "@jupyter-widgets/base",
      "model_module_version": "2.0.0",
      "model_name": "LayoutModel",
      "state": {}
     },
     "8f61ecd9806144f3abb474de2bb5c1ba": {
      "model_module": "@jupyter-widgets/controls",
      "model_module_version": "2.0.0",
      "model_name": "ToggleButtonModel",
      "state": {
       "button_style": "primary",
       "icon": "hand-o-up",
       "layout": "IPY_MODEL_9c9c921fd05d4a56b0c71afffaf91721",
       "style": "IPY_MODEL_f8db6f1cc54e4b08943a4d7f9e85622c",
       "tooltip": "Collect training samples"
      }
     },
     "90fbf8d41f294e45a6ba573f9c6f8b40": {
      "model_module": "jupyter-leaflet",
      "model_module_version": "^0.17",
      "model_name": "LeafletAttributionControlModel",
      "state": {
       "_model_module_version": "^0.17",
       "_view_module_version": "^0.17",
       "options": [
        "position",
        "prefix"
       ],
       "position": "bottomright",
       "prefix": "ipyleaflet"
      }
     },
     "933f2854e6d14a58b4b268f8a2f6924f": {
      "model_module": "ipyevents",
      "model_module_version": "2.0.1",
      "model_name": "EventModel",
      "state": {
       "_supported_key_events": [
        "keydown",
        "keyup"
       ],
       "_supported_mouse_events": [
        "click",
        "auxclick",
        "dblclick",
        "mouseenter",
        "mouseleave",
        "mousedown",
        "mouseup",
        "mousemove",
        "wheel",
        "contextmenu",
        "dragstart",
        "drag",
        "dragend",
        "dragenter",
        "dragover",
        "dragleave",
        "drop"
       ],
       "_supported_touch_events": [
        "touchstart",
        "touchend",
        "touchmove",
        "touchcancel"
       ],
       "_view_module": "@jupyter-widgets/controls",
       "source": "IPY_MODEL_1f9003f3724d4c48a394dd9820929dc3",
       "throttle_or_debounce": "",
       "watched_events": [
        "mouseenter",
        "mouseleave"
       ],
       "xy_coordinate_system": ""
      }
     },
     "963c2a8d53934d7fa51d180f2918de3a": {
      "model_module": "@jupyter-widgets/base",
      "model_module_version": "2.0.0",
      "model_name": "LayoutModel",
      "state": {
       "max_width": "57px",
       "min_width": "57px"
      }
     },
     "9807ad93d7d34298a3d4c6d90891590e": {
      "model_module": "@jupyter-widgets/base",
      "model_module_version": "2.0.0",
      "model_name": "LayoutModel",
      "state": {}
     },
     "9babad48c2bf488a8dfae0abaa8a33f4": {
      "model_module": "@jupyter-widgets/base",
      "model_module_version": "2.0.0",
      "model_name": "LayoutModel",
      "state": {
       "height": "28px",
       "padding": "0px 0px 0px 4px",
       "width": "28px"
      }
     },
     "9c9c921fd05d4a56b0c71afffaf91721": {
      "model_module": "@jupyter-widgets/base",
      "model_module_version": "2.0.0",
      "model_name": "LayoutModel",
      "state": {
       "height": "auto",
       "padding": "0px 0px 0px 4px",
       "width": "auto"
      }
     },
     "9e163dfa16d544758d4207c837e41ec7": {
      "model_module": "@jupyter-widgets/controls",
      "model_module_version": "2.0.0",
      "model_name": "ToggleButtonsStyleModel",
      "state": {
       "button_width": "110px",
       "description_width": ""
      }
     },
     "a1841530b46640ac97dcc419aa23d2c4": {
      "model_module": "@jupyter-widgets/controls",
      "model_module_version": "2.0.0",
      "model_name": "ToggleButtonStyleModel",
      "state": {
       "description_width": "",
       "font_family": null,
       "font_size": null,
       "font_style": null,
       "font_variant": null,
       "font_weight": null,
       "text_color": null,
       "text_decoration": null
      }
     },
     "a212db3bada54b14829673487ad5508a": {
      "model_module": "@jupyter-widgets/base",
      "model_module_version": "2.0.0",
      "model_name": "LayoutModel",
      "state": {
       "max_height": "350px",
       "max_width": "340px",
       "overflow": "scroll"
      }
     },
     "a429079493ac456b980a6cdfc42e93d5": {
      "model_module": "jupyter-leaflet",
      "model_module_version": "^0.17",
      "model_name": "LeafletMapStyleModel",
      "state": {
       "_model_module_version": "^0.17",
       "cursor": "move"
      }
     },
     "a61185ab056b4a978e0a1fc3345aee70": {
      "model_module": "@jupyter-widgets/base",
      "model_module_version": "2.0.0",
      "model_name": "LayoutModel",
      "state": {
       "height": "auto",
       "padding": "0px 0px 0px 4px",
       "width": "auto"
      }
     },
     "abf9459578bb4ee9b05efdc362aa5172": {
      "model_module": "@jupyter-widgets/base",
      "model_module_version": "2.0.0",
      "model_name": "LayoutModel",
      "state": {
       "height": "auto",
       "padding": "0px 0px 0px 4px",
       "width": "auto"
      }
     },
     "ad24d4a1a19c45d9871078690b61e24a": {
      "model_module": "@jupyter-widgets/controls",
      "model_module_version": "2.0.0",
      "model_name": "ToggleButtonModel",
      "state": {
       "button_style": "primary",
       "icon": "plus",
       "layout": "IPY_MODEL_49669df8703044f6b72675282cfab65c",
       "style": "IPY_MODEL_ead70a7eb3004d87b8f9064121eefbcc",
       "tooltip": "Expand toolbar"
      }
     },
     "ad9608c872b543c8acfa48a40ada9393": {
      "model_module": "jupyter-leaflet",
      "model_module_version": "^0.17",
      "model_name": "LeafletScaleControlModel",
      "state": {
       "_model_module_version": "^0.17",
       "_view_module_version": "^0.17",
       "imperial": true,
       "max_width": 100,
       "metric": true,
       "options": [
        "imperial",
        "max_width",
        "metric",
        "position",
        "update_when_idle"
       ],
       "position": "bottomleft",
       "update_when_idle": false
      }
     },
     "adcec678e255412a919906bf7bff9443": {
      "model_module": "@jupyter-widgets/base",
      "model_module_version": "2.0.0",
      "model_name": "LayoutModel",
      "state": {
       "max_width": "279px",
       "min_width": "279px"
      }
     },
     "b73f97175c154c37964aedfd4d8ed2d0": {
      "model_module": "@jupyter-widgets/controls",
      "model_module_version": "2.0.0",
      "model_name": "ToggleButtonStyleModel",
      "state": {
       "description_width": "",
       "font_family": null,
       "font_size": null,
       "font_style": null,
       "font_variant": null,
       "font_weight": null,
       "text_color": null,
       "text_decoration": null
      }
     },
     "b882679b494b4190939e40713b98fa76": {
      "model_module": "@jupyter-widgets/controls",
      "model_module_version": "2.0.0",
      "model_name": "ToggleButtonModel",
      "state": {
       "button_style": "primary",
       "icon": "retweet",
       "layout": "IPY_MODEL_3792890646d14541ad8b0e402669391d",
       "style": "IPY_MODEL_f3f6392007734995b4e91a2d0b61fbef",
       "tooltip": "Convert Earth Engine JavaScript to Python"
      }
     },
     "bac4f100c9ff4e249abd1e49792fb580": {
      "model_module": "ipyevents",
      "model_module_version": "2.0.1",
      "model_name": "EventModel",
      "state": {
       "_supported_key_events": [
        "keydown",
        "keyup"
       ],
       "_supported_mouse_events": [
        "click",
        "auxclick",
        "dblclick",
        "mouseenter",
        "mouseleave",
        "mousedown",
        "mouseup",
        "mousemove",
        "wheel",
        "contextmenu",
        "dragstart",
        "drag",
        "dragend",
        "dragenter",
        "dragover",
        "dragleave",
        "drop"
       ],
       "_supported_touch_events": [
        "touchstart",
        "touchend",
        "touchmove",
        "touchcancel"
       ],
       "_view_module": "@jupyter-widgets/controls",
       "source": "IPY_MODEL_0d43d2bc70844cb19cc08604c08af98e",
       "throttle_or_debounce": "",
       "watched_events": [
        "mouseenter",
        "mouseleave"
       ],
       "xy_coordinate_system": ""
      }
     },
     "bc5c270808e1488d837b87bc0bcbf58a": {
      "model_module": "@jupyter-widgets/base",
      "model_module_version": "2.0.0",
      "model_name": "LayoutModel",
      "state": {
       "height": "28px",
       "padding": "0px 0px 0px 4px",
       "width": "28px"
      }
     },
     "c13b0174d4ce4439a727092bf8ac37d1": {
      "model_module": "@jupyter-widgets/controls",
      "model_module_version": "2.0.0",
      "model_name": "ToggleButtonStyleModel",
      "state": {
       "description_width": "",
       "font_family": null,
       "font_size": null,
       "font_style": null,
       "font_variant": null,
       "font_weight": null,
       "text_color": null,
       "text_decoration": null
      }
     },
     "c78213ea49b542a49bef56ef929ea378": {
      "model_module": "jupyter-leaflet",
      "model_module_version": "^0.17",
      "model_name": "LeafletFullScreenControlModel",
      "state": {
       "_model_module_version": "^0.17",
       "_view_module_version": "^0.17",
       "options": [
        "position"
       ]
      }
     },
     "c8505884838d40b09d0538e971e5245b": {
      "model_module": "@jupyter-widgets/base",
      "model_module_version": "2.0.0",
      "model_name": "LayoutModel",
      "state": {
       "height": "auto",
       "padding": "0px 0px 0px 4px",
       "width": "auto"
      }
     },
     "c8c4d77f275d4ff4907765af47b60500": {
      "model_module": "@jupyter-widgets/base",
      "model_module_version": "2.0.0",
      "model_name": "LayoutModel",
      "state": {
       "height": "auto",
       "padding": "0px 0px 0px 4px",
       "width": "auto"
      }
     },
     "cb84a479c14745849dc0323e86ff3cbc": {
      "model_module": "@jupyter-widgets/controls",
      "model_module_version": "2.0.0",
      "model_name": "ToggleButtonModel",
      "state": {
       "icon": "wrench",
       "layout": "IPY_MODEL_bc5c270808e1488d837b87bc0bcbf58a",
       "style": "IPY_MODEL_06708f1c1f8a49e2856d320ee211d1c4",
       "tooltip": "Toolbar"
      }
     },
     "ce0fe5dfecf041aba82047d647584954": {
      "model_module": "@jupyter-widgets/base",
      "model_module_version": "2.0.0",
      "model_name": "LayoutModel",
      "state": {
       "width": "340px"
      }
     },
     "cea7aed5d60641a694ace20e7f4c32b1": {
      "model_module": "@jupyter-widgets/controls",
      "model_module_version": "2.0.0",
      "model_name": "ToggleButtonStyleModel",
      "state": {
       "description_width": "",
       "font_family": null,
       "font_size": null,
       "font_style": null,
       "font_variant": null,
       "font_weight": null,
       "text_color": null,
       "text_decoration": null
      }
     },
     "d1bde5a494f64a34a1b704f6b414d5c1": {
      "model_module": "@jupyter-widgets/controls",
      "model_module_version": "2.0.0",
      "model_name": "DescriptionStyleModel",
      "state": {
       "description_width": ""
      }
     },
     "d9ec2bf7c332450995875e38694efcbe": {
      "model_module": "@jupyter-widgets/controls",
      "model_module_version": "2.0.0",
      "model_name": "ToggleButtonStyleModel",
      "state": {
       "description_width": "",
       "font_family": null,
       "font_size": null,
       "font_style": null,
       "font_variant": null,
       "font_weight": null,
       "text_color": null,
       "text_decoration": null
      }
     },
     "da9f386a3e024662abc48b7a3648e8e6": {
      "model_module": "@jupyter-widgets/output",
      "model_module_version": "1.0.0",
      "model_name": "OutputModel",
      "state": {
       "layout": "IPY_MODEL_a212db3bada54b14829673487ad5508a"
      }
     },
     "de5beafd3acc423cbcb53c8c4576974e": {
      "model_module": "jupyter-leaflet",
      "model_module_version": "^0.17",
      "model_name": "LeafletTileLayerModel",
      "state": {
       "_model_module_version": "^0.17",
       "_view_module_version": "^0.17",
       "attribution": "Google Earth Engine",
       "max_zoom": 24,
       "name": "Surrounding Administrative Units",
       "options": [
        "attribution",
        "bounds",
        "detect_retina",
        "max_native_zoom",
        "max_zoom",
        "min_native_zoom",
        "min_zoom",
        "no_wrap",
        "tile_size",
        "tms",
        "zoom_offset"
       ],
       "url": "https://earthengine.googleapis.com/v1/projects/earthengine-legacy/maps/c7e26473f4d91709dbe63847211bc983-0a82d6dd07ef0ddeb93c47808bb512fc/tiles/{z}/{x}/{y}"
      }
     },
     "def64db7c7c94797a0565bd13dca03c3": {
      "model_module": "@jupyter-widgets/base",
      "model_module_version": "2.0.0",
      "model_name": "LayoutModel",
      "state": {
       "grid_gap": "1px 1px",
       "grid_template_columns": "32px 32px 32px ",
       "grid_template_rows": "32px 32px ",
       "padding": "5px",
       "width": "109px"
      }
     },
     "df70e8438dbf48e78b07f8f288410ab6": {
      "model_module": "@jupyter-widgets/controls",
      "model_module_version": "2.0.0",
      "model_name": "ToggleButtonStyleModel",
      "state": {
       "description_width": "",
       "font_family": null,
       "font_size": null,
       "font_style": null,
       "font_variant": null,
       "font_weight": null,
       "text_color": null,
       "text_decoration": null
      }
     },
     "dfe36907f064400b93e3d4f52abf2f64": {
      "model_module": "@jupyter-widgets/base",
      "model_module_version": "2.0.0",
      "model_name": "LayoutModel",
      "state": {
       "height": "auto",
       "padding": "0px 0px 0px 4px",
       "width": "auto"
      }
     },
     "e211021e016a48b7a4fea4bde0a13a91": {
      "model_module": "@jupyter-widgets/base",
      "model_module_version": "2.0.0",
      "model_name": "LayoutModel",
      "state": {
       "height": "auto",
       "padding": "0px 0px 0px 4px",
       "width": "auto"
      }
     },
     "e2d86a2a6f734ee6bfad243c982acc64": {
      "model_module": "@jupyter-widgets/controls",
      "model_module_version": "2.0.0",
      "model_name": "VBoxModel",
      "state": {
       "children": [
        "IPY_MODEL_e31dc885a3264c5b896e83f58d08f132"
       ],
       "layout": "IPY_MODEL_82706f63ac514d5cbcb2c82c5bbcde20"
      }
     },
     "e31dc885a3264c5b896e83f58d08f132": {
      "model_module": "@jupyter-widgets/controls",
      "model_module_version": "2.0.0",
      "model_name": "GridBoxModel",
      "state": {
       "children": [
        "IPY_MODEL_276bf1a171ef43b98ba1eccd82b8295f",
        "IPY_MODEL_890359d7285e40748f03e1c56afe61d1",
        "IPY_MODEL_453eb64cc06a4389a8f71e269369cbf0",
        "IPY_MODEL_5260efc570384eb09975215961ec559a",
        "IPY_MODEL_b882679b494b4190939e40713b98fa76",
        "IPY_MODEL_ad24d4a1a19c45d9871078690b61e24a"
       ],
       "layout": "IPY_MODEL_def64db7c7c94797a0565bd13dca03c3"
      }
     },
     "e4bb7ca037944aad836e960b0b155eca": {
      "model_module": "@jupyter-widgets/controls",
      "model_module_version": "2.0.0",
      "model_name": "RadioButtonsModel",
      "state": {
       "index": null,
       "layout": "IPY_MODEL_f2c7aef72ffd457e8064bb5de4c2784b",
       "style": "IPY_MODEL_d1bde5a494f64a34a1b704f6b414d5c1"
      }
     },
     "e9dc049f1e8e4043ac974442719cce90": {
      "model_module": "jupyter-leaflet",
      "model_module_version": "^0.17",
      "model_name": "LeafletMeasureControlModel",
      "state": {
       "_model_module_version": "^0.17",
       "_view_module_version": "^0.17",
       "active_color": "orange",
       "options": [
        "active_color",
        "capture_z_index",
        "completed_color",
        "popup_options",
        "position",
        "primary_area_unit",
        "primary_length_unit",
        "secondary_area_unit",
        "secondary_length_unit"
       ],
       "position": "bottomleft",
       "primary_length_unit": "kilometers",
       "secondary_area_unit": null,
       "secondary_length_unit": null
      }
     },
     "ead70a7eb3004d87b8f9064121eefbcc": {
      "model_module": "@jupyter-widgets/controls",
      "model_module_version": "2.0.0",
      "model_name": "ToggleButtonStyleModel",
      "state": {
       "description_width": "",
       "font_family": null,
       "font_size": null,
       "font_style": null,
       "font_variant": null,
       "font_weight": null,
       "text_color": null,
       "text_decoration": null
      }
     },
     "ec2115fd50664acc8043206897d05253": {
      "model_module": "@jupyter-widgets/controls",
      "model_module_version": "2.0.0",
      "model_name": "ToggleButtonModel",
      "state": {
       "icon": "globe",
       "layout": "IPY_MODEL_9babad48c2bf488a8dfae0abaa8a33f4",
       "style": "IPY_MODEL_57bb6112c78b479da2d8a91888f72021",
       "tooltip": "Search location/data"
      }
     },
     "f011a40589434cda8f2c3ff415e0c9e4": {
      "model_module": "@jupyter-widgets/base",
      "model_module_version": "2.0.0",
      "model_name": "LayoutModel",
      "state": {
       "height": "auto",
       "padding": "0px 0px 0px 4px",
       "width": "auto"
      }
     },
     "f2c7aef72ffd457e8064bb5de4c2784b": {
      "model_module": "@jupyter-widgets/base",
      "model_module_version": "2.0.0",
      "model_name": "LayoutModel",
      "state": {}
     },
     "f3f6392007734995b4e91a2d0b61fbef": {
      "model_module": "@jupyter-widgets/controls",
      "model_module_version": "2.0.0",
      "model_name": "ToggleButtonStyleModel",
      "state": {
       "description_width": "",
       "font_family": null,
       "font_size": null,
       "font_style": null,
       "font_variant": null,
       "font_weight": null,
       "text_color": null,
       "text_decoration": null
      }
     },
     "f682686552704eb7ad1d2ad3099851fe": {
      "model_module": "@jupyter-widgets/controls",
      "model_module_version": "2.0.0",
      "model_name": "TextModel",
      "state": {
       "layout": "IPY_MODEL_ce0fe5dfecf041aba82047d647584954",
       "placeholder": "Search by place name or address",
       "style": "IPY_MODEL_5898aedbfb3840c491437e92f7941fd5",
       "tooltip": "Search location"
      }
     },
     "f8db6f1cc54e4b08943a4d7f9e85622c": {
      "model_module": "@jupyter-widgets/controls",
      "model_module_version": "2.0.0",
      "model_name": "ToggleButtonStyleModel",
      "state": {
       "description_width": "",
       "font_family": null,
       "font_size": null,
       "font_style": null,
       "font_variant": null,
       "font_weight": null,
       "text_color": null,
       "text_decoration": null
      }
     },
     "ff24fede802247fda8f7b7285e87f627": {
      "model_module": "@jupyter-widgets/controls",
      "model_module_version": "2.0.0",
      "model_name": "ToggleButtonModel",
      "state": {
       "button_style": "primary",
       "icon": "gears",
       "layout": "IPY_MODEL_c8c4d77f275d4ff4907765af47b60500",
       "style": "IPY_MODEL_cea7aed5d60641a694ace20e7f4c32b1",
       "tooltip": "WhiteboxTools for local geoprocessing"
      }
     }
    },
    "version_major": 2,
    "version_minor": 0
   }
  }
 },
 "nbformat": 4,
 "nbformat_minor": 5
}
